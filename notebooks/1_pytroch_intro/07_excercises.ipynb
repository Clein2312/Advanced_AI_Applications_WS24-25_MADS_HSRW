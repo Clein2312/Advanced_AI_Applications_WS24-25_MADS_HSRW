{
 "cells": [
  {
   "cell_type": "code",
   "execution_count": 1,
   "metadata": {},
   "outputs": [],
   "source": [
    "import torch\n",
    "import seaborn as sns\n",
    "import sys\n",
    "from pathlib import Path\n",
    "sys.path.insert(0, \"../..\")"
   ]
  },
  {
   "cell_type": "code",
   "execution_count": 2,
   "metadata": {},
   "outputs": [],
   "source": [
    "from src.data import make_dataset\n",
    "from src.models import imagemodels\n",
    "from src.models import train_model\n",
    "import gin\n"
   ]
  },
  {
   "cell_type": "code",
   "execution_count": 3,
   "metadata": {},
   "outputs": [
    {
     "data": {
      "text/plain": [
       "ParsedConfigFileIncludesAndImports(filename='model.gin', imports=['gin.torch.external_configurables'], includes=[])"
      ]
     },
     "execution_count": 3,
     "metadata": {},
     "output_type": "execute_result"
    }
   ],
   "source": [
    "gin.parse_config_file(\"model.gin\")"
   ]
  },
  {
   "cell_type": "markdown",
   "metadata": {},
   "source": [
    "We will be using `gin-config` to easily keep track of our experiments, and to easily save the different things we did during our experiments.\n",
    "\n",
    "The `model.gin` file is a simple file that will try to load parameters for funcitons that are already imported. \n",
    "\n",
    "So, if you wouldnt have imported train_model, the ginfile would not be able to parse settings for train_model.trainloop and will give an error.\n",
    "\n",
    "We can print all the settings that are operational with `gin.operative_config_str()` once we have loaded the functions to memory."
   ]
  },
  {
   "cell_type": "markdown",
   "metadata": {},
   "source": [
    "So, while `.get_MNIST()` has two parameters that need to be set (a batchsize and a datadir), we can now load the function without having to do that: gin has done it already for us."
   ]
  },
  {
   "cell_type": "code",
   "execution_count": 7,
   "metadata": {},
   "outputs": [],
   "source": [
    "train_dataloader, test_dataloader = make_dataset.get_MNIST()"
   ]
  },
  {
   "cell_type": "code",
   "execution_count": 8,
   "metadata": {},
   "outputs": [
    {
     "name": "stdout",
     "output_type": "stream",
     "text": [
      "import gin.torch.external_configurables\n",
      "\n",
      "# Parameters for CrossEntropyLoss:\n",
      "# ==============================================================================\n",
      "CrossEntropyLoss.ignore_index = -100\n",
      "CrossEntropyLoss.label_smoothing = 0.0\n",
      "CrossEntropyLoss.reduce = None\n",
      "CrossEntropyLoss.reduction = 'mean'\n",
      "CrossEntropyLoss.size_average = None\n",
      "CrossEntropyLoss.weight = None\n",
      "\n",
      "# Parameters for get_MNIST:\n",
      "# ==============================================================================\n",
      "get_MNIST.batch_size = 32\n",
      "get_MNIST.data_dir = '../../data/raw'\n",
      "\n",
      "# Parameters for NeuralNetwork:\n",
      "# ==============================================================================\n",
      "NeuralNetwork.num_classes = 10\n",
      "NeuralNetwork.units1 = 512\n",
      "NeuralNetwork.units2 = 512\n",
      "\n",
      "# Parameters for trainloop:\n",
      "# ==============================================================================\n",
      "trainloop.epochs = 10\n",
      "trainloop.factor = 0.9\n",
      "trainloop.learning_rate = 0.001\n",
      "trainloop.log_dir = '../../models/sgd/'\n",
      "trainloop.loss_fn = @CrossEntropyLoss()\n",
      "trainloop.optimizer = @SGD\n",
      "trainloop.patience = 10\n",
      "trainloop.tunewriter = False\n",
      "\n"
     ]
    }
   ],
   "source": [
    "print(gin.operative_config_str())"
   ]
  },
  {
   "cell_type": "markdown",
   "metadata": {},
   "source": [
    "A big advantage is that we can save this config as a file; that way it is easy to track what you changed during your experiments."
   ]
  },
  {
   "cell_type": "code",
   "execution_count": 10,
   "metadata": {},
   "outputs": [],
   "source": [
    "from src.models import metrics\n",
    "accuracy = metrics.Accuracy()"
   ]
  },
  {
   "cell_type": "code",
   "execution_count": 11,
   "metadata": {},
   "outputs": [
    {
     "name": "stderr",
     "output_type": "stream",
     "text": [
      "2022-11-22 19:28:54.039 | INFO     | src.data.data_tools:dir_add_timestamp:114 - Logging to ../../models/sgd/20221122-1928\n",
      "100%|██████████| 100/100 [00:00<00:00, 315.03it/s]\n",
      "2022-11-22 19:28:54.605 | INFO     | src.models.train_model:trainloop:171 - Epoch 0 train 2.2957 test 2.2870 metric ['0.1266']\n",
      "100%|██████████| 100/100 [00:00<00:00, 314.77it/s]\n",
      "2022-11-22 19:28:55.094 | INFO     | src.models.train_model:trainloop:171 - Epoch 1 train 2.2801 test 2.2713 metric ['0.2009']\n",
      "100%|██████████| 100/100 [00:00<00:00, 306.41it/s]\n",
      "2022-11-22 19:28:55.579 | INFO     | src.models.train_model:trainloop:171 - Epoch 2 train 2.2656 test 2.2560 metric ['0.2828']\n",
      "100%|██████████| 100/100 [00:00<00:00, 323.18it/s]\n",
      "2022-11-22 19:28:56.049 | INFO     | src.models.train_model:trainloop:171 - Epoch 3 train 2.2468 test 2.2376 metric ['0.3759']\n",
      "100%|██████████| 100/100 [00:00<00:00, 314.09it/s]\n",
      "2022-11-22 19:28:56.529 | INFO     | src.models.train_model:trainloop:171 - Epoch 4 train 2.2311 test 2.2208 metric ['0.3997']\n",
      "100%|██████████| 100/100 [00:00<00:00, 332.20it/s]\n",
      "2022-11-22 19:28:56.991 | INFO     | src.models.train_model:trainloop:171 - Epoch 5 train 2.2150 test 2.2066 metric ['0.4172']\n",
      "100%|██████████| 100/100 [00:00<00:00, 334.70it/s]\n",
      "2022-11-22 19:28:57.448 | INFO     | src.models.train_model:trainloop:171 - Epoch 6 train 2.1972 test 2.1894 metric ['0.4441']\n",
      "100%|██████████| 100/100 [00:00<00:00, 348.91it/s]\n",
      "2022-11-22 19:28:57.899 | INFO     | src.models.train_model:trainloop:171 - Epoch 7 train 2.1756 test 2.1650 metric ['0.4688']\n",
      "100%|██████████| 100/100 [00:00<00:00, 320.67it/s]\n",
      "2022-11-22 19:28:58.373 | INFO     | src.models.train_model:trainloop:171 - Epoch 8 train 2.1594 test 2.1490 metric ['0.4928']\n",
      "100%|██████████| 100/100 [00:00<00:00, 326.62it/s]\n",
      "2022-11-22 19:28:58.834 | INFO     | src.models.train_model:trainloop:171 - Epoch 9 train 2.1384 test 2.1281 metric ['0.5166']\n",
      "100%|██████████| 10/10 [00:04<00:00,  2.12it/s]\n"
     ]
    }
   ],
   "source": [
    "gin.parse_config_file(\"model.gin\")\n",
    "\n",
    "model = imagemodels.NeuralNetwork()\n",
    "\n",
    "model =  train_model.trainloop(\n",
    "    model=model,\n",
    "    train_dataloader=train_dataloader,\n",
    "    test_dataloader=test_dataloader,\n",
    "    metrics=[accuracy],\n",
    "    train_steps=100,\n",
    "    eval_steps=100,\n",
    ")"
   ]
  },
  {
   "cell_type": "markdown",
   "metadata": {},
   "source": [
    "Run the experiment, and study the result with tensorboard. \n",
    "\n",
    "Locally, it is easy to do that with VS code itself. On the server, you have to take these steps:\n",
    "\n",
    "- in the terminal, navigate to ~/code/ML22 \n",
    "- activate the python environment for the shell with `poetry shell`. Note how the correct environment is being activated.\n",
    "- run `tensorboard --logdir=models` in the terminal\n",
    "- tensorboard will launch at `localhost:6006` and vscode will notify you that the port is forwarded\n",
    "- you can either press the `launch` button in VScode or open your local browser at `localhost:6006`\n",
    "\n",
    "Experiment with things like:\n",
    "\n",
    "- changing the amount of units1 and units2 to values between 16 and 1024. Use factors of 2: 16, 32, 64, etc.\n",
    "- changing the batchsize to values between 4 and 128. Again, use factors of two.\n",
    "- all your experiments are saved in the `models` directory, with a timestamp. Inside you find a saved_config.gin file, that \n",
    "contains all the settings for that experiment. The `events` file is what tensorboard will show.\n",
    "- plot the result in a heatmap: units vs batchsize.\n",
    "- changing the learningrate to values between 1e-2 and 1e-5 \n",
    "- changing the optimizer from SGD to one of the other available algoritms at [torch](https://pytorch.org/docs/stable/optim.html) (scroll down for the algorithms)\n",
    "\n",
    "A note on train_steps: this is a setting that determines how often you get an update. \n",
    "Because our complete dataset is 938 (60000 / 64) batches long, you will need 938 trainstep to cover the complete 60.000 images.\n",
    "\n",
    "This can actually be a bit confusion, because every value below 938 changes the meaning of `epoch` slightly, because one epoch is no longer\n",
    "the full dataset, but simply `trainstep` batches. Setting trainsteps to 100 means you need to wait twice as long before you get feedback on the performance,\n",
    "as compared to trainsteps=50. You will also see that settings trainsteps to 100 improves the learning, but that is simply because the model has seen twice as \n",
    "much examples as compared to trainsteps=50.\n",
    "\n",
    "This implies that it is not usefull to compare trainsteps=50 and trainsteps=100, because setting it to 100 will always be better.\n",
    "Just pick an amount, and adjust your number of epochs accordingly."
   ]
  },
  {
   "cell_type": "markdown",
   "metadata": {},
   "source": []
  }
 ],
 "metadata": {
  "kernelspec": {
   "display_name": "Python 3.9.13 ('deep-learning-wM7qE7ca-py3.9')",
   "language": "python",
   "name": "python3"
  },
  "language_info": {
   "codemirror_mode": {
    "name": "ipython",
    "version": 3
   },
   "file_extension": ".py",
   "mimetype": "text/x-python",
   "name": "python",
   "nbconvert_exporter": "python",
   "pygments_lexer": "ipython3",
   "version": "3.9.13"
  },
  "orig_nbformat": 4,
  "vscode": {
   "interpreter": {
    "hash": "9384df97cb25cd0ffeadd8ca5fc8c3b92d252d40e81804b4c63c6d046c91939e"
   }
  }
 },
 "nbformat": 4,
 "nbformat_minor": 2
}
