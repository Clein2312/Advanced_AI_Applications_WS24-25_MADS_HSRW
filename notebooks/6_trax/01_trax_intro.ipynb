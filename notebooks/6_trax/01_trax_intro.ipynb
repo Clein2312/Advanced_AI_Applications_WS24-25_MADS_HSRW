{
 "cells": [
  {
   "cell_type": "code",
   "execution_count": 65,
   "metadata": {},
   "outputs": [],
   "source": [
    "import trax\n",
    "from trax import layers as tl\n",
    "from trax.shapes import signature\n",
    "import jax.numpy as jnp\n",
    "import numpy as np"
   ]
  },
  {
   "cell_type": "code",
   "execution_count": 66,
   "metadata": {},
   "outputs": [
    {
     "data": {
      "text/plain": [
       "ShapeDtype{shape:(5, 3), dtype:float64}"
      ]
     },
     "execution_count": 66,
     "metadata": {},
     "output_type": "execute_result"
    }
   ],
   "source": [
    "X = np.random.normal(loc=0, scale=0.1, size=(5,3))\n",
    "signature(X)"
   ]
  },
  {
   "cell_type": "code",
   "execution_count": 79,
   "metadata": {},
   "outputs": [],
   "source": [
    "def print_info(model, yhat):\n",
    "    print(f\"input: {model.n_in}\")\n",
    "    print(f\"output: {model.n_out}\")\n",
    "    print(f\"Signature: {signature(yhat)}\")"
   ]
  },
  {
   "cell_type": "code",
   "execution_count": 80,
   "metadata": {},
   "outputs": [
    {
     "data": {
      "text/plain": [
       "(array([[ 0.01561314, -0.01694871, -0.039871  ],\n",
       "        [ 0.07181149, -0.04606745, -0.1203104 ],\n",
       "        [-0.0495206 , -0.03870095,  0.0915289 ],\n",
       "        [ 0.06205908, -0.03711139, -0.02789194],\n",
       "        [ 0.1220953 , -0.08110519, -0.12254368]]),\n",
       " DeviceArray([[0.01561314, 0.        , 0.        ],\n",
       "              [0.07181149, 0.        , 0.        ],\n",
       "              [0.        , 0.        , 0.0915289 ],\n",
       "              [0.06205908, 0.        , 0.        ],\n",
       "              [0.12209529, 0.        , 0.        ]], dtype=float32))"
      ]
     },
     "execution_count": 80,
     "metadata": {},
     "output_type": "execute_result"
    }
   ],
   "source": [
    "relu = tl.Relu()\n",
    "yhat = relu(X)\n",
    "X, yhat"
   ]
  },
  {
   "cell_type": "code",
   "execution_count": 81,
   "metadata": {},
   "outputs": [
    {
     "name": "stdout",
     "output_type": "stream",
     "text": [
      "input: 1\n",
      "output: 1\n",
      "Signature: ShapeDtype{shape:(5, 3), dtype:float32}\n"
     ]
    }
   ],
   "source": [
    "print_info(relu, yhat)"
   ]
  },
  {
   "cell_type": "code",
   "execution_count": 82,
   "metadata": {},
   "outputs": [
    {
     "name": "stdout",
     "output_type": "stream",
     "text": [
      "input: 2\n",
      "output: 1\n",
      "Signature: ShapeDtype{shape:(5, 6), dtype:float32}\n"
     ]
    }
   ],
   "source": [
    "concat = tl.Concatenate()\n",
    "yhat = concat([X, X])\n",
    "print_info(concat, yhat)"
   ]
  },
  {
   "cell_type": "code",
   "execution_count": 83,
   "metadata": {},
   "outputs": [
    {
     "name": "stdout",
     "output_type": "stream",
     "text": [
      "input: 3\n",
      "output: 1\n",
      "Signature: ShapeDtype{shape:(5, 9), dtype:float32}\n"
     ]
    }
   ],
   "source": [
    "concat3 = tl.Concatenate(n_items=3)\n",
    "yhat = concat3([X, X, X])\n",
    "print_info(concat3, yhat)"
   ]
  },
  {
   "cell_type": "code",
   "execution_count": 84,
   "metadata": {},
   "outputs": [],
   "source": [
    "from trax.layers import combinators as cb"
   ]
  },
  {
   "cell_type": "code",
   "execution_count": 86,
   "metadata": {},
   "outputs": [
    {
     "name": "stdout",
     "output_type": "stream",
     "text": [
      "input: 1\n",
      "output: 1\n",
      "Signature: ShapeDtype{shape:(5, 128), dtype:float32}\n"
     ]
    }
   ],
   "source": [
    "model1 = cb.Serial(\n",
    "    tl.Dense(128),\n",
    "    tl.Relu(),\n",
    ")\n",
    "model1.init_weights_and_state(signature(X))\n",
    "yhat = model1(X)\n",
    "print_info(model1, yhat)"
   ]
  },
  {
   "cell_type": "code",
   "execution_count": 87,
   "metadata": {},
   "outputs": [
    {
     "name": "stdout",
     "output_type": "stream",
     "text": [
      "input: 1\n",
      "output: 1\n",
      "Signature: ShapeDtype{shape:(5, 32), dtype:float32}\n"
     ]
    }
   ],
   "source": [
    "model2 = cb.Serial(\n",
    "    tl.Dense(64),\n",
    "    tl.Relu(),\n",
    "    tl.Dense(32),\n",
    "    tl.Relu(),\n",
    ") \n",
    "model2.init_weights_and_state(signature(X))\n",
    "yhat = model2(X)\n",
    "print_info(model2, yhat)"
   ]
  },
  {
   "cell_type": "code",
   "execution_count": 88,
   "metadata": {},
   "outputs": [
    {
     "name": "stdout",
     "output_type": "stream",
     "text": [
      "input: 1\n",
      "output: 2\n",
      "Signature: (ShapeDtype{shape:(5, 128), dtype:float32}, ShapeDtype{shape:(5, 32), dtype:float32})\n"
     ]
    }
   ],
   "source": [
    "model = cb.Serial(\n",
    "    cb.Branch(model1, model2)\n",
    ")\n",
    "model.init_weights_and_state(signature(X))\n",
    "yhat = model(X)\n",
    "print_info(model, yhat)"
   ]
  },
  {
   "cell_type": "code",
   "execution_count": 89,
   "metadata": {},
   "outputs": [
    {
     "name": "stdout",
     "output_type": "stream",
     "text": [
      "input: 1\n",
      "output: 1\n",
      "Signature: ShapeDtype{shape:(5, 160), dtype:float32}\n"
     ]
    }
   ],
   "source": [
    "model = cb.Serial(\n",
    "    cb.Branch(model1, model2),\n",
    "    cb.Concatenate()\n",
    ")\n",
    "model.init_weights_and_state(signature(X))\n",
    "yhat = model(X)\n",
    "print_info(model, yhat)"
   ]
  },
  {
   "cell_type": "code",
   "execution_count": 90,
   "metadata": {},
   "outputs": [
    {
     "name": "stdout",
     "output_type": "stream",
     "text": [
      "input: 1\n",
      "output: 1\n",
      "Signature: ShapeDtype{shape:(32, 10, 128), dtype:float32}\n"
     ]
    }
   ],
   "source": [
    "X = np.random.rand(32, 10, 128)\n",
    "\n",
    "dnn = cb.Serial(\n",
    "    tl.Dense(128),\n",
    "    tl.Relu(),\n",
    "    tl.Dense(128),\n",
    "    tl.Relu(),\n",
    ") \n",
    "\n",
    "\n",
    "residual = cb.Serial(\n",
    "    cb.Branch([], dnn),\n",
    "    cb.Add()\n",
    ")\n",
    "\n",
    "residual.init_weights_and_state(signature(X))\n",
    "yhat = residual(X)\n",
    "print_info(residual, yhat)"
   ]
  }
 ],
 "metadata": {
  "interpreter": {
   "hash": "a15911aab0965639e9482f052beb89e7ca291bb3f153727c5758e3fe9ad1321e"
  },
  "kernelspec": {
   "display_name": "Python 3.8.13 ('deep-learning-xB8KIJr7-py3.9')",
   "language": "python",
   "name": "python3"
  },
  "language_info": {
   "codemirror_mode": {
    "name": "ipython",
    "version": 3
   },
   "file_extension": ".py",
   "mimetype": "text/x-python",
   "name": "python",
   "nbconvert_exporter": "python",
   "pygments_lexer": "ipython3",
   "version": "3.8.13"
  },
  "orig_nbformat": 4
 },
 "nbformat": 4,
 "nbformat_minor": 2
}
