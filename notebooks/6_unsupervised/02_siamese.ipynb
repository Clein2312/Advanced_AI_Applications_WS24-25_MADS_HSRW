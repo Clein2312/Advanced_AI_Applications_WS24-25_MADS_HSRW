{
 "cells": [
  {
   "cell_type": "code",
   "execution_count": 2,
   "metadata": {},
   "outputs": [],
   "source": [
    "import sys\n",
    "import jax.numpy as jnp\n",
    "import numpy as np\n",
    "from trax import layers as tl\n",
    "from trax.shapes import signature\n",
    "from trax.layers import combinators as cb\n",
    "from trax.layers.assert_shape import assert_shape\n",
    "\n",
    "sys.path.insert(0, \"../..\")\n",
    "from src.models.build import summary\n",
    "from pathlib import Path\n",
    "from src.data import data_tools\n",
    "\n",
    "from src.settings import SiameseSettings\n",
    "\n",
    "settings = SiameseSettings()\n"
   ]
  },
  {
   "cell_type": "markdown",
   "metadata": {},
   "source": [
    "# load image data"
   ]
  },
  {
   "cell_type": "code",
   "execution_count": 3,
   "metadata": {},
   "outputs": [
    {
     "name": "stderr",
     "output_type": "stream",
     "text": [
      "100%|██████████| 3.80M/3.80M [00:01<00:00, 3.46MiB/s]\n"
     ]
    }
   ],
   "source": [
    "url = settings.url\n",
    "data_dir = settings.data_dir\n",
    "data_tools.get_file(data_dir, settings.file, url)\n"
   ]
  },
  {
   "cell_type": "markdown",
   "metadata": {},
   "source": [
    "# get the paths"
   ]
  },
  {
   "cell_type": "code",
   "execution_count": 4,
   "metadata": {},
   "outputs": [],
   "source": [
    "from src.data import data_tools\n",
    "\n",
    "paths, _ = data_tools.iter_valid_paths(data_dir / settings.training, formats=[\".pgm\"])\n"
   ]
  },
  {
   "cell_type": "markdown",
   "metadata": {},
   "source": [
    "Lets have a look at a file.\n",
    "This dataset consists of faces of 40 subjects, and every subject has 10 photos."
   ]
  },
  {
   "cell_type": "code",
   "execution_count": 7,
   "metadata": {},
   "outputs": [
    {
     "name": "stdout",
     "output_type": "stream",
     "text": [
      "Shape: (112, 92)\n"
     ]
    },
    {
     "data": {
      "image/png": "[encoded data removed]",
      "text/plain": [
       "<PIL.PpmImagePlugin.PpmImageFile image mode=L size=92x112>"
      ]
     },
     "execution_count": 7,
     "metadata": {},
     "output_type": "execute_result"
    }
   ],
   "source": [
    "file = next(paths)\n",
    "from PIL import Image\n",
    "\n",
    "img = Image.open(file)\n",
    "print(f\"Shape: {np.array(img).shape}\")\n",
    "img\n"
   ]
  },
  {
   "cell_type": "markdown",
   "metadata": {},
   "source": [
    "Images are shaped (112, 92, 1)"
   ]
  },
  {
   "cell_type": "code",
   "execution_count": 8,
   "metadata": {},
   "outputs": [
    {
     "data": {
      "text/plain": [
       "(32, 112, 92, 1)"
      ]
     },
     "execution_count": 8,
     "metadata": {},
     "output_type": "execute_result"
    }
   ],
   "source": [
    "import numpy as np\n",
    "\n",
    "rng = np.random.default_rng()\n",
    "X = rng.random((32,) + np.array(img).shape + (1,))\n",
    "X.shape\n"
   ]
  },
  {
   "cell_type": "markdown",
   "metadata": {},
   "source": [
    "Now, what we will do is build a siamese network.\n",
    "\n",
    "Why would you want to do that? \n",
    "## Case 1\n",
    "Well, let's say you want to train an image model that is used for a safety camera. \n",
    "You would want to know: is this person entering the building the same person as is shown on the passport?\n",
    "\n",
    "A human can compare the two images, but how about a model?\n",
    "We can't train a model to classify all human faces into one of 7 billion classes, so classification does not seem to be the way to go.\n",
    "\n",
    "So, how to solve this?\n",
    "## Case 2\n",
    "You want a model that checks if a signature of a person matches the signature you have in your database. Again, you could do classification but you will quickly run into problems; what if you have 10.000 signatures?\n",
    "\n",
    "For cases like this, we can train a siamese model.\n"
   ]
  },
  {
   "cell_type": "markdown",
   "metadata": {},
   "source": [
    "<img src=\"https://929687.smushcdn.com/2633864/wp-content/uploads/2020/11/keras_siamese_networks_header.png?lossy=1&strip=1&webp=1\" />\n",
    "\n",
    "The idea of the siamese model is to have an encoder that transforms images into vectors.\n",
    "\n",
    "We then compare the two vectors. If the two faces, signatures, soundbytes, birdsongs, etc. etc. are the same, the embedding be close to each other.\n",
    "If they are not the same, the should be far away.\n",
    "\n",
    "This is a slight variation on the autoencoder that also has to figure out clusters, but now we don't need to reconstruct an image. We just want the embedding to discern unique characteristics of a face, signature, etc.\n",
    "\n",
    "Our basemodel is a basic CNN"
   ]
  },
  {
   "cell_type": "code",
   "execution_count": 9,
   "metadata": {},
   "outputs": [
    {
     "name": "stderr",
     "output_type": "stream",
     "text": [
      "WARNING:absl:No GPU/TPU found, falling back to CPU. (Set TF_CPP_MIN_LOG_LEVEL=0 and rerun for more info.)\n"
     ]
    },
    {
     "name": "stdout",
     "output_type": "stream",
     "text": [
      "layer                   input                dtype     output               dtype \n",
      "(0) Conv                (32, 112, 92, 1)   (float64) | (32, 37, 30, 96)   (float32)\n",
      "(1) Relu                (32, 37, 30, 96)   (float32) | (32, 37, 30, 96)   (float32)\n",
      "(2) Conv                (32, 37, 30, 96)   (float32) | (32, 18, 14, 256)  (float32)\n",
      "(3) Relu                (32, 18, 14, 256)  (float32) | (32, 18, 14, 256)  (float32)\n",
      "(4) Conv                (32, 18, 14, 256)  (float32) | (32, 8, 6, 384)    (float32)\n",
      "(5) Relu                (32, 8, 6, 384)    (float32) | (32, 8, 6, 384)    (float32)\n",
      "(6) Avg2D               (32, 8, 6, 384)    (float32) | (32, 384)          (float32)\n"
     ]
    },
    {
     "data": {
      "text/plain": [
       "ShapeDtype{shape:(32, 384), dtype:float32}"
      ]
     },
     "execution_count": 9,
     "metadata": {},
     "output_type": "execute_result"
    }
   ],
   "source": [
    "def Avg2D():\n",
    "    return tl.Fn(\"Avg2D\", lambda x: x.mean(axis=(1, 2)), n_out=1)\n",
    "\n",
    "\n",
    "@assert_shape(\"bwhc->bd\")\n",
    "def Encoder(config) -> cb.Serial:\n",
    "    model = cb.Serial(\n",
    "        tl.Conv(config[\"filters1\"], kernel_size=(3, 3), strides=(3, 3)),\n",
    "        tl.Relu(),\n",
    "        tl.Conv(config[\"filters2\"], kernel_size=(3, 3), strides=(2, 2)),\n",
    "        tl.Relu(),\n",
    "        tl.Conv(config[\"filters3\"], kernel_size=(3, 3), strides=(2, 2)),\n",
    "        tl.Relu(),\n",
    "        Avg2D(),\n",
    "    )\n",
    "    return model\n",
    "\n",
    "\n",
    "config = {\n",
    "    \"filters1\": 96,\n",
    "    \"filters2\": 256,\n",
    "    \"filters3\": 384,\n",
    "}\n",
    "encoder = Encoder(config)\n",
    "encoder.init_weights_and_state(signature(X))\n",
    "summary(encoder, X)\n"
   ]
  },
  {
   "cell_type": "markdown",
   "metadata": {},
   "source": [
    "As you can check, we start out with a batch of 32 images, each (112,92) big, with 1 channel.\n",
    "Our model has three layers, and transforms the images into vectors of lenght 384.\n",
    "At the final step, we have feature maps of (8,6) pixels and we just take the average activation of those maps.\n",
    "\n",
    "The idea of the siamese model is to calculate the distance between the two.\n",
    "We will subtract and calculate the L2 norm, $$\\sqrt{||x_1 - x_2||^2}$$\n",
    "\n",
    "This is a generalized form of the Pythagoras formula"
   ]
  },
  {
   "cell_type": "code",
   "execution_count": 10,
   "metadata": {},
   "outputs": [
    {
     "data": {
      "text/plain": [
       "array([0.99638569, 1.36652624, 1.48942232, 0.94027443, 1.21886967,\n",
       "       1.26840181, 1.15881783, 1.13957163, 0.86302176, 0.91448523,\n",
       "       1.22596086, 1.09914518, 0.87619859, 1.21851909, 1.10739297,\n",
       "       1.41997306, 1.32995764, 1.30953545, 0.93793056, 0.85151571,\n",
       "       1.22637958, 0.96671051, 1.05905192, 1.66361459, 1.12266768,\n",
       "       1.35447261, 1.47397101, 1.68142885, 1.23346268, 0.95225442,\n",
       "       0.80216615, 1.10539865])"
      ]
     },
     "execution_count": 10,
     "metadata": {},
     "output_type": "execute_result"
    }
   ],
   "source": [
    "x1 = rng.random((32, 8))\n",
    "x2 = rng.random((32, 8))\n",
    "yhat = rng.integers(0, 2, 32)\n",
    "distance = np.linalg.norm(x1 - x2, axis=-1)\n",
    "distance\n"
   ]
  },
  {
   "cell_type": "markdown",
   "metadata": {},
   "source": [
    "Our aim is:\n",
    "we want the images from the same class (the same person) to be close to each other, and images from different persons to be far away.\n",
    "\n",
    "We do this with contrastive loss:\n",
    "$$\\hat{y} * d + (1-\\hat{y}) * max(0, m - d)$$\n",
    "\n",
    "where $m$ is the margin we choose as \"close\", so let's take a distance of 1.0.\n",
    "Let's implement this as a proper loss class."
   ]
  },
  {
   "cell_type": "code",
   "execution_count": 11,
   "metadata": {},
   "outputs": [
    {
     "data": {
      "text/plain": [
       "DeviceArray(0.6975856, dtype=float32)"
      ]
     },
     "execution_count": 11,
     "metadata": {},
     "output_type": "execute_result"
    }
   ],
   "source": [
    "class ContrastiveLoss:\n",
    "    def __init__(self, margin: float = 1.0):\n",
    "        self.margin = margin\n",
    "\n",
    "    def __repr__(self) -> str:\n",
    "        return \"ContrastiveLoss\"\n",
    "\n",
    "    def __call__(self, y1, y2, yhat):\n",
    "        distance = jnp.linalg.norm(y1 - y2, axis=-1)\n",
    "        # this prevents to distance to become too close to zero, or too far away\n",
    "        distance_ = jnp.clip(distance, 1e-14, 10)\n",
    "        return jnp.mean(\n",
    "            yhat * distance + (1 - yhat) * jnp.maximum(0, self.margin - distance)\n",
    "        )\n",
    "\n",
    "\n",
    "loss = ContrastiveLoss()\n",
    "loss(x1, x2, yhat)\n"
   ]
  },
  {
   "cell_type": "markdown",
   "metadata": {},
   "source": [
    "With trax, creating a Siamese network is a piece of cake."
   ]
  },
  {
   "cell_type": "code",
   "execution_count": 12,
   "metadata": {},
   "outputs": [],
   "source": [
    "def Siamese(config):\n",
    "    encoder = Encoder(config)\n",
    "    model = cb.Parallel(encoder, encoder)\n",
    "    return model\n"
   ]
  },
  {
   "cell_type": "code",
   "execution_count": 13,
   "metadata": {},
   "outputs": [
    {
     "data": {
      "text/plain": [
       "(ShapeDtype{shape:(32, 384), dtype:float32},\n",
       " ShapeDtype{shape:(32, 384), dtype:float32})"
      ]
     },
     "execution_count": 13,
     "metadata": {},
     "output_type": "execute_result"
    }
   ],
   "source": [
    "img1 = rng.random((32,) + np.array(img).shape + (1,))\n",
    "img2 = rng.random((32,) + np.array(img).shape + (1,))\n",
    "y = rng.random(32)\n",
    "siamese = Siamese(config)\n",
    "siamese.init_weights_and_state(signature((img1, img2)))\n",
    "x1, x2 = siamese((img1, img2))\n",
    "signature((x1, x2))\n"
   ]
  },
  {
   "cell_type": "code",
   "execution_count": 33,
   "metadata": {},
   "outputs": [
    {
     "data": {
      "text/plain": [
       "DeviceArray(0.4690957, dtype=float32)"
      ]
     },
     "execution_count": 33,
     "metadata": {},
     "output_type": "execute_result"
    }
   ],
   "source": [
    "loss(x1, x2, y)"
   ]
  },
  {
   "cell_type": "markdown",
   "metadata": {},
   "source": [
    "All that is left to do is to create a proper dataloader, and to wrap everything in a trainloop.\n",
    "\n",
    "Another strategy would be to use transfer learing;\n",
    "e.g. if we load a pretrained resnet from torchvision, and slap on a final Dense layer, \n",
    "our training is probably faster and more accurate."
   ]
  }
 ],
 "metadata": {
  "interpreter": {
   "hash": "a15911aab0965639e9482f052beb89e7ca291bb3f153727c5758e3fe9ad1321e"
  },
  "kernelspec": {
   "display_name": "Python 3.8.13 ('deep-learning-xB8KIJr7-py3.9')",
   "language": "python",
   "name": "python3"
  },
  "language_info": {
   "codemirror_mode": {
    "name": "ipython",
    "version": 3
   },
   "file_extension": ".py",
   "mimetype": "text/x-python",
   "name": "python",
   "nbconvert_exporter": "python",
   "pygments_lexer": "ipython3",
   "version": "3.8.13"
  },
  "orig_nbformat": 4
 },
 "nbformat": 4,
 "nbformat_minor": 2
}
