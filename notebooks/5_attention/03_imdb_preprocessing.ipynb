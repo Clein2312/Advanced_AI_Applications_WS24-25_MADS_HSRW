{
 "cells": [
  {
   "cell_type": "code",
   "execution_count": 1,
   "metadata": {},
   "outputs": [],
   "source": [
    "import sys\n",
    "sys.path.insert(0, \"../..\")\n",
    "from src.data import data_tools, make_dataset"
   ]
  },
  {
   "cell_type": "code",
   "execution_count": 2,
   "metadata": {},
   "outputs": [
    {
     "name": "stderr",
     "output_type": "stream",
     "text": [
      "2022-05-24 09:25:12.790 | INFO     | src.data.make_dataset:get_imdb_data:95 - ../../data/raw/aclImdb already exists, skipping download\n"
     ]
    }
   ],
   "source": [
    "data_dir = \"../../data/raw\"\n",
    "trainpaths, testpaths = make_dataset.get_imdb_data(data_dir)"
   ]
  },
  {
   "cell_type": "code",
   "execution_count": 3,
   "metadata": {},
   "outputs": [
    {
     "data": {
      "text/plain": [
       "(25000, 25000)"
      ]
     },
     "execution_count": 3,
     "metadata": {},
     "output_type": "execute_result"
    }
   ],
   "source": [
    "len(testpaths), len(trainpaths)"
   ]
  },
  {
   "cell_type": "code",
   "execution_count": 4,
   "metadata": {},
   "outputs": [],
   "source": [
    "file = trainpaths[0]"
   ]
  },
  {
   "cell_type": "code",
   "execution_count": 5,
   "metadata": {},
   "outputs": [
    {
     "data": {
      "text/plain": [
       "\"Working with one of the best Shakespeare sources, this film manages to be creditable to it's source, whilst still appealing to a wider audience.<br /><br />Branagh steals the film from under Fishburne's nose, and there's a talented cast on good form.\""
      ]
     },
     "execution_count": 5,
     "metadata": {},
     "output_type": "execute_result"
    }
   ],
   "source": [
    "with open(file) as f:\n",
    "    line = f.readline()\n",
    "line\n"
   ]
  },
  {
   "cell_type": "code",
   "execution_count": 7,
   "metadata": {},
   "outputs": [
    {
     "name": "stderr",
     "output_type": "stream",
     "text": [
      "100%|██████████| 25000/25000 [00:01<00:00, 17143.25it/s]\n",
      "100%|██████████| 25000/25000 [00:08<00:00, 3035.93it/s]\n"
     ]
    }
   ],
   "source": [
    "traindataset = data_tools.TextDataset(paths=trainpaths)\n",
    "testdataset = data_tools.TextDataset(paths=testpaths)"
   ]
  },
  {
   "cell_type": "code",
   "execution_count": 17,
   "metadata": {},
   "outputs": [
    {
     "data": {
      "text/plain": [
       "('I gotta be straight-up - I haven\\'t seen a film as solid as DOG BITE DOG in quite a while. I\\'m a big fan of the \"old-school\" late 80s to mid 90s era CATIII films, and I had been hearing that that \"style\" of films is making a bit of a come-back with films such as this, and Herman Yau\\'s GONG TAU (which as of this writing I have not yet seen...), so I was very interested to give some of these newer-wave CATIII films a shot. Did this film live up to my expectations? Absolutely - but not quite in the ',\n",
       " 'pos')"
      ]
     },
     "execution_count": 17,
     "metadata": {},
     "output_type": "execute_result"
    }
   ],
   "source": [
    "x, y = traindataset[0]\n",
    "x[:500], y"
   ]
  },
  {
   "cell_type": "code",
   "execution_count": 18,
   "metadata": {},
   "outputs": [
    {
     "data": {
      "text/plain": [
       "'[!\"#$%&\\'()*+,-./:;<=>?@[\\\\]^_`{|}~]'"
      ]
     },
     "execution_count": 18,
     "metadata": {},
     "output_type": "execute_result"
    }
   ],
   "source": [
    "import string\n",
    "punctuation = f\"[{string.punctuation}]\"\n",
    "punctuation"
   ]
  },
  {
   "cell_type": "code",
   "execution_count": 21,
   "metadata": {},
   "outputs": [],
   "source": [
    "import re\n",
    "def clean(text):\n",
    "    punctuation = f\"[{string.punctuation}]\"\n",
    "    # remove CaPiTaLs\n",
    "    lowercase = text.lower()\n",
    "    # change don't and isn't into dont and isnt\n",
    "    neg = re.sub(\"\\\\'\", \"\", lowercase)\n",
    "    # swap html tags for spaces\n",
    "    html = re.sub('<br />', \" \", neg)\n",
    "    # swap punctuation for spaces\n",
    "    stripped = re.sub(punctuation, \" \", html)\n",
    "    # remove extra spaces\n",
    "    spaces = re.sub(\"  +\", \" \", stripped)\n",
    "    return spaces\n"
   ]
  },
  {
   "cell_type": "code",
   "execution_count": 22,
   "metadata": {},
   "outputs": [
    {
     "data": {
      "text/plain": [
       "('i gotta be straight up i havent seen a film as solid as dog bite dog in quite a while im a big fan of the old school late 80s to mid 90s era catiii films and i had been hearing that that style of films is making a bit of a come back with films such as this and herman yaus gong tau which as of this writing i have not yet seen so i was very interested to give some of these newer wave catiii films a shot did this film live up to my expectations absolutely but not quite in the fashion that i imagined the story follows a young animalistic resourceful and virtually unstoppable thai hit man with a somewhat vague history who comes to hong kong to complete a mission due to some bad luck he is quickly identified by a roguish copy who exudes many of the same qualities as our hit man and is quickly apprehended and captured this state of affairs doesnt last long though as the un named assassin escapes from his captors and quickly shows the local police that he is not to be taken lightly the hunt is on and a cat and mouse game between the police and the mad dog as the police refer to him ensues along the way mad dog is inadvertently befriended by a slow witted young woman and a bond forms between the two when she helps him out of a sticky situation the ante keeps getting upped as mad dogs only objective is to get out of hong kong and back to thailand by any means necessary and the cops keep trying to reel him in alive i could probably write ten paragraphs about this complex and thoroughly layered film but i dont want to give too much away i watched dog bite dog knowing nothing about the premise and i think its the type of film that is definitely better appreciated that way as to comparisons to the older style catiii films there are some similarities dog bite dog has some hyper violent moments reminiscent of the good ol days but is never quite as sleazy or grimy as old school classicks like the untold story or red to kill where many of the older catiii films main intention was to shock dog bite dog is a far more thought out and well rounded production though thats not to take anything away from those catiii films that i hold so dear this film is far more emotional than it is exploitative and as we learn more about the characters and their backgrounds the audience begins to bond and identify with both sides there really are no clear cut good and bad guys as mad dog shows moments of extreme compassion and the cops stoop to extremely unorthodox methods to try to flesh out the killer theres also no nudity sex in this film which is a typical characteristic of the older catiii films personally i would compare dog bite dog more to parks sympathy for mr vengeance or perhaps the pang brothers bangkok dangerous as both of those films mixed extremely emotional overtones with strong and unflinching action and violence again theres pretty much nothing that i didnt like about this film the acting is dead on the cinematography is sharp and well done and the whole film skillfully blends several different elements successfully in a way that isnt seen very often is this film and others like it the rebirth of the catiii film not exactly but it is a very solid film thats absolutely worth checking out 9 10',\n",
       " 'pos')"
      ]
     },
     "execution_count": 22,
     "metadata": {},
     "output_type": "execute_result"
    }
   ],
   "source": [
    "clean(x), y"
   ]
  },
  {
   "cell_type": "code",
   "execution_count": 25,
   "metadata": {},
   "outputs": [],
   "source": [
    "corpus = []\n",
    "for i in range(len(traindataset)):\n",
    "    corpus.append(traindataset[i][0])\n"
   ]
  },
  {
   "cell_type": "code",
   "execution_count": 29,
   "metadata": {},
   "outputs": [],
   "source": [
    "from src.models import tokenizer\n",
    "\n",
    "v = tokenizer.build_vocab(corpus)"
   ]
  },
  {
   "cell_type": "code",
   "execution_count": 30,
   "metadata": {},
   "outputs": [
    {
     "data": {
      "text/plain": [
       "1"
      ]
     },
     "execution_count": 30,
     "metadata": {},
     "output_type": "execute_result"
    }
   ],
   "source": [
    "v[\"<UNK>\"]"
   ]
  },
  {
   "cell_type": "code",
   "execution_count": 31,
   "metadata": {},
   "outputs": [
    {
     "data": {
      "text/plain": [
       "[1736, 3, 4, 4795, 68, 1736, 12983, 8, 9, 10]"
      ]
     },
     "execution_count": 31,
     "metadata": {},
     "output_type": "execute_result"
    }
   ],
   "source": [
    "[v[word] for word in clean(x).split()[:10]]"
   ]
  },
  {
   "cell_type": "code",
   "execution_count": 41,
   "metadata": {},
   "outputs": [],
   "source": [
    "from typing import List\n",
    "from torch.nn.utils.rnn import pad_sequence\n",
    "import torch\n",
    "from torchtext.vocab import Vocab\n",
    "class Preprocessor:\n",
    "    def __init__(self, max: int, vocab: Vocab) -> None:\n",
    "        self.max = max\n",
    "        self.vocab = vocab\n",
    "    \n",
    "    def clean(self, text: str) -> str:\n",
    "        punctuation = f\"[{string.punctuation}]\"\n",
    "        # remove CaPiTaLs\n",
    "        lowercase = text.lower()\n",
    "        # change don't and isn't into dont and isnt\n",
    "        neg = re.sub(\"\\\\'\", \"\", lowercase)\n",
    "        # swap html tags for spaces\n",
    "        html = re.sub('<br />', \" \", neg)\n",
    "        # swap punctuation for spaces\n",
    "        stripped = re.sub(punctuation, \" \", html)\n",
    "        # remove extra spaces\n",
    "        spaces = re.sub(\"  +\", \" \", stripped)\n",
    "        return spaces\n",
    "    \n",
    "    def cast_label(self, label: str) -> int:\n",
    "        if label == \"neg\":\n",
    "            return 0\n",
    "        else:\n",
    "            return 1\n",
    "    \n",
    "    def __call__(self, batch: List):\n",
    "        labels, text = [], []\n",
    "        for x, y in batch:\n",
    "            x = self.clean(x).split()[:self.max]\n",
    "            tokens = torch.tensor([self.vocab[word] for word in x])\n",
    "            text.append(tokens)\n",
    "            labels.append(self.cast_label(y))\n",
    "        \n",
    "        text_ = pad_sequence(text, batch_first=True, padding_value=0)\n",
    "        return text_, torch.tensor(labels)"
   ]
  },
  {
   "cell_type": "code",
   "execution_count": 42,
   "metadata": {},
   "outputs": [],
   "source": [
    "from torch.utils.data import DataLoader"
   ]
  },
  {
   "cell_type": "code",
   "execution_count": 43,
   "metadata": {},
   "outputs": [],
   "source": [
    "preprocessor = Preprocessor(max=100, vocab=v)\n",
    "dataloader = DataLoader(traindataset, collate_fn=preprocessor, batch_size=32, shuffle=True)"
   ]
  },
  {
   "cell_type": "code",
   "execution_count": 44,
   "metadata": {},
   "outputs": [],
   "source": [
    "x, y = next(iter(dataloader))"
   ]
  },
  {
   "cell_type": "code",
   "execution_count": 46,
   "metadata": {},
   "outputs": [
    {
     "data": {
      "text/plain": [
       "(torch.Size([32, 100]), torch.Size([32]))"
      ]
     },
     "execution_count": 46,
     "metadata": {},
     "output_type": "execute_result"
    }
   ],
   "source": [
    "x.shape, y.shape"
   ]
  },
  {
   "cell_type": "code",
   "execution_count": 47,
   "metadata": {},
   "outputs": [
    {
     "data": {
      "text/plain": [
       "tensor([  6402,      1,     39,    808,     21,    248,   4048,   1087,    644,\n",
       "            36,    895,   3914,    808,     21,   2188,     36,     39,   2460,\n",
       "            43,     54,    428,   2412,    644,     72,     43,   6394,    832,\n",
       "           255,     53,  66089,     11,      9,  44632,   6020,   6402,      9,\n",
       "         44632,   6020,    710,     97,    962,   2188,    122,     40,   1087,\n",
       "         25327,     26,  19295,     15,   2426,  37821,    448,   1784,     15,\n",
       "           157,     15,      9, 239468,    225,  23497,     43,   4236,     21,\n",
       "          1302,  13056,    157,     57,  58293,    792,    266,   3152,   5233,\n",
       "          1218,     22,   1021,   1727,    533,      9,   2669,     21,  15687,\n",
       "           863,   1454,   1048,    122,     22,   1495,     32,  32198,     54,\n",
       "         11289,    158,     22,    153,    235,    257,    916,     22,   3205,\n",
       "           414])"
      ]
     },
     "execution_count": 47,
     "metadata": {},
     "output_type": "execute_result"
    }
   ],
   "source": [
    "x[0]"
   ]
  }
 ],
 "metadata": {
  "interpreter": {
   "hash": "a15911aab0965639e9482f052beb89e7ca291bb3f153727c5758e3fe9ad1321e"
  },
  "kernelspec": {
   "display_name": "Python 3.8.13 ('deep-learning-xB8KIJr7-py3.9')",
   "language": "python",
   "name": "python3"
  },
  "language_info": {
   "codemirror_mode": {
    "name": "ipython",
    "version": 3
   },
   "file_extension": ".py",
   "mimetype": "text/x-python",
   "name": "python",
   "nbconvert_exporter": "python",
   "pygments_lexer": "ipython3",
   "version": "3.8.13"
  },
  "orig_nbformat": 4
 },
 "nbformat": 4,
 "nbformat_minor": 2
}
