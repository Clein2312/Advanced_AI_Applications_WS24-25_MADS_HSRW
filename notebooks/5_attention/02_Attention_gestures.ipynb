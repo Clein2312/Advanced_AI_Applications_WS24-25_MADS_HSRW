{
 "cells": [
  {
   "cell_type": "code",
   "execution_count": 1,
   "metadata": {},
   "outputs": [],
   "source": [
    "import sys\n",
    "sys.path.insert(0, \"../..\")\n",
    "import torch\n",
    "import gin\n",
    "from pathlib import Path\n",
    "from src.data import data_tools \n",
    "from src.models import metrics, train_model, rnn_models"
   ]
  },
  {
   "cell_type": "markdown",
   "metadata": {},
   "source": [
    "Let's try to see how Attention makes a difference with the gestures dataset\n",
    "First, get the data"
   ]
  },
  {
   "cell_type": "code",
   "execution_count": 2,
   "metadata": {},
   "outputs": [
    {
     "name": "stderr",
     "output_type": "stream",
     "text": [
      "100%|██████████| 2600/2600 [00:00<00:00, 3845.60it/s]\n",
      "100%|██████████| 651/651 [00:00<00:00, 4470.57it/s]\n"
     ]
    }
   ],
   "source": [
    "data_dir = Path(\"../../data/external/gestures-dataset/\")\n",
    "\n",
    "# get all paths with the .txt extension\n",
    "formats = [\".txt\"]\n",
    "paths = [path for path in data_tools.walk_dir(data_dir) if path.suffix in formats]\n",
    "# make a train-test split\n",
    "split = 0.8\n",
    "idx = int(len(paths) * split)\n",
    "trainpaths = paths[:idx]\n",
    "testpaths = paths[idx:]\n",
    "\n",
    "traindataset = data_tools.TSDataset(trainpaths)\n",
    "testdataset = data_tools.TSDataset(testpaths)"
   ]
  },
  {
   "cell_type": "code",
   "execution_count": 3,
   "metadata": {},
   "outputs": [],
   "source": [
    "trainloader = data_tools.PaddedDatagenerator(traindataset, batchsize=32)\n",
    "testloader = data_tools.PaddedDatagenerator(testdataset, batchsize=32)"
   ]
  },
  {
   "cell_type": "markdown",
   "metadata": {},
   "source": [
    "Set up loss and accuracy"
   ]
  },
  {
   "cell_type": "code",
   "execution_count": 12,
   "metadata": {},
   "outputs": [],
   "source": [
    "accuracy = metrics.Accuracy()\n",
    "loss_fn = torch.nn.CrossEntropyLoss()\n",
    "log_dir = Path(\"../../models/attention/\")"
   ]
  },
  {
   "cell_type": "markdown",
   "metadata": {},
   "source": [
    "Set up configuration"
   ]
  },
  {
   "cell_type": "code",
   "execution_count": 13,
   "metadata": {},
   "outputs": [],
   "source": [
    "gin.parse_config_file(\"gestures.gin\")\n",
    "\n",
    "config = {\n",
    "    \"input_size\" : 3,\n",
    "    \"hidden_size\" : 100,\n",
    "    \"dropout\" : 0.05,\n",
    "    \"num_layers\" : 3,\n",
    "    \"output_size\" : 20\n",
    "}"
   ]
  },
  {
   "cell_type": "markdown",
   "metadata": {},
   "source": [
    "GRU model like we have seen before"
   ]
  },
  {
   "cell_type": "code",
   "execution_count": 15,
   "metadata": {},
   "outputs": [
    {
     "name": "stderr",
     "output_type": "stream",
     "text": [
      "2022-12-19 22:51:24.183 | INFO     | src.data.data_tools:dir_add_timestamp:114 - Logging to ../../models/attention/20221219-2251\n",
      "100%|██████████| 81/81 [00:01<00:00, 48.97it/s]\n",
      "2022-12-19 22:51:26.101 | INFO     | src.models.train_model:trainloop:171 - Epoch 0 train 2.4934 test 2.3335 metric ['0.1875']\n",
      "100%|██████████| 81/81 [00:01<00:00, 49.10it/s]\n",
      "2022-12-19 22:51:27.961 | INFO     | src.models.train_model:trainloop:171 - Epoch 1 train 2.0027 test 2.0795 metric ['0.2547']\n",
      "100%|██████████| 81/81 [00:01<00:00, 43.41it/s]\n",
      "2022-12-19 22:51:30.053 | INFO     | src.models.train_model:trainloop:171 - Epoch 2 train 1.5155 test 1.4818 metric ['0.3703']\n",
      "100%|██████████| 81/81 [00:01<00:00, 48.19it/s]\n",
      "2022-12-19 22:51:31.956 | INFO     | src.models.train_model:trainloop:171 - Epoch 3 train 1.0862 test 1.0753 metric ['0.5469']\n",
      "100%|██████████| 81/81 [00:01<00:00, 45.56it/s]\n",
      "2022-12-19 22:51:33.944 | INFO     | src.models.train_model:trainloop:171 - Epoch 4 train 0.8178 test 1.3563 metric ['0.4984']\n",
      "100%|██████████| 81/81 [00:01<00:00, 46.43it/s]\n",
      "2022-12-19 22:51:35.907 | INFO     | src.models.train_model:trainloop:171 - Epoch 5 train 0.6298 test 0.5991 metric ['0.7875']\n",
      "100%|██████████| 81/81 [00:01<00:00, 44.84it/s]\n",
      "2022-12-19 22:51:37.927 | INFO     | src.models.train_model:trainloop:171 - Epoch 6 train 0.3971 test 0.5077 metric ['0.8859']\n",
      "100%|██████████| 81/81 [00:01<00:00, 47.26it/s]\n",
      "2022-12-19 22:51:39.848 | INFO     | src.models.train_model:trainloop:171 - Epoch 7 train 0.2266 test 0.3329 metric ['0.9203']\n",
      "100%|██████████| 81/81 [00:01<00:00, 46.86it/s]\n",
      "2022-12-19 22:51:41.805 | INFO     | src.models.train_model:trainloop:171 - Epoch 8 train 0.1455 test 0.4018 metric ['0.8719']\n",
      "100%|██████████| 81/81 [00:01<00:00, 47.01it/s]\n",
      "2022-12-19 22:51:43.754 | INFO     | src.models.train_model:trainloop:171 - Epoch 9 train 0.1059 test 0.4264 metric ['0.9047']\n",
      "100%|██████████| 10/10 [00:19<00:00,  1.95s/it]\n"
     ]
    }
   ],
   "source": [
    "model = rnn_models.GRUmodel(config)\n",
    "\n",
    "model = train_model.trainloop(\n",
    "    epochs=10,\n",
    "    model=model,\n",
    "    metrics=[accuracy],\n",
    "    train_dataloader=trainloader,\n",
    "    test_dataloader=testloader,\n",
    "    log_dir=log_dir,\n",
    "    train_steps=len(trainloader),\n",
    "    eval_steps=len(testloader)\n",
    ")"
   ]
  },
  {
   "cell_type": "markdown",
   "metadata": {},
   "source": [
    "And compare performance with an attention layer added to the model"
   ]
  },
  {
   "cell_type": "code",
   "execution_count": 16,
   "metadata": {},
   "outputs": [
    {
     "name": "stderr",
     "output_type": "stream",
     "text": [
      "2022-12-19 22:52:33.854 | INFO     | src.data.data_tools:dir_add_timestamp:114 - Logging to ../../models/attention/20221219-2252\n",
      "100%|██████████| 81/81 [00:02<00:00, 39.51it/s]\n",
      "2022-12-19 22:52:36.389 | INFO     | src.models.train_model:trainloop:171 - Epoch 0 train 2.2744 test 2.1660 metric ['0.2687']\n",
      "100%|██████████| 81/81 [00:02<00:00, 39.08it/s]\n",
      "2022-12-19 22:52:38.725 | INFO     | src.models.train_model:trainloop:171 - Epoch 1 train 1.4446 test 1.5761 metric ['0.3422']\n",
      "100%|██████████| 81/81 [00:02<00:00, 38.46it/s]\n",
      "2022-12-19 22:52:41.094 | INFO     | src.models.train_model:trainloop:171 - Epoch 2 train 1.0930 test 1.0965 metric ['0.5906']\n",
      "100%|██████████| 81/81 [00:01<00:00, 40.56it/s]\n",
      "2022-12-19 22:52:43.335 | INFO     | src.models.train_model:trainloop:171 - Epoch 3 train 0.6677 test 0.9031 metric ['0.6172']\n",
      "100%|██████████| 81/81 [00:02<00:00, 39.99it/s]\n",
      "2022-12-19 22:52:45.598 | INFO     | src.models.train_model:trainloop:171 - Epoch 4 train 0.4870 test 0.5145 metric ['0.8469']\n",
      "100%|██████████| 81/81 [00:02<00:00, 37.39it/s]\n",
      "2022-12-19 22:52:48.048 | INFO     | src.models.train_model:trainloop:171 - Epoch 5 train 0.2668 test 0.5057 metric ['0.8750']\n",
      "100%|██████████| 81/81 [00:02<00:00, 36.00it/s]\n",
      "2022-12-19 22:52:50.569 | INFO     | src.models.train_model:trainloop:171 - Epoch 6 train 0.1560 test 0.3477 metric ['0.9109']\n",
      "100%|██████████| 81/81 [00:02<00:00, 37.03it/s]\n",
      "2022-12-19 22:52:53.022 | INFO     | src.models.train_model:trainloop:171 - Epoch 7 train 0.0895 test 0.3842 metric ['0.8922']\n",
      "100%|██████████| 81/81 [00:01<00:00, 40.78it/s]\n",
      "2022-12-19 22:52:55.269 | INFO     | src.models.train_model:trainloop:171 - Epoch 8 train 0.0735 test 0.3088 metric ['0.9406']\n",
      "100%|██████████| 81/81 [00:02<00:00, 39.33it/s]\n",
      "2022-12-19 22:52:57.583 | INFO     | src.models.train_model:trainloop:171 - Epoch 9 train 0.0351 test 0.2389 metric ['0.9484']\n",
      "100%|██████████| 10/10 [00:23<00:00,  2.35s/it]\n"
     ]
    }
   ],
   "source": [
    "model = rnn_models.AttentionGRU(config)\n",
    "\n",
    "model = train_model.trainloop(\n",
    "    epochs=10,\n",
    "    model=model,\n",
    "    metrics=[accuracy],\n",
    "    train_dataloader=trainloader,\n",
    "    test_dataloader=testloader,\n",
    "    log_dir=log_dir,\n",
    "    train_steps=len(trainloader),\n",
    "    eval_steps=len(testloader)\n",
    ")"
   ]
  },
  {
   "cell_type": "markdown",
   "metadata": {},
   "source": [
    "So, this is very nice. In my tensorboard, I see:\n",
    "- loss is better in both train and test\n",
    "- accuracy is better\n",
    "- the model converges faster"
   ]
  }
 ],
 "metadata": {
  "kernelspec": {
   "display_name": "deep-learning-wM7qE7ca-py3.9",
   "language": "python",
   "name": "python3"
  },
  "language_info": {
   "codemirror_mode": {
    "name": "ipython",
    "version": 3
   },
   "file_extension": ".py",
   "mimetype": "text/x-python",
   "name": "python",
   "nbconvert_exporter": "python",
   "pygments_lexer": "ipython3",
   "version": "3.9.13"
  },
  "orig_nbformat": 4,
  "vscode": {
   "interpreter": {
    "hash": "9384df97cb25cd0ffeadd8ca5fc8c3b92d252d40e81804b4c63c6d046c91939e"
   }
  }
 },
 "nbformat": 4,
 "nbformat_minor": 2
}
