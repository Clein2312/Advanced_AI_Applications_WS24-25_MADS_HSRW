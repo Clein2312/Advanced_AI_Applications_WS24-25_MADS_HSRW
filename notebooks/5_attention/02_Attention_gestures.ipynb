{
 "cells": [
  {
   "cell_type": "code",
   "execution_count": 1,
   "metadata": {},
   "outputs": [
    {
     "name": "stdout",
     "output_type": "stream",
     "text": [
      "Adding /Users/rgrouls/code/ML22 to sys.path, this is necessary to import from src\n",
      "['/Users/rgrouls/code/ML22', '/Users/rgrouls/code/ML22/notebooks/5_attention', '/Users/rgrouls/.pyenv/versions/3.9.16/lib/python39.zip', '/Users/rgrouls/.pyenv/versions/3.9.16/lib/python3.9', '/Users/rgrouls/.pyenv/versions/3.9.16/lib/python3.9/lib-dynload', '', '/Users/rgrouls/Library/Caches/pypoetry/virtualenvs/deep-learning-HUU8cknU-py3.9/lib/python3.9/site-packages']\n"
     ]
    }
   ],
   "source": [
    "import sys\n",
    "from pathlib import Path\n",
    "srcdir = Path(\"../..\").resolve()\n",
    "print(f\"Adding {srcdir} to sys.path, this is necessary to import from src\")\n",
    "sys.path.insert(0, str(srcdir))\n",
    "print(sys.path)\n",
    "\n",
    "import torch\n",
    "import gin\n",
    "from src.data import data_tools \n",
    "from src.models import metrics, train_model, rnn_models\n",
    "from torch import optim"
   ]
  },
  {
   "attachments": {},
   "cell_type": "markdown",
   "metadata": {},
   "source": [
    "Let's try to see how Attention makes a difference with the gestures dataset\n",
    "First, get the data"
   ]
  },
  {
   "cell_type": "code",
   "execution_count": 2,
   "metadata": {},
   "outputs": [
    {
     "name": "stderr",
     "output_type": "stream",
     "text": [
      "\u001b[32m2023-06-06 12:03:43.698\u001b[0m | \u001b[1mINFO    \u001b[0m | \u001b[36mmads_datasets.datasetfactory\u001b[0m:\u001b[36mdownload_data\u001b[0m:\u001b[36m94\u001b[0m - \u001b[1mDataset already exists at /Users/rgrouls/.cache/mads_datasets/gestures\u001b[0m\n",
      "\u001b[32m2023-06-06 12:03:43.705\u001b[0m | \u001b[1mINFO    \u001b[0m | \u001b[36mmads_datasets.datasetfactory\u001b[0m:\u001b[36mdownload_data\u001b[0m:\u001b[36m104\u001b[0m - \u001b[1mDigest of downloaded /Users/rgrouls/.cache/mads_datasets/gestures/gestures-dataset.zip matches expected digest\u001b[0m\n",
      "100%|\u001b[38;2;30;71;6m██████████\u001b[0m| 2600/2600 [00:01<00:00, 1383.50it/s]\n",
      "100%|\u001b[38;2;30;71;6m██████████\u001b[0m| 651/651 [00:00<00:00, 1342.89it/s]\n"
     ]
    }
   ],
   "source": [
    "from mads_datasets import DatasetFactoryProvider, DatasetType\n",
    "gesturesdatasetfactory = DatasetFactoryProvider.create_factory(DatasetType.GESTURES)\n",
    "streamers = gesturesdatasetfactory.create_datastreamer(batchsize=32)\n",
    "train = streamers[\"train\"]\n",
    "valid = streamers[\"valid\"]"
   ]
  },
  {
   "attachments": {},
   "cell_type": "markdown",
   "metadata": {},
   "source": [
    "Set up loss and accuracy"
   ]
  },
  {
   "cell_type": "code",
   "execution_count": 3,
   "metadata": {},
   "outputs": [],
   "source": [
    "accuracy = metrics.Accuracy()\n",
    "loss_fn = torch.nn.CrossEntropyLoss()\n",
    "log_dir = Path(\"../../models/attention/\").resolve()"
   ]
  },
  {
   "attachments": {},
   "cell_type": "markdown",
   "metadata": {},
   "source": [
    "Set up configuration"
   ]
  },
  {
   "cell_type": "code",
   "execution_count": 4,
   "metadata": {},
   "outputs": [
    {
     "data": {
      "text/plain": [
       "epochs: 10\n",
       "metrics: [Accuracy]\n",
       "logdir: /Users/rgrouls/code/ML22/models/attention\n",
       "train_steps: 81\n",
       "valid_steps: 20\n",
       "reporttypes: [<ReportTypes.TENSORBOARD: 2>, <ReportTypes.GIN: 1>]\n",
       "optimizer_kwargs: {'lr': 0.001, 'weight_decay': 1e-05}\n",
       "scheduler_kwargs: {'factor': 0.5, 'patience': 5}\n",
       "earlystop_kwargs: None"
      ]
     },
     "execution_count": 4,
     "metadata": {},
     "output_type": "execute_result"
    }
   ],
   "source": [
    "from src.settings import TrainerSettings, ReportTypes\n",
    "import gin\n",
    "\n",
    "gin.parse_config_file(\"gestures.gin\")\n",
    "\n",
    "# epochs comes from ginfile\n",
    "settings = TrainerSettings(\n",
    "    metrics=[accuracy],\n",
    "    logdir=log_dir,\n",
    "    train_steps=len(train),\n",
    "    valid_steps=len(valid),\n",
    "    reporttypes=[ReportTypes.TENSORBOARD, ReportTypes.GIN,],\n",
    "    scheduler_kwargs={\"factor\": 0.5, \"patience\": 5},\n",
    "    earlystop_kwargs=None\n",
    ")\n",
    "grumodel = rnn_models.GRUmodel() # config comes from ginfile\n",
    "settings"
   ]
  },
  {
   "cell_type": "code",
   "execution_count": 5,
   "metadata": {},
   "outputs": [
    {
     "name": "stderr",
     "output_type": "stream",
     "text": [
      "\u001b[32m2023-06-06 12:03:51.311\u001b[0m | \u001b[1mINFO    \u001b[0m | \u001b[36msrc.data.data_tools\u001b[0m:\u001b[36mdir_add_timestamp\u001b[0m:\u001b[36m146\u001b[0m - \u001b[1mLogging to /Users/rgrouls/code/ML22/models/attention/20230606-1203\u001b[0m\n"
     ]
    }
   ],
   "source": [
    "grutrainer = train_model.Trainer(\n",
    "    model=grumodel, \n",
    "    settings=settings, \n",
    "    loss_fn=loss_fn,\n",
    "    optimizer=optim.Adam, \n",
    "    traindataloader=train.stream(), \n",
    "    validdataloader=valid.stream(), \n",
    "    scheduler=optim.lr_scheduler.ReduceLROnPlateau\n",
    "    )"
   ]
  },
  {
   "cell_type": "code",
   "execution_count": null,
   "metadata": {},
   "outputs": [],
   "source": [
    "grutrainer.loop()"
   ]
  },
  {
   "attachments": {},
   "cell_type": "markdown",
   "metadata": {},
   "source": [
    "GRU model like we have seen before"
   ]
  },
  {
   "attachments": {},
   "cell_type": "markdown",
   "metadata": {},
   "source": [
    "And compare performance with an attention layer added to the model"
   ]
  },
  {
   "cell_type": "code",
   "execution_count": 8,
   "metadata": {},
   "outputs": [
    {
     "name": "stderr",
     "output_type": "stream",
     "text": [
      "2023-05-25 16:30:11.587 | INFO     | src.data.data_tools:dir_add_timestamp:137 - Logging to /workspaces/ML22/models/attention/20230525-1630\n",
      "2023-05-25 16:30:11.598 | INFO     | src.models.train_model:__init__:109 - Found earlystop_kwargs in TrainerSettings. Set to None if you dont want earlystopping.\n",
      "100%|\u001b[38;2;30;71;6m██████████\u001b[0m| 81/81 [00:10<00:00,  7.89it/s]\n",
      "2023-05-25 16:30:22.510 | INFO     | src.models.train_model:report:207 - Epoch 0 train 2.1805 test 1.6557 metric ['0.3469']\n",
      "100%|\u001b[38;2;30;71;6m██████████\u001b[0m| 81/81 [00:08<00:00,  9.27it/s]\n",
      "2023-05-25 16:30:31.968 | INFO     | src.models.train_model:report:207 - Epoch 1 train 1.4393 test 1.3366 metric ['0.4891']\n",
      "100%|\u001b[38;2;30;71;6m██████████\u001b[0m| 81/81 [00:09<00:00,  8.32it/s]\n",
      "2023-05-25 16:30:42.464 | INFO     | src.models.train_model:report:207 - Epoch 2 train 1.0654 test 1.3068 metric ['0.5703']\n",
      "100%|\u001b[38;2;30;71;6m██████████\u001b[0m| 81/81 [00:09<00:00,  8.84it/s]\n",
      "2023-05-25 16:30:52.192 | INFO     | src.models.train_model:report:207 - Epoch 3 train 0.6237 test 1.1830 metric ['0.6469']\n",
      "100%|\u001b[38;2;30;71;6m██████████\u001b[0m| 81/81 [00:10<00:00,  7.52it/s]\n",
      "2023-05-25 16:31:03.412 | INFO     | src.models.train_model:report:207 - Epoch 4 train 0.3222 test 1.1285 metric ['0.7344']\n",
      "100%|\u001b[38;2;30;71;6m██████████\u001b[0m| 81/81 [00:08<00:00,  9.79it/s]\n",
      "2023-05-25 16:31:12.288 | INFO     | src.models.train_model:report:207 - Epoch 5 train 0.1368 test 0.7397 metric ['0.7750']\n",
      "100%|\u001b[38;2;30;71;6m██████████\u001b[0m| 81/81 [00:08<00:00,  9.53it/s]\n",
      "2023-05-25 16:31:21.247 | INFO     | src.models.train_model:report:207 - Epoch 6 train 0.0730 test 1.1064 metric ['0.7594']\n",
      "2023-05-25 16:31:21.249 | INFO     | src.models.train_model:__call__:244 - best loss: 0.7397284924983978, current loss 1.106424. Counter 1.000000/10.\n",
      "100%|\u001b[38;2;30;71;6m██████████\u001b[0m| 81/81 [00:08<00:00,  9.50it/s]\n",
      "2023-05-25 16:31:30.443 | INFO     | src.models.train_model:report:207 - Epoch 7 train 0.1531 test 0.9408 metric ['0.7625']\n",
      "2023-05-25 16:31:30.445 | INFO     | src.models.train_model:__call__:244 - best loss: 0.7397284924983978, current loss 0.940828. Counter 2.000000/10.\n",
      "100%|\u001b[38;2;30;71;6m██████████\u001b[0m| 81/81 [00:07<00:00, 11.52it/s]\n",
      "2023-05-25 16:31:37.906 | INFO     | src.models.train_model:report:207 - Epoch 8 train 0.0587 test 0.7706 metric ['0.8016']\n",
      "2023-05-25 16:31:37.909 | INFO     | src.models.train_model:__call__:244 - best loss: 0.7397284924983978, current loss 0.770649. Counter 3.000000/10.\n",
      "100%|\u001b[38;2;30;71;6m██████████\u001b[0m| 81/81 [00:08<00:00,  9.57it/s]\n",
      "2023-05-25 16:31:47.058 | INFO     | src.models.train_model:report:207 - Epoch 9 train 0.0321 test 1.3430 metric ['0.7688']\n",
      "2023-05-25 16:31:47.064 | INFO     | src.models.train_model:__call__:244 - best loss: 0.7397284924983978, current loss 1.342989. Counter 4.000000/10.\n",
      "100%|\u001b[38;2;30;71;6m██████████\u001b[0m| 81/81 [00:06<00:00, 12.40it/s]\n",
      "2023-05-25 16:31:54.020 | INFO     | src.models.train_model:report:207 - Epoch 10 train 0.0504 test 0.8964 metric ['0.8453']\n",
      "2023-05-25 16:31:54.022 | INFO     | src.models.train_model:__call__:244 - best loss: 0.7397284924983978, current loss 0.896392. Counter 5.000000/10.\n",
      "100%|\u001b[38;2;30;71;6m██████████\u001b[0m| 81/81 [00:08<00:00,  9.72it/s]\n",
      "2023-05-25 16:32:03.139 | INFO     | src.models.train_model:report:207 - Epoch 11 train 0.0200 test 1.0209 metric ['0.7922']\n",
      "2023-05-25 16:32:03.141 | INFO     | src.models.train_model:__call__:244 - best loss: 0.7397284924983978, current loss 1.020861. Counter 6.000000/10.\n",
      "100%|\u001b[38;2;30;71;6m██████████\u001b[0m| 81/81 [00:12<00:00,  6.72it/s]\n",
      "2023-05-25 16:32:15.700 | INFO     | src.models.train_model:report:207 - Epoch 12 train 0.0525 test 0.9865 metric ['0.7812']\n",
      "2023-05-25 16:32:15.703 | INFO     | src.models.train_model:__call__:244 - best loss: 0.7397284924983978, current loss 0.986477. Counter 7.000000/10.\n",
      "100%|\u001b[38;2;30;71;6m██████████\u001b[0m| 81/81 [00:07<00:00, 10.49it/s]\n",
      "2023-05-25 16:32:24.013 | INFO     | src.models.train_model:report:207 - Epoch 13 train 0.0235 test 0.9989 metric ['0.8359']\n",
      "2023-05-25 16:32:24.015 | INFO     | src.models.train_model:__call__:244 - best loss: 0.7397284924983978, current loss 0.998930. Counter 8.000000/10.\n",
      "100%|\u001b[38;2;30;71;6m██████████\u001b[0m| 81/81 [00:11<00:00,  7.08it/s]\n",
      "2023-05-25 16:32:35.906 | INFO     | src.models.train_model:report:207 - Epoch 14 train 0.0251 test 0.9076 metric ['0.8328']\n",
      "2023-05-25 16:32:35.910 | INFO     | src.models.train_model:__call__:244 - best loss: 0.7397284924983978, current loss 0.907635. Counter 9.000000/10.\n",
      "100%|\u001b[38;2;30;71;6m██████████\u001b[0m| 81/81 [00:11<00:00,  7.17it/s]\n",
      "2023-05-25 16:32:47.781 | INFO     | src.models.train_model:report:207 - Epoch 15 train 0.0163 test 0.8375 metric ['0.8344']\n",
      "2023-05-25 16:32:47.786 | INFO     | src.models.train_model:__call__:244 - best loss: 0.7397284924983978, current loss 0.837455. Counter 10.000000/10.\n",
      "2023-05-25 16:32:47.794 | INFO     | src.models.train_model:loop:134 - Interrupting loop due to early stopping patience.\n",
      "2023-05-25 16:32:47.796 | INFO     | src.models.train_model:loop:140 - early_stopping_save was false, using latest model. Set to true to retrieve best model.\n",
      " 30%|\u001b[38;2;30;71;6m███       \u001b[0m| 15/50 [02:36<06:04, 10.41s/it]\n"
     ]
    }
   ],
   "source": [
    "attentionmodel = rnn_models.AttentionGRU()\n",
    "\n",
    "attentiontrainer = train_model.Trainer(\n",
    "    model=attentionmodel, \n",
    "    settings=settings, \n",
    "    loss_fn=loss_fn,\n",
    "    optimizer=optim.Adam, \n",
    "    traindataloader=train.stream(), \n",
    "    validdataloader=valid.stream(), \n",
    "    scheduler=optim.lr_scheduler.ReduceLROnPlateau\n",
    "    )\n",
    "attentiontrainer.loop()"
   ]
  },
  {
   "attachments": {},
   "cell_type": "markdown",
   "metadata": {},
   "source": [
    "So, this is very nice. In my tensorboard, I see:\n",
    "- loss is better in both train and test\n",
    "- accuracy is better\n",
    "- the model converges faster"
   ]
  }
 ],
 "metadata": {
  "kernelspec": {
   "display_name": "deep-learning-wM7qE7ca-py3.9",
   "language": "python",
   "name": "python3"
  },
  "language_info": {
   "codemirror_mode": {
    "name": "ipython",
    "version": 3
   },
   "file_extension": ".py",
   "mimetype": "text/x-python",
   "name": "python",
   "nbconvert_exporter": "python",
   "pygments_lexer": "ipython3",
   "version": "3.9.16"
  },
  "orig_nbformat": 4,
  "vscode": {
   "interpreter": {
    "hash": "9384df97cb25cd0ffeadd8ca5fc8c3b92d252d40e81804b4c63c6d046c91939e"
   }
  }
 },
 "nbformat": 4,
 "nbformat_minor": 2
}
