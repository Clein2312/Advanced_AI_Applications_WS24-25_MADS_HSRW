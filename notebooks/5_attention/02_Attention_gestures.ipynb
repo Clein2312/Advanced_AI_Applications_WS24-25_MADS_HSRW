{
 "cells": [
  {
   "cell_type": "code",
   "execution_count": 1,
   "metadata": {},
   "outputs": [],
   "source": [
    "import sys\n",
    "sys.path.insert(0, \"../..\")\n",
    "import torch\n",
    "import gin\n",
    "from pathlib import Path\n",
    "from src.data import data_tools \n",
    "from src.models import metrics, train_model, rnn_models"
   ]
  },
  {
   "cell_type": "code",
   "execution_count": 2,
   "metadata": {},
   "outputs": [
    {
     "name": "stderr",
     "output_type": "stream",
     "text": [
      "100%|██████████| 2600/2600 [00:02<00:00, 1162.38it/s]\n",
      "100%|██████████| 651/651 [00:00<00:00, 997.80it/s] \n"
     ]
    }
   ],
   "source": [
    "data_dir = Path(\"../../data/external/gestures-dataset/\")\n",
    "\n",
    "# get all paths with the .txt extension\n",
    "formats = [\".txt\"]\n",
    "paths = [path for path in data_tools.walk_dir(data_dir) if path.suffix in formats]\n",
    "# make a train-test split\n",
    "split = 0.8\n",
    "idx = int(len(paths) * split)\n",
    "trainpaths = paths[:idx]\n",
    "testpaths = paths[idx:]\n",
    "trainloader = data_tools.Datagenerator(trainpaths, batchsize=32)\n",
    "testloader = data_tools.Datagenerator(testpaths, batchsize=32)"
   ]
  },
  {
   "cell_type": "code",
   "execution_count": 3,
   "metadata": {},
   "outputs": [],
   "source": [
    "accuracy = metrics.Accuracy()\n",
    "loss_fn = torch.nn.CrossEntropyLoss()\n",
    "log_dir = Path(\"../../models/attention/\")"
   ]
  },
  {
   "cell_type": "code",
   "execution_count": null,
   "metadata": {},
   "outputs": [],
   "source": [
    "gin.parse_config_file(\"gestures.gin\")\n",
    "\n",
    "config = {\n",
    "    \"input_size\" : 3,\n",
    "    \"hidden_size\" : 100,\n",
    "    \"dropout\" : 0.05,\n",
    "    \"num_layers\" : 3,\n",
    "    \"output_size\" : 20\n",
    "}"
   ]
  },
  {
   "cell_type": "code",
   "execution_count": 4,
   "metadata": {},
   "outputs": [
    {
     "name": "stderr",
     "output_type": "stream",
     "text": [
      "2022-05-23 15:04:02.230 | INFO     | src.data.data_tools:dir_add_timestamp:209 - Logging to ../../models/gestures/20220523-1504\n",
      "100%|██████████| 81/81 [00:03<00:00, 20.90it/s]\n",
      "2022-05-23 15:04:06.756 | INFO     | src.models.train_model:trainloop:156 - Epoch 0 train 2.2276 test 0.1110 metric ['0.1594']\n",
      "100%|██████████| 81/81 [00:03<00:00, 25.62it/s]\n",
      "2022-05-23 15:04:10.290 | INFO     | src.models.train_model:trainloop:156 - Epoch 1 train 1.8876 test 0.1084 metric ['0.1516']\n",
      "100%|██████████| 81/81 [00:04<00:00, 17.95it/s]\n",
      "2022-05-23 15:04:15.156 | INFO     | src.models.train_model:trainloop:156 - Epoch 2 train 1.4235 test 0.0837 metric ['0.3297']\n",
      "100%|██████████| 81/81 [00:03<00:00, 24.60it/s]\n",
      "2022-05-23 15:04:18.829 | INFO     | src.models.train_model:trainloop:156 - Epoch 3 train 0.9249 test 0.0722 metric ['0.4437']\n",
      "100%|██████████| 81/81 [00:03<00:00, 24.07it/s]\n",
      "2022-05-23 15:04:22.544 | INFO     | src.models.train_model:trainloop:156 - Epoch 4 train 0.5823 test 0.0522 metric ['0.4969']\n",
      "100%|██████████| 81/81 [00:03<00:00, 24.16it/s]\n",
      "2022-05-23 15:04:26.268 | INFO     | src.models.train_model:trainloop:156 - Epoch 5 train 0.3036 test 0.0509 metric ['0.7344']\n",
      "100%|██████████| 81/81 [00:03<00:00, 22.48it/s]\n",
      "2022-05-23 15:04:30.260 | INFO     | src.models.train_model:trainloop:156 - Epoch 6 train 0.1383 test 0.0430 metric ['0.7734']\n",
      "100%|██████████| 81/81 [00:03<00:00, 21.87it/s]\n",
      "2022-05-23 15:04:34.360 | INFO     | src.models.train_model:trainloop:156 - Epoch 7 train 0.0803 test 0.0196 metric ['0.8813']\n",
      "100%|██████████| 81/81 [00:03<00:00, 22.21it/s]\n",
      "2022-05-23 15:04:38.368 | INFO     | src.models.train_model:trainloop:156 - Epoch 8 train 0.1264 test 0.0163 metric ['0.8828']\n",
      "100%|██████████| 81/81 [00:03<00:00, 21.47it/s]\n",
      "2022-05-23 15:04:42.531 | INFO     | src.models.train_model:trainloop:156 - Epoch 9 train 0.0723 test 0.0378 metric ['0.8703']\n",
      "100%|██████████| 10/10 [00:40<00:00,  4.00s/it]\n"
     ]
    }
   ],
   "source": [
    "model = rnn_models.GRUmodel(config)\n",
    "\n",
    "model = train_model.trainloop(\n",
    "    epochs=10,\n",
    "    model=model,\n",
    "    metrics=[accuracy],\n",
    "    train_dataloader=trainloader,\n",
    "    test_dataloader=testloader,\n",
    "    log_dir=log_dir,\n",
    "    train_steps=len(trainloader),\n",
    "    eval_steps=len(testloader)\n",
    ")"
   ]
  },
  {
   "cell_type": "code",
   "execution_count": 5,
   "metadata": {},
   "outputs": [
    {
     "name": "stderr",
     "output_type": "stream",
     "text": [
      "2022-05-23 15:08:02.757 | INFO     | src.data.data_tools:dir_add_timestamp:209 - Logging to ../../models/gestures/20220523-1508\n",
      "100%|██████████| 81/81 [00:04<00:00, 17.05it/s]\n",
      "2022-05-23 15:08:08.553 | INFO     | src.models.train_model:trainloop:156 - Epoch 0 train 1.6450 test 0.1028 metric ['0.2156']\n",
      "100%|██████████| 81/81 [00:04<00:00, 17.81it/s]\n",
      "2022-05-23 15:08:13.629 | INFO     | src.models.train_model:trainloop:156 - Epoch 1 train 1.3177 test 0.0813 metric ['0.4359']\n",
      "100%|██████████| 81/81 [00:04<00:00, 17.03it/s]\n",
      "2022-05-23 15:08:19.020 | INFO     | src.models.train_model:trainloop:156 - Epoch 2 train 0.4773 test 0.0361 metric ['0.6594']\n",
      "100%|██████████| 81/81 [00:05<00:00, 14.81it/s]\n",
      "2022-05-23 15:08:25.150 | INFO     | src.models.train_model:trainloop:156 - Epoch 3 train 0.3313 test 0.0325 metric ['0.8313']\n",
      "100%|██████████| 81/81 [00:05<00:00, 14.61it/s]\n",
      "2022-05-23 15:08:31.319 | INFO     | src.models.train_model:trainloop:156 - Epoch 4 train 0.1038 test 0.0147 metric ['0.8953']\n",
      "100%|██████████| 81/81 [00:04<00:00, 16.96it/s]\n",
      "2022-05-23 15:08:36.552 | INFO     | src.models.train_model:trainloop:156 - Epoch 5 train 0.0865 test 0.0140 metric ['0.9109']\n",
      "100%|██████████| 81/81 [00:04<00:00, 18.86it/s]\n",
      "2022-05-23 15:08:41.347 | INFO     | src.models.train_model:trainloop:156 - Epoch 6 train 0.0917 test 0.0209 metric ['0.9312']\n",
      "100%|██████████| 81/81 [00:04<00:00, 16.96it/s]\n",
      "2022-05-23 15:08:46.695 | INFO     | src.models.train_model:trainloop:156 - Epoch 7 train 0.0501 test 0.0141 metric ['0.9375']\n",
      "100%|██████████| 81/81 [00:04<00:00, 16.85it/s]\n",
      "2022-05-23 15:08:51.995 | INFO     | src.models.train_model:trainloop:156 - Epoch 8 train 0.0086 test 0.0009 metric ['0.9484']\n",
      "100%|██████████| 81/81 [00:04<00:00, 16.87it/s]\n",
      "2022-05-23 15:08:57.306 | INFO     | src.models.train_model:trainloop:156 - Epoch 9 train 0.0296 test 0.0109 metric ['0.9406']\n",
      "100%|██████████| 10/10 [00:53<00:00,  5.40s/it]\n"
     ]
    }
   ],
   "source": [
    "model = rnn_models.AttentionGRU(config)\n",
    "\n",
    "model = train_model.trainloop(\n",
    "    epochs=10,\n",
    "    model=model,\n",
    "    metrics=[accuracy],\n",
    "    train_dataloader=trainloader,\n",
    "    test_dataloader=testloader,\n",
    "    log_dir=log_dir,\n",
    "    train_steps=len(trainloader),\n",
    "    eval_steps=len(testloader)\n",
    ")"
   ]
  },
  {
   "cell_type": "code",
   "execution_count": null,
   "metadata": {},
   "outputs": [],
   "source": []
  }
 ],
 "metadata": {
  "interpreter": {
   "hash": "a15911aab0965639e9482f052beb89e7ca291bb3f153727c5758e3fe9ad1321e"
  },
  "kernelspec": {
   "display_name": "Python 3.8.13 ('deep-learning-xB8KIJr7-py3.9')",
   "language": "python",
   "name": "python3"
  },
  "language_info": {
   "codemirror_mode": {
    "name": "ipython",
    "version": 3
   },
   "file_extension": ".py",
   "mimetype": "text/x-python",
   "name": "python",
   "nbconvert_exporter": "python",
   "pygments_lexer": "ipython3",
   "version": "3.8.13"
  },
  "orig_nbformat": 4
 },
 "nbformat": 4,
 "nbformat_minor": 2
}
