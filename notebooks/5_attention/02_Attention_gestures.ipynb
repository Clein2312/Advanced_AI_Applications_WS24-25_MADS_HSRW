{
 "cells": [
  {
   "cell_type": "code",
   "execution_count": 1,
   "metadata": {},
   "outputs": [
    {
     "name": "stderr",
     "output_type": "stream",
     "text": [
      "/home/vscode/.cache/pypoetry/virtualenvs/deep-learning-jHmOY0S3-py3.9/lib/python3.9/site-packages/torchvision/io/image.py:13: UserWarning: Failed to load image Python extension: 'libc10_cuda.so: cannot open shared object file: No such file or directory'If you don't plan on using image functionality from `torchvision.io`, you can ignore this warning. Otherwise, there might be something wrong with your environment. Did you have `libjpeg` or `libpng` installed before building `torchvision` from source?\n",
      "  warn(\n"
     ]
    }
   ],
   "source": [
    "import sys\n",
    "sys.path.insert(0, \"../..\")\n",
    "import torch\n",
    "import gin\n",
    "from pathlib import Path\n",
    "from src.data import data_tools \n",
    "from src.models import metrics, train_model, rnn_models\n",
    "from torch import optim"
   ]
  },
  {
   "attachments": {},
   "cell_type": "markdown",
   "metadata": {},
   "source": [
    "Let's try to see how Attention makes a difference with the gestures dataset\n",
    "First, get the data"
   ]
  },
  {
   "cell_type": "code",
   "execution_count": 2,
   "metadata": {},
   "outputs": [
    {
     "name": "stderr",
     "output_type": "stream",
     "text": [
      "100%|██████████| 2600/2600 [00:06<00:00, 398.20it/s]\n",
      "100%|██████████| 651/651 [00:01<00:00, 360.35it/s]\n"
     ]
    }
   ],
   "source": [
    "data_dir = Path(\"../../data/external/gestures-dataset/\").resolve()\n",
    "\n",
    "# get all paths with the .txt extension\n",
    "formats = [\".txt\"]\n",
    "paths = [path for path in data_tools.walk_dir(data_dir) if path.suffix in formats]\n",
    "# make a train-test split\n",
    "split = 0.8\n",
    "idx = int(len(paths) * split)\n",
    "trainpaths = paths[:idx]\n",
    "testpaths = paths[idx:]\n",
    "\n",
    "traindataset = data_tools.TSDataset(trainpaths)\n",
    "testdataset = data_tools.TSDataset(testpaths)"
   ]
  },
  {
   "cell_type": "code",
   "execution_count": 3,
   "metadata": {},
   "outputs": [],
   "source": [
    "trainloader = data_tools.PaddedDatagenerator(traindataset, batchsize=32)\n",
    "testloader = data_tools.PaddedDatagenerator(testdataset, batchsize=32)"
   ]
  },
  {
   "attachments": {},
   "cell_type": "markdown",
   "metadata": {},
   "source": [
    "Set up loss and accuracy"
   ]
  },
  {
   "cell_type": "code",
   "execution_count": 4,
   "metadata": {},
   "outputs": [],
   "source": [
    "accuracy = metrics.Accuracy()\n",
    "loss_fn = torch.nn.CrossEntropyLoss()\n",
    "log_dir = Path(\"../../models/attention/\").resolve()"
   ]
  },
  {
   "attachments": {},
   "cell_type": "markdown",
   "metadata": {},
   "source": [
    "Set up configuration"
   ]
  },
  {
   "cell_type": "code",
   "execution_count": 10,
   "metadata": {},
   "outputs": [
    {
     "data": {
      "text/plain": [
       "epochs: 10\n",
       "metrics: [Accuracy]\n",
       "logdir: /workspaces/ML22/models/attention\n",
       "train_steps: 81\n",
       "valid_steps: 20\n",
       "tunewriter: ['tensorboard']\n",
       "optimizer_kwargs: {'lr': 0.001, 'weight_decay': 1e-05}\n",
       "scheduler_kwargs: {'factor': 0.5, 'patience': 5}\n",
       "earlystop_kwargs: None"
      ]
     },
     "execution_count": 10,
     "metadata": {},
     "output_type": "execute_result"
    }
   ],
   "source": [
    "from src.settings import TrainerSettings\n",
    "import gin\n",
    "\n",
    "gin.parse_config_file(\"gestures.gin\")\n",
    "\n",
    "# epochs comes from ginfile\n",
    "settings = TrainerSettings(\n",
    "    metrics=[accuracy],\n",
    "    logdir=log_dir,\n",
    "    train_steps=len(trainloader),\n",
    "    valid_steps=len(testloader),\n",
    "    tunewriter=[\"tensorboard\", \"gin\"],\n",
    "    scheduler_kwargs={\"factor\": 0.5, \"patience\": 5},\n",
    "    earlystop_kwargs=None\n",
    ")\n",
    "grumodel = rnn_models.GRUmodel() # config comes from ginfile\n",
    "settings"
   ]
  },
  {
   "cell_type": "code",
   "execution_count": 6,
   "metadata": {},
   "outputs": [
    {
     "name": "stderr",
     "output_type": "stream",
     "text": [
      "2023-05-25 16:25:44.814 | INFO     | src.data.data_tools:dir_add_timestamp:137 - Logging to /workspaces/ML22/models/attention/20230525-1625\n",
      "2023-05-25 16:25:44.828 | INFO     | src.models.train_model:__init__:109 - Found earlystop_kwargs in TrainerSettings. Set to None if you dont want earlystopping.\n"
     ]
    }
   ],
   "source": [
    "grutrainer = train_model.Trainer(\n",
    "    model=grumodel, \n",
    "    settings=settings, \n",
    "    loss_fn=loss_fn,\n",
    "    optimizer=optim.Adam, \n",
    "    traindataloader=trainloader, \n",
    "    validdataloader=testloader, \n",
    "    scheduler=optim.lr_scheduler.ReduceLROnPlateau\n",
    "    )"
   ]
  },
  {
   "cell_type": "code",
   "execution_count": 7,
   "metadata": {},
   "outputs": [
    {
     "name": "stderr",
     "output_type": "stream",
     "text": [
      "100%|\u001b[38;2;30;71;6m██████████\u001b[0m| 81/81 [00:10<00:00,  8.00it/s]\n",
      "2023-05-25 16:25:55.604 | INFO     | src.models.train_model:report:207 - Epoch 0 train 2.4844 test 2.4284 metric ['0.1500']\n",
      "100%|\u001b[38;2;30;71;6m██████████\u001b[0m| 81/81 [00:09<00:00,  8.42it/s]\n",
      "2023-05-25 16:26:06.147 | INFO     | src.models.train_model:report:207 - Epoch 1 train 1.8175 test 1.7138 metric ['0.2719']\n",
      "100%|\u001b[38;2;30;71;6m██████████\u001b[0m| 81/81 [00:08<00:00,  9.53it/s]\n",
      "2023-05-25 16:26:15.272 | INFO     | src.models.train_model:report:207 - Epoch 2 train 1.3656 test 1.3470 metric ['0.4422']\n",
      "100%|\u001b[38;2;30;71;6m██████████\u001b[0m| 81/81 [00:10<00:00,  7.79it/s]\n",
      "2023-05-25 16:26:26.285 | INFO     | src.models.train_model:report:207 - Epoch 3 train 0.9602 test 1.2433 metric ['0.4766']\n",
      "100%|\u001b[38;2;30;71;6m██████████\u001b[0m| 81/81 [00:07<00:00, 10.22it/s]\n",
      "2023-05-25 16:26:34.690 | INFO     | src.models.train_model:report:207 - Epoch 4 train 0.6499 test 1.1694 metric ['0.6266']\n",
      "100%|\u001b[38;2;30;71;6m██████████\u001b[0m| 81/81 [00:07<00:00, 11.35it/s]\n",
      "2023-05-25 16:26:42.306 | INFO     | src.models.train_model:report:207 - Epoch 5 train 0.4567 test 0.9114 metric ['0.7188']\n",
      "100%|\u001b[38;2;30;71;6m██████████\u001b[0m| 81/81 [00:06<00:00, 11.66it/s]\n",
      "2023-05-25 16:26:49.744 | INFO     | src.models.train_model:report:207 - Epoch 6 train 0.3221 test 1.1633 metric ['0.6625']\n",
      "2023-05-25 16:26:49.747 | INFO     | src.models.train_model:__call__:244 - best loss: 0.9113779872655868, current loss 1.163286. Counter 1.000000/10.\n",
      "100%|\u001b[38;2;30;71;6m██████████\u001b[0m| 81/81 [00:07<00:00, 11.47it/s]\n",
      "2023-05-25 16:26:57.422 | INFO     | src.models.train_model:report:207 - Epoch 7 train 0.2388 test 0.8343 metric ['0.7812']\n",
      "100%|\u001b[38;2;30;71;6m██████████\u001b[0m| 81/81 [00:07<00:00, 11.36it/s]\n",
      "2023-05-25 16:27:05.121 | INFO     | src.models.train_model:report:207 - Epoch 8 train 0.1539 test 0.9408 metric ['0.7531']\n",
      "2023-05-25 16:27:05.123 | INFO     | src.models.train_model:__call__:244 - best loss: 0.8342619836330414, current loss 0.940819. Counter 1.000000/10.\n",
      "100%|\u001b[38;2;30;71;6m██████████\u001b[0m| 81/81 [00:10<00:00,  7.84it/s]\n",
      "2023-05-25 16:27:16.094 | INFO     | src.models.train_model:report:207 - Epoch 9 train 0.0929 test 0.9556 metric ['0.7750']\n",
      "2023-05-25 16:27:16.096 | INFO     | src.models.train_model:__call__:244 - best loss: 0.8342619836330414, current loss 0.955576. Counter 2.000000/10.\n",
      "100%|\u001b[38;2;30;71;6m██████████\u001b[0m| 81/81 [00:15<00:00,  5.29it/s]\n",
      "2023-05-25 16:27:32.015 | INFO     | src.models.train_model:report:207 - Epoch 10 train 0.0811 test 0.7951 metric ['0.7937']\n",
      "100%|\u001b[38;2;30;71;6m██████████\u001b[0m| 81/81 [00:08<00:00,  9.86it/s]\n",
      "2023-05-25 16:27:40.998 | INFO     | src.models.train_model:report:207 - Epoch 11 train 0.0842 test 0.5809 metric ['0.8438']\n",
      "100%|\u001b[38;2;30;71;6m██████████\u001b[0m| 81/81 [00:09<00:00,  8.59it/s]\n",
      "2023-05-25 16:27:51.044 | INFO     | src.models.train_model:report:207 - Epoch 12 train 0.0739 test 0.8630 metric ['0.8187']\n",
      "2023-05-25 16:27:51.047 | INFO     | src.models.train_model:__call__:244 - best loss: 0.5808920115232468, current loss 0.862974. Counter 1.000000/10.\n",
      "100%|\u001b[38;2;30;71;6m██████████\u001b[0m| 81/81 [00:12<00:00,  6.40it/s]\n",
      "2023-05-25 16:28:04.203 | INFO     | src.models.train_model:report:207 - Epoch 13 train 0.0345 test 0.8160 metric ['0.8141']\n",
      "2023-05-25 16:28:04.207 | INFO     | src.models.train_model:__call__:244 - best loss: 0.5808920115232468, current loss 0.815989. Counter 2.000000/10.\n",
      "100%|\u001b[38;2;30;71;6m██████████\u001b[0m| 81/81 [00:09<00:00,  8.17it/s]\n",
      "2023-05-25 16:28:14.579 | INFO     | src.models.train_model:report:207 - Epoch 14 train 0.0285 test 0.7720 metric ['0.8031']\n",
      "2023-05-25 16:28:14.583 | INFO     | src.models.train_model:__call__:244 - best loss: 0.5808920115232468, current loss 0.772015. Counter 3.000000/10.\n",
      "100%|\u001b[38;2;30;71;6m██████████\u001b[0m| 81/81 [00:09<00:00,  8.41it/s]\n",
      "2023-05-25 16:28:25.185 | INFO     | src.models.train_model:report:207 - Epoch 15 train 0.0459 test 0.8341 metric ['0.8203']\n",
      "2023-05-25 16:28:25.189 | INFO     | src.models.train_model:__call__:244 - best loss: 0.5808920115232468, current loss 0.834095. Counter 4.000000/10.\n",
      "100%|\u001b[38;2;30;71;6m██████████\u001b[0m| 81/81 [00:08<00:00,  9.49it/s]\n",
      "2023-05-25 16:28:34.224 | INFO     | src.models.train_model:report:207 - Epoch 16 train 0.0348 test 0.4139 metric ['0.8906']\n",
      "100%|\u001b[38;2;30;71;6m██████████\u001b[0m| 81/81 [00:08<00:00,  9.69it/s]\n",
      "2023-05-25 16:28:43.101 | INFO     | src.models.train_model:report:207 - Epoch 17 train 0.0141 test 0.8510 metric ['0.8156']\n",
      "2023-05-25 16:28:43.107 | INFO     | src.models.train_model:__call__:244 - best loss: 0.41390722841024397, current loss 0.850980. Counter 1.000000/10.\n",
      "100%|\u001b[38;2;30;71;6m██████████\u001b[0m| 81/81 [00:10<00:00,  7.59it/s]\n",
      "2023-05-25 16:28:54.381 | INFO     | src.models.train_model:report:207 - Epoch 18 train 0.0184 test 0.6637 metric ['0.8656']\n",
      "2023-05-25 16:28:54.385 | INFO     | src.models.train_model:__call__:244 - best loss: 0.41390722841024397, current loss 0.663708. Counter 2.000000/10.\n",
      "100%|\u001b[38;2;30;71;6m██████████\u001b[0m| 81/81 [00:07<00:00, 11.40it/s]\n",
      "2023-05-25 16:29:01.990 | INFO     | src.models.train_model:report:207 - Epoch 19 train 0.0142 test 0.7317 metric ['0.8187']\n",
      "2023-05-25 16:29:01.992 | INFO     | src.models.train_model:__call__:244 - best loss: 0.41390722841024397, current loss 0.731729. Counter 3.000000/10.\n",
      "100%|\u001b[38;2;30;71;6m██████████\u001b[0m| 81/81 [00:08<00:00,  9.81it/s]\n",
      "2023-05-25 16:29:10.972 | INFO     | src.models.train_model:report:207 - Epoch 20 train 0.0152 test 1.0562 metric ['0.7984']\n",
      "2023-05-25 16:29:10.975 | INFO     | src.models.train_model:__call__:244 - best loss: 0.41390722841024397, current loss 1.056217. Counter 4.000000/10.\n",
      "100%|\u001b[38;2;30;71;6m██████████\u001b[0m| 81/81 [00:08<00:00,  9.17it/s]\n",
      "2023-05-25 16:29:20.479 | INFO     | src.models.train_model:report:207 - Epoch 21 train 0.0155 test 1.0567 metric ['0.7875']\n",
      "2023-05-25 16:29:20.486 | INFO     | src.models.train_model:__call__:244 - best loss: 0.41390722841024397, current loss 1.056659. Counter 5.000000/10.\n",
      "100%|\u001b[38;2;30;71;6m██████████\u001b[0m| 81/81 [00:07<00:00, 10.27it/s]\n",
      "2023-05-25 16:29:28.929 | INFO     | src.models.train_model:report:207 - Epoch 22 train 0.0116 test 0.5063 metric ['0.8844']\n",
      "2023-05-25 16:29:28.932 | INFO     | src.models.train_model:__call__:244 - best loss: 0.41390722841024397, current loss 0.506275. Counter 6.000000/10.\n",
      "100%|\u001b[38;2;30;71;6m██████████\u001b[0m| 81/81 [00:07<00:00, 11.51it/s]\n",
      "2023-05-25 16:29:36.637 | INFO     | src.models.train_model:report:207 - Epoch 23 train 0.0244 test 0.5068 metric ['0.8797']\n",
      "2023-05-25 16:29:36.641 | INFO     | src.models.train_model:__call__:244 - best loss: 0.41390722841024397, current loss 0.506825. Counter 7.000000/10.\n",
      "100%|\u001b[38;2;30;71;6m██████████\u001b[0m| 81/81 [00:11<00:00,  6.88it/s]\n",
      "2023-05-25 16:29:48.845 | INFO     | src.models.train_model:report:207 - Epoch 24 train 0.0085 test 0.8861 metric ['0.8000']\n",
      "2023-05-25 16:29:48.847 | INFO     | src.models.train_model:__call__:244 - best loss: 0.41390722841024397, current loss 0.886085. Counter 8.000000/10.\n",
      "100%|\u001b[38;2;30;71;6m██████████\u001b[0m| 81/81 [00:10<00:00,  7.84it/s]\n",
      "2023-05-25 16:29:59.977 | INFO     | src.models.train_model:report:207 - Epoch 25 train 0.0338 test 0.5076 metric ['0.8422']\n",
      "2023-05-25 16:29:59.980 | INFO     | src.models.train_model:__call__:244 - best loss: 0.41390722841024397, current loss 0.507591. Counter 9.000000/10.\n",
      "100%|\u001b[38;2;30;71;6m██████████\u001b[0m| 81/81 [00:10<00:00,  7.37it/s]\n",
      "2023-05-25 16:30:11.503 | INFO     | src.models.train_model:report:207 - Epoch 26 train 0.0598 test 0.6396 metric ['0.8578']\n",
      "2023-05-25 16:30:11.505 | INFO     | src.models.train_model:__call__:244 - best loss: 0.41390722841024397, current loss 0.639641. Counter 10.000000/10.\n",
      "2023-05-25 16:30:11.509 | INFO     | src.models.train_model:loop:134 - Interrupting loop due to early stopping patience.\n",
      "2023-05-25 16:30:11.511 | INFO     | src.models.train_model:loop:140 - early_stopping_save was false, using latest model. Set to true to retrieve best model.\n",
      " 52%|\u001b[38;2;30;71;6m█████▏    \u001b[0m| 26/50 [04:26<04:06, 10.25s/it]\n"
     ]
    }
   ],
   "source": [
    "grutrainer.loop()"
   ]
  },
  {
   "attachments": {},
   "cell_type": "markdown",
   "metadata": {},
   "source": [
    "GRU model like we have seen before"
   ]
  },
  {
   "attachments": {},
   "cell_type": "markdown",
   "metadata": {},
   "source": [
    "And compare performance with an attention layer added to the model"
   ]
  },
  {
   "cell_type": "code",
   "execution_count": 8,
   "metadata": {},
   "outputs": [
    {
     "name": "stderr",
     "output_type": "stream",
     "text": [
      "2023-05-25 16:30:11.587 | INFO     | src.data.data_tools:dir_add_timestamp:137 - Logging to /workspaces/ML22/models/attention/20230525-1630\n",
      "2023-05-25 16:30:11.598 | INFO     | src.models.train_model:__init__:109 - Found earlystop_kwargs in TrainerSettings. Set to None if you dont want earlystopping.\n",
      "100%|\u001b[38;2;30;71;6m██████████\u001b[0m| 81/81 [00:10<00:00,  7.89it/s]\n",
      "2023-05-25 16:30:22.510 | INFO     | src.models.train_model:report:207 - Epoch 0 train 2.1805 test 1.6557 metric ['0.3469']\n",
      "100%|\u001b[38;2;30;71;6m██████████\u001b[0m| 81/81 [00:08<00:00,  9.27it/s]\n",
      "2023-05-25 16:30:31.968 | INFO     | src.models.train_model:report:207 - Epoch 1 train 1.4393 test 1.3366 metric ['0.4891']\n",
      "100%|\u001b[38;2;30;71;6m██████████\u001b[0m| 81/81 [00:09<00:00,  8.32it/s]\n",
      "2023-05-25 16:30:42.464 | INFO     | src.models.train_model:report:207 - Epoch 2 train 1.0654 test 1.3068 metric ['0.5703']\n",
      "100%|\u001b[38;2;30;71;6m██████████\u001b[0m| 81/81 [00:09<00:00,  8.84it/s]\n",
      "2023-05-25 16:30:52.192 | INFO     | src.models.train_model:report:207 - Epoch 3 train 0.6237 test 1.1830 metric ['0.6469']\n",
      "100%|\u001b[38;2;30;71;6m██████████\u001b[0m| 81/81 [00:10<00:00,  7.52it/s]\n",
      "2023-05-25 16:31:03.412 | INFO     | src.models.train_model:report:207 - Epoch 4 train 0.3222 test 1.1285 metric ['0.7344']\n",
      "100%|\u001b[38;2;30;71;6m██████████\u001b[0m| 81/81 [00:08<00:00,  9.79it/s]\n",
      "2023-05-25 16:31:12.288 | INFO     | src.models.train_model:report:207 - Epoch 5 train 0.1368 test 0.7397 metric ['0.7750']\n",
      "100%|\u001b[38;2;30;71;6m██████████\u001b[0m| 81/81 [00:08<00:00,  9.53it/s]\n",
      "2023-05-25 16:31:21.247 | INFO     | src.models.train_model:report:207 - Epoch 6 train 0.0730 test 1.1064 metric ['0.7594']\n",
      "2023-05-25 16:31:21.249 | INFO     | src.models.train_model:__call__:244 - best loss: 0.7397284924983978, current loss 1.106424. Counter 1.000000/10.\n",
      "100%|\u001b[38;2;30;71;6m██████████\u001b[0m| 81/81 [00:08<00:00,  9.50it/s]\n",
      "2023-05-25 16:31:30.443 | INFO     | src.models.train_model:report:207 - Epoch 7 train 0.1531 test 0.9408 metric ['0.7625']\n",
      "2023-05-25 16:31:30.445 | INFO     | src.models.train_model:__call__:244 - best loss: 0.7397284924983978, current loss 0.940828. Counter 2.000000/10.\n",
      "100%|\u001b[38;2;30;71;6m██████████\u001b[0m| 81/81 [00:07<00:00, 11.52it/s]\n",
      "2023-05-25 16:31:37.906 | INFO     | src.models.train_model:report:207 - Epoch 8 train 0.0587 test 0.7706 metric ['0.8016']\n",
      "2023-05-25 16:31:37.909 | INFO     | src.models.train_model:__call__:244 - best loss: 0.7397284924983978, current loss 0.770649. Counter 3.000000/10.\n",
      "100%|\u001b[38;2;30;71;6m██████████\u001b[0m| 81/81 [00:08<00:00,  9.57it/s]\n",
      "2023-05-25 16:31:47.058 | INFO     | src.models.train_model:report:207 - Epoch 9 train 0.0321 test 1.3430 metric ['0.7688']\n",
      "2023-05-25 16:31:47.064 | INFO     | src.models.train_model:__call__:244 - best loss: 0.7397284924983978, current loss 1.342989. Counter 4.000000/10.\n",
      "100%|\u001b[38;2;30;71;6m██████████\u001b[0m| 81/81 [00:06<00:00, 12.40it/s]\n",
      "2023-05-25 16:31:54.020 | INFO     | src.models.train_model:report:207 - Epoch 10 train 0.0504 test 0.8964 metric ['0.8453']\n",
      "2023-05-25 16:31:54.022 | INFO     | src.models.train_model:__call__:244 - best loss: 0.7397284924983978, current loss 0.896392. Counter 5.000000/10.\n",
      "100%|\u001b[38;2;30;71;6m██████████\u001b[0m| 81/81 [00:08<00:00,  9.72it/s]\n",
      "2023-05-25 16:32:03.139 | INFO     | src.models.train_model:report:207 - Epoch 11 train 0.0200 test 1.0209 metric ['0.7922']\n",
      "2023-05-25 16:32:03.141 | INFO     | src.models.train_model:__call__:244 - best loss: 0.7397284924983978, current loss 1.020861. Counter 6.000000/10.\n",
      "100%|\u001b[38;2;30;71;6m██████████\u001b[0m| 81/81 [00:12<00:00,  6.72it/s]\n",
      "2023-05-25 16:32:15.700 | INFO     | src.models.train_model:report:207 - Epoch 12 train 0.0525 test 0.9865 metric ['0.7812']\n",
      "2023-05-25 16:32:15.703 | INFO     | src.models.train_model:__call__:244 - best loss: 0.7397284924983978, current loss 0.986477. Counter 7.000000/10.\n",
      "100%|\u001b[38;2;30;71;6m██████████\u001b[0m| 81/81 [00:07<00:00, 10.49it/s]\n",
      "2023-05-25 16:32:24.013 | INFO     | src.models.train_model:report:207 - Epoch 13 train 0.0235 test 0.9989 metric ['0.8359']\n",
      "2023-05-25 16:32:24.015 | INFO     | src.models.train_model:__call__:244 - best loss: 0.7397284924983978, current loss 0.998930. Counter 8.000000/10.\n",
      "100%|\u001b[38;2;30;71;6m██████████\u001b[0m| 81/81 [00:11<00:00,  7.08it/s]\n",
      "2023-05-25 16:32:35.906 | INFO     | src.models.train_model:report:207 - Epoch 14 train 0.0251 test 0.9076 metric ['0.8328']\n",
      "2023-05-25 16:32:35.910 | INFO     | src.models.train_model:__call__:244 - best loss: 0.7397284924983978, current loss 0.907635. Counter 9.000000/10.\n",
      "100%|\u001b[38;2;30;71;6m██████████\u001b[0m| 81/81 [00:11<00:00,  7.17it/s]\n",
      "2023-05-25 16:32:47.781 | INFO     | src.models.train_model:report:207 - Epoch 15 train 0.0163 test 0.8375 metric ['0.8344']\n",
      "2023-05-25 16:32:47.786 | INFO     | src.models.train_model:__call__:244 - best loss: 0.7397284924983978, current loss 0.837455. Counter 10.000000/10.\n",
      "2023-05-25 16:32:47.794 | INFO     | src.models.train_model:loop:134 - Interrupting loop due to early stopping patience.\n",
      "2023-05-25 16:32:47.796 | INFO     | src.models.train_model:loop:140 - early_stopping_save was false, using latest model. Set to true to retrieve best model.\n",
      " 30%|\u001b[38;2;30;71;6m███       \u001b[0m| 15/50 [02:36<06:04, 10.41s/it]\n"
     ]
    }
   ],
   "source": [
    "attentionmodel = rnn_models.AttentionGRU()\n",
    "\n",
    "attentiontrainer = train_model.Trainer(\n",
    "    model=attentionmodel, \n",
    "    settings=settings, \n",
    "    loss_fn=loss_fn,\n",
    "    optimizer=optim.Adam, \n",
    "    traindataloader=trainloader, \n",
    "    validdataloader=testloader, \n",
    "    scheduler=optim.lr_scheduler.ReduceLROnPlateau\n",
    "    )\n",
    "attentiontrainer.loop()"
   ]
  },
  {
   "attachments": {},
   "cell_type": "markdown",
   "metadata": {},
   "source": [
    "So, this is very nice. In my tensorboard, I see:\n",
    "- loss is better in both train and test\n",
    "- accuracy is better\n",
    "- the model converges faster"
   ]
  }
 ],
 "metadata": {
  "kernelspec": {
   "display_name": "deep-learning-wM7qE7ca-py3.9",
   "language": "python",
   "name": "python3"
  },
  "language_info": {
   "codemirror_mode": {
    "name": "ipython",
    "version": 3
   },
   "file_extension": ".py",
   "mimetype": "text/x-python",
   "name": "python",
   "nbconvert_exporter": "python",
   "pygments_lexer": "ipython3",
   "version": "3.9.16"
  },
  "orig_nbformat": 4,
  "vscode": {
   "interpreter": {
    "hash": "9384df97cb25cd0ffeadd8ca5fc8c3b92d252d40e81804b4c63c6d046c91939e"
   }
  }
 },
 "nbformat": 4,
 "nbformat_minor": 2
}
