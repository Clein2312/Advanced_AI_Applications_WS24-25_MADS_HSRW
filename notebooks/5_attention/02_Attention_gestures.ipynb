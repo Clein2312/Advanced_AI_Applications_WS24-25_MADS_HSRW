{
 "cells": [
  {
   "cell_type": "code",
   "execution_count": 2,
   "metadata": {},
   "outputs": [],
   "source": [
    "import sys\n",
    "sys.path.insert(0, \"../..\")\n",
    "import torch\n",
    "import gin\n",
    "from pathlib import Path\n",
    "from src.data import data_tools \n",
    "from src.models import metrics, train_model, rnn_models"
   ]
  },
  {
   "cell_type": "markdown",
   "metadata": {},
   "source": [
    "Let's try to see how Attention makes a difference with the gestures dataset\n",
    "First, get the data"
   ]
  },
  {
   "cell_type": "code",
   "execution_count": 4,
   "metadata": {},
   "outputs": [
    {
     "name": "stderr",
     "output_type": "stream",
     "text": [
      "100%|██████████| 2600/2600 [00:01<00:00, 1367.51it/s]\n",
      "100%|██████████| 651/651 [00:00<00:00, 1470.56it/s]\n"
     ]
    }
   ],
   "source": [
    "data_dir = Path(\"../../data/external/gestures-dataset/\")\n",
    "\n",
    "# get all paths with the .txt extension\n",
    "formats = [\".txt\"]\n",
    "paths = [path for path in data_tools.walk_dir(data_dir) if path.suffix in formats]\n",
    "# make a train-test split\n",
    "split = 0.8\n",
    "idx = int(len(paths) * split)\n",
    "trainpaths = paths[:idx]\n",
    "testpaths = paths[idx:]\n",
    "\n",
    "traindataset = data_tools.TSDataset(trainpaths)\n",
    "testdataset = data_tools.TSDataset(testpaths)"
   ]
  },
  {
   "cell_type": "code",
   "execution_count": 5,
   "metadata": {},
   "outputs": [],
   "source": [
    "trainloader = data_tools.PaddedDatagenerator(traindataset, batchsize=32)\n",
    "testloader = data_tools.PaddedDatagenerator(testdataset, batchsize=32)"
   ]
  },
  {
   "cell_type": "markdown",
   "metadata": {},
   "source": [
    "Set up loss and accuracy"
   ]
  },
  {
   "cell_type": "code",
   "execution_count": 10,
   "metadata": {},
   "outputs": [],
   "source": [
    "accuracy = metrics.Accuracy()\n",
    "loss_fn = torch.nn.CrossEntropyLoss()\n",
    "log_dir = Path(\"../../models/attention/\")"
   ]
  },
  {
   "cell_type": "markdown",
   "metadata": {},
   "source": [
    "Set up configuration"
   ]
  },
  {
   "cell_type": "code",
   "execution_count": 11,
   "metadata": {},
   "outputs": [],
   "source": [
    "gin.parse_config_file(\"gestures.gin\")\n",
    "\n",
    "config = {\n",
    "    \"input_size\" : 3,\n",
    "    \"hidden_size\" : 100,\n",
    "    \"dropout\" : 0.05,\n",
    "    \"num_layers\" : 3,\n",
    "    \"output_size\" : 20\n",
    "}"
   ]
  },
  {
   "cell_type": "markdown",
   "metadata": {},
   "source": [
    "GRU model like we have seen before"
   ]
  },
  {
   "cell_type": "code",
   "execution_count": 12,
   "metadata": {},
   "outputs": [
    {
     "name": "stderr",
     "output_type": "stream",
     "text": [
      "2022-05-31 10:46:42.092 | INFO     | src.data.data_tools:dir_add_timestamp:213 - Logging to ../../models/attention/20220531-1046\n",
      "100%|██████████| 81/81 [00:04<00:00, 18.27it/s]\n",
      "2022-05-31 10:46:47.301 | INFO     | src.models.train_model:trainloop:171 - Epoch 0 train 2.4680 test 2.2605 metric ['0.1422']\n",
      "100%|██████████| 81/81 [00:03<00:00, 21.93it/s]\n",
      "2022-05-31 10:46:51.461 | INFO     | src.models.train_model:trainloop:171 - Epoch 1 train 1.9680 test 1.9494 metric ['0.2484']\n",
      "100%|██████████| 81/81 [00:03<00:00, 23.04it/s]\n",
      "2022-05-31 10:46:55.357 | INFO     | src.models.train_model:trainloop:171 - Epoch 2 train 1.4978 test 1.5332 metric ['0.3266']\n",
      "100%|██████████| 81/81 [00:03<00:00, 24.60it/s]\n",
      "2022-05-31 10:46:58.997 | INFO     | src.models.train_model:trainloop:171 - Epoch 3 train 1.1022 test 1.2319 metric ['0.4469']\n",
      "100%|██████████| 81/81 [00:03<00:00, 24.01it/s]\n",
      "2022-05-31 10:47:02.751 | INFO     | src.models.train_model:trainloop:171 - Epoch 4 train 0.8024 test 1.0203 metric ['0.5984']\n",
      "100%|██████████| 81/81 [00:03<00:00, 24.06it/s]\n",
      "2022-05-31 10:47:06.513 | INFO     | src.models.train_model:trainloop:171 - Epoch 5 train 0.5351 test 0.9491 metric ['0.6391']\n",
      "100%|██████████| 81/81 [00:04<00:00, 19.78it/s]\n",
      "2022-05-31 10:47:11.008 | INFO     | src.models.train_model:trainloop:171 - Epoch 6 train 0.3406 test 0.6882 metric ['0.7969']\n",
      "100%|██████████| 81/81 [00:03<00:00, 24.81it/s]\n",
      "2022-05-31 10:47:14.644 | INFO     | src.models.train_model:trainloop:171 - Epoch 7 train 0.2035 test 0.4930 metric ['0.8734']\n",
      "100%|██████████| 81/81 [00:03<00:00, 25.91it/s]\n",
      "2022-05-31 10:47:18.105 | INFO     | src.models.train_model:trainloop:171 - Epoch 8 train 0.1479 test 0.3894 metric ['0.8922']\n",
      "100%|██████████| 81/81 [00:03<00:00, 23.43it/s]\n",
      "2022-05-31 10:47:21.927 | INFO     | src.models.train_model:trainloop:171 - Epoch 9 train 0.1023 test 0.3854 metric ['0.8828']\n",
      "100%|██████████| 10/10 [00:39<00:00,  3.95s/it]\n"
     ]
    }
   ],
   "source": [
    "model = rnn_models.GRUmodel(config)\n",
    "\n",
    "model = train_model.trainloop(\n",
    "    epochs=10,\n",
    "    model=model,\n",
    "    metrics=[accuracy],\n",
    "    train_dataloader=trainloader,\n",
    "    test_dataloader=testloader,\n",
    "    log_dir=log_dir,\n",
    "    train_steps=len(trainloader),\n",
    "    eval_steps=len(testloader)\n",
    ")"
   ]
  },
  {
   "cell_type": "markdown",
   "metadata": {},
   "source": [
    "And compare performance with an attention layer added to the model"
   ]
  },
  {
   "cell_type": "code",
   "execution_count": 13,
   "metadata": {},
   "outputs": [
    {
     "name": "stderr",
     "output_type": "stream",
     "text": [
      "2022-05-31 10:47:21.973 | INFO     | src.data.data_tools:dir_add_timestamp:213 - Logging to ../../models/attention/20220531-1047\n",
      "100%|██████████| 81/81 [00:04<00:00, 16.59it/s]\n",
      "2022-05-31 10:47:28.068 | INFO     | src.models.train_model:trainloop:171 - Epoch 0 train 2.2584 test 2.2430 metric ['0.2078']\n",
      "100%|██████████| 81/81 [00:04<00:00, 17.12it/s]\n",
      "2022-05-31 10:47:33.312 | INFO     | src.models.train_model:trainloop:171 - Epoch 1 train 1.3766 test 1.4041 metric ['0.4203']\n",
      "100%|██████████| 81/81 [00:04<00:00, 18.21it/s]\n",
      "2022-05-31 10:47:38.252 | INFO     | src.models.train_model:trainloop:171 - Epoch 2 train 0.9331 test 0.9707 metric ['0.6172']\n",
      "100%|██████████| 81/81 [00:04<00:00, 17.25it/s]\n",
      "2022-05-31 10:47:43.433 | INFO     | src.models.train_model:trainloop:171 - Epoch 3 train 0.6683 test 0.9795 metric ['0.6781']\n",
      "100%|██████████| 81/81 [00:04<00:00, 18.28it/s]\n",
      "2022-05-31 10:47:48.369 | INFO     | src.models.train_model:trainloop:171 - Epoch 4 train 0.4072 test 0.6015 metric ['0.8047']\n",
      "100%|██████████| 81/81 [00:04<00:00, 17.39it/s]\n",
      "2022-05-31 10:47:53.506 | INFO     | src.models.train_model:trainloop:171 - Epoch 5 train 0.2330 test 0.5944 metric ['0.8656']\n",
      "100%|██████████| 81/81 [00:04<00:00, 18.43it/s]\n",
      "2022-05-31 10:47:58.381 | INFO     | src.models.train_model:trainloop:171 - Epoch 6 train 0.1471 test 0.4256 metric ['0.8797']\n",
      "100%|██████████| 81/81 [00:04<00:00, 19.66it/s]\n",
      "2022-05-31 10:48:03.021 | INFO     | src.models.train_model:trainloop:171 - Epoch 7 train 0.0869 test 0.3968 metric ['0.8891']\n",
      "100%|██████████| 81/81 [00:04<00:00, 18.52it/s]\n",
      "2022-05-31 10:48:07.895 | INFO     | src.models.train_model:trainloop:171 - Epoch 8 train 0.0772 test 0.5447 metric ['0.8984']\n",
      "100%|██████████| 81/81 [00:04<00:00, 17.10it/s]\n",
      "2022-05-31 10:48:13.098 | INFO     | src.models.train_model:trainloop:171 - Epoch 9 train 0.0485 test 0.3961 metric ['0.9297']\n",
      "100%|██████████| 10/10 [00:50<00:00,  5.04s/it]\n"
     ]
    }
   ],
   "source": [
    "model = rnn_models.AttentionGRU(config)\n",
    "\n",
    "model = train_model.trainloop(\n",
    "    epochs=10,\n",
    "    model=model,\n",
    "    metrics=[accuracy],\n",
    "    train_dataloader=trainloader,\n",
    "    test_dataloader=testloader,\n",
    "    log_dir=log_dir,\n",
    "    train_steps=len(trainloader),\n",
    "    eval_steps=len(testloader)\n",
    ")"
   ]
  },
  {
   "cell_type": "markdown",
   "metadata": {},
   "source": [
    "So, this is very nice. In my tensorboard, I see:\n",
    "- loss is better in both train and test\n",
    "- accuracy is better\n",
    "- the model converges faster"
   ]
  }
 ],
 "metadata": {
  "interpreter": {
   "hash": "a15911aab0965639e9482f052beb89e7ca291bb3f153727c5758e3fe9ad1321e"
  },
  "kernelspec": {
   "display_name": "Python 3.8.13 ('deep-learning-xB8KIJr7-py3.9')",
   "language": "python",
   "name": "python3"
  },
  "language_info": {
   "codemirror_mode": {
    "name": "ipython",
    "version": 3
   },
   "file_extension": ".py",
   "mimetype": "text/x-python",
   "name": "python",
   "nbconvert_exporter": "python",
   "pygments_lexer": "ipython3",
   "version": "3.8.13"
  },
  "orig_nbformat": 4
 },
 "nbformat": 4,
 "nbformat_minor": 2
}
