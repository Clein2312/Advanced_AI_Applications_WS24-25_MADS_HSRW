{
 "cells": [
  {
   "cell_type": "code",
   "execution_count": 1,
   "metadata": {},
   "outputs": [
    {
     "name": "stderr",
     "output_type": "stream",
     "text": [
      "/home/vscode/.cache/pypoetry/virtualenvs/deep-learning-jHmOY0S3-py3.9/lib/python3.9/site-packages/torchvision/io/image.py:13: UserWarning: Failed to load image Python extension: 'libc10_cuda.so: cannot open shared object file: No such file or directory'If you don't plan on using image functionality from `torchvision.io`, you can ignore this warning. Otherwise, there might be something wrong with your environment. Did you have `libjpeg` or `libpng` installed before building `torchvision` from source?\n",
      "  warn(\n"
     ]
    }
   ],
   "source": [
    "import sys\n",
    "sys.path.insert(0, \"../..\")\n",
    "import torch\n",
    "import gin\n",
    "from pathlib import Path\n",
    "from src.data import data_tools \n",
    "from src.models import metrics, train_model, rnn_models"
   ]
  },
  {
   "attachments": {},
   "cell_type": "markdown",
   "metadata": {},
   "source": [
    "Let's try to see how Attention makes a difference with the gestures dataset\n",
    "First, get the data"
   ]
  },
  {
   "cell_type": "code",
   "execution_count": 2,
   "metadata": {},
   "outputs": [
    {
     "name": "stderr",
     "output_type": "stream",
     "text": [
      "100%|██████████| 2600/2600 [00:06<00:00, 389.80it/s]\n",
      "100%|██████████| 651/651 [00:01<00:00, 387.08it/s]\n"
     ]
    }
   ],
   "source": [
    "data_dir = Path(\"../../data/external/gestures-dataset/\").resolve()\n",
    "\n",
    "# get all paths with the .txt extension\n",
    "formats = [\".txt\"]\n",
    "paths = [path for path in data_tools.walk_dir(data_dir) if path.suffix in formats]\n",
    "# make a train-test split\n",
    "split = 0.8\n",
    "idx = int(len(paths) * split)\n",
    "trainpaths = paths[:idx]\n",
    "testpaths = paths[idx:]\n",
    "\n",
    "traindataset = data_tools.TSDataset(trainpaths)\n",
    "testdataset = data_tools.TSDataset(testpaths)"
   ]
  },
  {
   "cell_type": "code",
   "execution_count": 3,
   "metadata": {},
   "outputs": [],
   "source": [
    "trainloader = data_tools.PaddedDatagenerator(traindataset, batchsize=32)\n",
    "testloader = data_tools.PaddedDatagenerator(testdataset, batchsize=32)"
   ]
  },
  {
   "attachments": {},
   "cell_type": "markdown",
   "metadata": {},
   "source": [
    "Set up loss and accuracy"
   ]
  },
  {
   "cell_type": "code",
   "execution_count": 4,
   "metadata": {},
   "outputs": [],
   "source": [
    "accuracy = metrics.Accuracy()\n",
    "loss_fn = torch.nn.CrossEntropyLoss()\n",
    "log_dir = Path(\"../../models/attention/\").resolve()"
   ]
  },
  {
   "attachments": {},
   "cell_type": "markdown",
   "metadata": {},
   "source": [
    "Set up configuration"
   ]
  },
  {
   "cell_type": "code",
   "execution_count": 5,
   "metadata": {},
   "outputs": [],
   "source": [
    "gin.parse_config_file(\"gestures.gin\")\n",
    "\n",
    "config = {\n",
    "    \"input_size\" : 3,\n",
    "    \"hidden_size\" : 100,\n",
    "    \"dropout\" : 0.05,\n",
    "    \"num_layers\" : 3,\n",
    "    \"output_size\" : 20\n",
    "}"
   ]
  },
  {
   "attachments": {},
   "cell_type": "markdown",
   "metadata": {},
   "source": [
    "GRU model like we have seen before"
   ]
  },
  {
   "cell_type": "code",
   "execution_count": 6,
   "metadata": {},
   "outputs": [
    {
     "name": "stderr",
     "output_type": "stream",
     "text": [
      "2023-05-23 08:21:24.373 | INFO     | src.data.data_tools:dir_add_timestamp:137 - Logging to /workspaces/ML22/models/attention/20230523-0821\n",
      "100%|\u001b[38;2;30;71;6m██████████\u001b[0m| 81/81 [00:07<00:00, 10.81it/s]\n",
      "2023-05-23 08:21:32.255 | INFO     | src.models.train_model:trainloop:189 - Epoch 0 train 2.4658 test 2.2234 metric ['0.1938']\n",
      "100%|\u001b[38;2;30;71;6m██████████\u001b[0m| 81/81 [00:05<00:00, 13.64it/s]\n",
      "2023-05-23 08:21:38.582 | INFO     | src.models.train_model:trainloop:189 - Epoch 1 train 2.0046 test 2.0028 metric ['0.2859']\n",
      "100%|\u001b[38;2;30;71;6m██████████\u001b[0m| 81/81 [00:05<00:00, 14.70it/s]\n",
      "2023-05-23 08:21:44.469 | INFO     | src.models.train_model:trainloop:189 - Epoch 2 train 1.5381 test 1.5064 metric ['0.4547']\n",
      "100%|\u001b[38;2;30;71;6m██████████\u001b[0m| 81/81 [00:05<00:00, 14.90it/s]\n",
      "2023-05-23 08:21:50.253 | INFO     | src.models.train_model:trainloop:189 - Epoch 3 train 1.1076 test 1.4330 metric ['0.4219']\n",
      "100%|\u001b[38;2;30;71;6m██████████\u001b[0m| 81/81 [00:06<00:00, 12.05it/s]\n",
      "2023-05-23 08:21:57.453 | INFO     | src.models.train_model:trainloop:189 - Epoch 4 train 0.7146 test 1.2725 metric ['0.5375']\n",
      "100%|\u001b[38;2;30;71;6m██████████\u001b[0m| 81/81 [00:05<00:00, 14.72it/s]\n",
      "2023-05-23 08:22:03.333 | INFO     | src.models.train_model:trainloop:189 - Epoch 5 train 0.4928 test 1.1377 metric ['0.5813']\n",
      "100%|\u001b[38;2;30;71;6m██████████\u001b[0m| 81/81 [00:05<00:00, 13.94it/s]\n",
      "2023-05-23 08:22:09.554 | INFO     | src.models.train_model:trainloop:189 - Epoch 6 train 0.3111 test 0.8782 metric ['0.6750']\n",
      "100%|\u001b[38;2;30;71;6m██████████\u001b[0m| 81/81 [00:06<00:00, 12.22it/s]\n",
      "2023-05-23 08:22:16.814 | INFO     | src.models.train_model:trainloop:189 - Epoch 7 train 0.1735 test 0.9382 metric ['0.7016']\n",
      "2023-05-23 08:22:16.818 | INFO     | src.models.train_model:__call__:288 - best loss: 0.8781555324792862, current loss 0.938167. Counter 1.000000/10.\n",
      "100%|\u001b[38;2;30;71;6m██████████\u001b[0m| 81/81 [00:07<00:00, 10.28it/s]\n",
      "2023-05-23 08:22:25.150 | INFO     | src.models.train_model:trainloop:189 - Epoch 8 train 0.1077 test 0.8486 metric ['0.7422']\n",
      "100%|\u001b[38;2;30;71;6m██████████\u001b[0m| 81/81 [00:08<00:00,  9.47it/s]\n",
      "2023-05-23 08:22:34.274 | INFO     | src.models.train_model:trainloop:189 - Epoch 9 train 0.0901 test 0.6889 metric ['0.7625']\n",
      "100%|\u001b[38;2;30;71;6m██████████\u001b[0m| 10/10 [01:09<00:00,  6.99s/it]\n"
     ]
    }
   ],
   "source": [
    "model = rnn_models.GRUmodel(config)\n",
    "\n",
    "model = train_model.trainloop(\n",
    "    epochs=10,\n",
    "    model=model,\n",
    "    metrics=[accuracy],\n",
    "    train_dataloader=trainloader,\n",
    "    test_dataloader=testloader,\n",
    "    log_dir=log_dir,\n",
    "    train_steps=len(trainloader),\n",
    "    eval_steps=len(testloader),\n",
    "    tunewriter=[\"tensorboard\"]\n",
    ")"
   ]
  },
  {
   "attachments": {},
   "cell_type": "markdown",
   "metadata": {},
   "source": [
    "And compare performance with an attention layer added to the model"
   ]
  },
  {
   "cell_type": "code",
   "execution_count": 16,
   "metadata": {},
   "outputs": [
    {
     "name": "stderr",
     "output_type": "stream",
     "text": [
      "2022-12-19 22:52:33.854 | INFO     | src.data.data_tools:dir_add_timestamp:114 - Logging to ../../models/attention/20221219-2252\n",
      "100%|██████████| 81/81 [00:02<00:00, 39.51it/s]\n",
      "2022-12-19 22:52:36.389 | INFO     | src.models.train_model:trainloop:171 - Epoch 0 train 2.2744 test 2.1660 metric ['0.2687']\n",
      "100%|██████████| 81/81 [00:02<00:00, 39.08it/s]\n",
      "2022-12-19 22:52:38.725 | INFO     | src.models.train_model:trainloop:171 - Epoch 1 train 1.4446 test 1.5761 metric ['0.3422']\n",
      "100%|██████████| 81/81 [00:02<00:00, 38.46it/s]\n",
      "2022-12-19 22:52:41.094 | INFO     | src.models.train_model:trainloop:171 - Epoch 2 train 1.0930 test 1.0965 metric ['0.5906']\n",
      "100%|██████████| 81/81 [00:01<00:00, 40.56it/s]\n",
      "2022-12-19 22:52:43.335 | INFO     | src.models.train_model:trainloop:171 - Epoch 3 train 0.6677 test 0.9031 metric ['0.6172']\n",
      "100%|██████████| 81/81 [00:02<00:00, 39.99it/s]\n",
      "2022-12-19 22:52:45.598 | INFO     | src.models.train_model:trainloop:171 - Epoch 4 train 0.4870 test 0.5145 metric ['0.8469']\n",
      "100%|██████████| 81/81 [00:02<00:00, 37.39it/s]\n",
      "2022-12-19 22:52:48.048 | INFO     | src.models.train_model:trainloop:171 - Epoch 5 train 0.2668 test 0.5057 metric ['0.8750']\n",
      "100%|██████████| 81/81 [00:02<00:00, 36.00it/s]\n",
      "2022-12-19 22:52:50.569 | INFO     | src.models.train_model:trainloop:171 - Epoch 6 train 0.1560 test 0.3477 metric ['0.9109']\n",
      "100%|██████████| 81/81 [00:02<00:00, 37.03it/s]\n",
      "2022-12-19 22:52:53.022 | INFO     | src.models.train_model:trainloop:171 - Epoch 7 train 0.0895 test 0.3842 metric ['0.8922']\n",
      "100%|██████████| 81/81 [00:01<00:00, 40.78it/s]\n",
      "2022-12-19 22:52:55.269 | INFO     | src.models.train_model:trainloop:171 - Epoch 8 train 0.0735 test 0.3088 metric ['0.9406']\n",
      "100%|██████████| 81/81 [00:02<00:00, 39.33it/s]\n",
      "2022-12-19 22:52:57.583 | INFO     | src.models.train_model:trainloop:171 - Epoch 9 train 0.0351 test 0.2389 metric ['0.9484']\n",
      "100%|██████████| 10/10 [00:23<00:00,  2.35s/it]\n"
     ]
    }
   ],
   "source": [
    "model = rnn_models.AttentionGRU(config)\n",
    "\n",
    "model = train_model.trainloop(\n",
    "    epochs=10,\n",
    "    model=model,\n",
    "    metrics=[accuracy],\n",
    "    train_dataloader=trainloader,\n",
    "    test_dataloader=testloader,\n",
    "    log_dir=log_dir,\n",
    "    train_steps=len(trainloader),\n",
    "    eval_steps=len(testloader),\n",
    "    tunewriter=[\"tensorboard\"]\n",
    ")"
   ]
  },
  {
   "attachments": {},
   "cell_type": "markdown",
   "metadata": {},
   "source": [
    "So, this is very nice. In my tensorboard, I see:\n",
    "- loss is better in both train and test\n",
    "- accuracy is better\n",
    "- the model converges faster"
   ]
  }
 ],
 "metadata": {
  "kernelspec": {
   "display_name": "deep-learning-wM7qE7ca-py3.9",
   "language": "python",
   "name": "python3"
  },
  "language_info": {
   "codemirror_mode": {
    "name": "ipython",
    "version": 3
   },
   "file_extension": ".py",
   "mimetype": "text/x-python",
   "name": "python",
   "nbconvert_exporter": "python",
   "pygments_lexer": "ipython3",
   "version": "3.9.16"
  },
  "orig_nbformat": 4,
  "vscode": {
   "interpreter": {
    "hash": "9384df97cb25cd0ffeadd8ca5fc8c3b92d252d40e81804b4c63c6d046c91939e"
   }
  }
 },
 "nbformat": 4,
 "nbformat_minor": 2
}
