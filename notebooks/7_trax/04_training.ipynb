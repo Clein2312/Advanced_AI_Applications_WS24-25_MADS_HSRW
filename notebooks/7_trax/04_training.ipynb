{
 "cells": [
  {
   "cell_type": "code",
   "execution_count": 2,
   "metadata": {},
   "outputs": [
    {
     "name": "stderr",
     "output_type": "stream",
     "text": [
      "/Users/rgrouls/Library/Caches/pypoetry/virtualenvs/deep-learning-xB8KIJr7-py3.9/lib/python3.8/site-packages/torchvision/transforms/functional_pil.py:228: DeprecationWarning: BILINEAR is deprecated and will be removed in Pillow 10 (2023-07-01). Use Resampling.BILINEAR instead.\n",
      "  interpolation: int = Image.BILINEAR,\n",
      "/Users/rgrouls/Library/Caches/pypoetry/virtualenvs/deep-learning-xB8KIJr7-py3.9/lib/python3.8/site-packages/torchvision/transforms/functional_pil.py:295: DeprecationWarning: NEAREST is deprecated and will be removed in Pillow 10 (2023-07-01). Use Resampling.NEAREST or Dither.NONE instead.\n",
      "  interpolation: int = Image.NEAREST,\n",
      "/Users/rgrouls/Library/Caches/pypoetry/virtualenvs/deep-learning-xB8KIJr7-py3.9/lib/python3.8/site-packages/torchvision/transforms/functional_pil.py:328: DeprecationWarning: BICUBIC is deprecated and will be removed in Pillow 10 (2023-07-01). Use Resampling.BICUBIC instead.\n",
      "  interpolation: int = Image.BICUBIC,\n"
     ]
    }
   ],
   "source": [
    "import sys\n",
    "sys.path.insert(0, \"../..\")\n",
    "\n",
    "from src.models.build import summary\n",
    "from src.data import data_tools, make_dataset\n",
    "from src.models import tokenizer \n",
    "\n",
    "import trax\n",
    "from trax import layers as tl\n",
    "from trax.layers import combinators as cb\n",
    "from trax.layers.assert_shape import assert_shape\n",
    "from trax.shapes import signature\n",
    "\n",
    "import matplotlib.pyplot as plt\n",
    "plt.style.use(\"dark_background\")\n",
    "%matplotlib inline\n"
   ]
  },
  {
   "cell_type": "markdown",
   "metadata": {},
   "source": [
    "We will first pull up the code we have used earlier to create a streamer"
   ]
  },
  {
   "cell_type": "code",
   "execution_count": 3,
   "metadata": {},
   "outputs": [
    {
     "name": "stderr",
     "output_type": "stream",
     "text": [
      "2022-06-07 12:20:37.349 | INFO     | src.data.make_dataset:get_imdb_data:96 - ../../data/raw/aclImdb already exists, skipping download\n",
      "100%|██████████| 25000/25000 [00:07<00:00, 3158.35it/s]\n",
      "100%|██████████| 25000/25000 [00:08<00:00, 3083.14it/s]\n",
      "2022-06-07 12:21:00.721 | INFO     | src.models.tokenizer:build_vocab:27 - Found 79808 tokens\n"
     ]
    }
   ],
   "source": [
    "import gin\n",
    "gin.parse_config_file(\"preprocessor.gin\")\n",
    "\n",
    "data_dir = \"../../data/raw\"\n",
    "# use the imdb text data\n",
    "trainpaths, testpaths = make_dataset.get_imdb_data(data_dir)\n",
    "traindataset = data_tools.TextDataset(paths=trainpaths)\n",
    "testdataset = data_tools.TextDataset(paths=testpaths)\n",
    "\n",
    "# build a corpus and vocab\n",
    "corpus = []\n",
    "for i in range(len(traindataset)):\n",
    "    x = tokenizer.clean(traindataset[i][0])\n",
    "    corpus.append(x)\n",
    "v = tokenizer.build_vocab(corpus, max=10000)\n",
    "\n",
    "# use the preprocessor for cleaning\n",
    "preprocessor = tokenizer.Preprocessor(vocab=v, clean=tokenizer.clean)\n",
    "\n",
    "# wrap it up inside a streamer\n",
    "trainstream = data_tools.BaseDatastreamer(\n",
    "    dataset=traindataset, batchsize=32, preprocessor=preprocessor\n",
    ").stream()\n",
    "\n",
    "teststream = data_tools.BaseDatastreamer(\n",
    "    dataset=testdataset, batchsize=32, preprocessor=preprocessor\n",
    ").stream()\n"
   ]
  },
  {
   "cell_type": "code",
   "execution_count": 7,
   "metadata": {},
   "outputs": [
    {
     "data": {
      "text/plain": [
       "(torch.Tensor, torch.Tensor)"
      ]
     },
     "execution_count": 7,
     "metadata": {},
     "output_type": "execute_result"
    }
   ],
   "source": [
    "X, y = next(trainstream)\n",
    "type(X), type(y)\n"
   ]
  },
  {
   "cell_type": "markdown",
   "metadata": {},
   "source": [
    "This works. However, we will have PyTorch Tensors.\n",
    "\n",
    "We could rewrite everything, but we could also cast it to numpy, because trax works fine with numpy."
   ]
  },
  {
   "cell_type": "code",
   "execution_count": 5,
   "metadata": {},
   "outputs": [],
   "source": [
    "def Cast():\n",
    "    def f(generator):\n",
    "        for x, y in generator:\n",
    "            yield x.numpy(), y.numpy()\n",
    "\n",
    "    return lambda g: f(g)\n"
   ]
  },
  {
   "cell_type": "markdown",
   "metadata": {},
   "source": [
    "We need to write a functionwrapper, that returns a function that has a generator g as input.\n",
    "We can yield a first sample from the generator, cast it to numpy, and yield that again. \n",
    "\n",
    "This way we will have chained two generators. We can use `trax.data.Serial` to chain generators."
   ]
  },
  {
   "cell_type": "code",
   "execution_count": 9,
   "metadata": {},
   "outputs": [
    {
     "data": {
      "text/plain": [
       "(numpy.ndarray, numpy.ndarray)"
      ]
     },
     "execution_count": 9,
     "metadata": {},
     "output_type": "execute_result"
    }
   ],
   "source": [
    "data_pipeline = trax.data.Serial(Cast())\n",
    "trainpipe = data_pipeline(trainstream)\n",
    "testpipe = data_pipeline(teststream)\n",
    "X, y = next(trainpipe)\n",
    "type(X), type(y)\n"
   ]
  },
  {
   "cell_type": "markdown",
   "metadata": {},
   "source": [
    "In the GRU model, the GRU layer will output (batch, sequence, dimension).\n",
    "We could do two thing here:\n",
    "1. Simply take the last timestep of the sequence\n",
    "2. Take the average of the sequence\n",
    "\n",
    "Let's implement both as a layer:"
   ]
  },
  {
   "cell_type": "code",
   "execution_count": 10,
   "metadata": {},
   "outputs": [],
   "source": [
    "def Last():\n",
    "    return tl.Fn(\"Last\", lambda x: x[:, -1, :], n_out=1)\n",
    "\n",
    "def AvgLast():\n",
    "    return tl.Fn(\"AvgLast\", lambda x: x.mean(axis=-1), n_out=1)"
   ]
  },
  {
   "cell_type": "markdown",
   "metadata": {},
   "source": [
    "We can wrap this all into a model"
   ]
  },
  {
   "cell_type": "code",
   "execution_count": 11,
   "metadata": {},
   "outputs": [],
   "source": [
    "@assert_shape(\"bs->bd\")\n",
    "def EmbGRU(vocab_size: int, d_feature: int, d_out: int):\n",
    "    model = cb.Serial(\n",
    "        tl.Embedding(vocab_size=vocab_size, d_feature=d_feature),\n",
    "        tl.GRU(n_units=d_feature),\n",
    "        tl.BatchNorm(),\n",
    "        AvgLast(),\n",
    "        tl.Dense(d_out),\n",
    "    )\n",
    "    return model\n"
   ]
  },
  {
   "cell_type": "markdown",
   "metadata": {},
   "source": [
    "And create a model"
   ]
  },
  {
   "cell_type": "code",
   "execution_count": 12,
   "metadata": {},
   "outputs": [
    {
     "name": "stderr",
     "output_type": "stream",
     "text": [
      "WARNING:absl:No GPU/TPU found, falling back to CPU. (Set TF_CPP_MIN_LOG_LEVEL=0 and rerun for more info.)\n",
      "/Users/rgrouls/Library/Caches/pypoetry/virtualenvs/deep-learning-xB8KIJr7-py3.9/lib/python3.8/site-packages/jax/_src/numpy/lax_numpy.py:3710: UserWarning: Explicitly requested dtype <class 'jax._src.numpy.lax_numpy.int64'> requested in zeros is not available, and will be truncated to dtype int32. To enable more dtypes, set the jax_enable_x64 configuration option or the JAX_ENABLE_X64 shell environment variable. See https://github.com/google/jax#current-gotchas for more.\n",
      "  lax._check_user_dtype_supported(dtype, \"zeros\")\n"
     ]
    },
    {
     "name": "stdout",
     "output_type": "stream",
     "text": [
      "layer                   input                dtype     output               dtype \n",
      "(0) Embedding_10002_128 (32, 100)          ( int32 ) | (32, 100, 128)     (float32)\n",
      "(1) GRU_128             (32, 100, 128)     (float32) | (32, 100, 128)     (float32)\n",
      "(2) BatchNorm           (32, 100, 128)     (float32) | (32, 100, 128)     (float32)\n",
      "(3) AvgLast             (32, 100, 128)     (float32) | (32, 100)          (float32)\n",
      "(4) Dense_2             (32, 100)          (float32) | (32, 2)            (float32)\n"
     ]
    },
    {
     "data": {
      "text/plain": [
       "ShapeDtype{shape:(32, 2), dtype:float32}"
      ]
     },
     "execution_count": 12,
     "metadata": {},
     "output_type": "execute_result"
    }
   ],
   "source": [
    "model = EmbGRU(vocab_size=len(v), d_feature=128, d_out=2)\n",
    "model.init_weights_and_state(signature(X))\n",
    "summary(model, X)\n"
   ]
  },
  {
   "cell_type": "markdown",
   "metadata": {},
   "source": [
    "If we want to train, we will need a loss function. Let's pick the CategoryCrossEntropy, which is the same as the CrossEntropy we have been using with PyTorch."
   ]
  },
  {
   "cell_type": "code",
   "execution_count": 13,
   "metadata": {},
   "outputs": [
    {
     "data": {
      "text/plain": [
       "DeviceArray(0.69606143, dtype=float32)"
      ]
     },
     "execution_count": 13,
     "metadata": {},
     "output_type": "execute_result"
    }
   ],
   "source": [
    "yhat = model(X)\n",
    "loss = tl.CategoryCrossEntropy()\n",
    "loss((yhat, y))\n"
   ]
  },
  {
   "cell_type": "markdown",
   "metadata": {},
   "source": [
    "Also, let's add accuracy"
   ]
  },
  {
   "cell_type": "code",
   "execution_count": 14,
   "metadata": {},
   "outputs": [
    {
     "data": {
      "text/plain": [
       "DeviceArray(0.53125, dtype=float32)"
      ]
     },
     "execution_count": 14,
     "metadata": {},
     "output_type": "execute_result"
    }
   ],
   "source": [
    "acc = tl.CategoryAccuracy()\n",
    "acc((yhat, y))\n"
   ]
  },
  {
   "cell_type": "markdown",
   "metadata": {},
   "source": [
    "And let's check the accuracy to be sure this does what we want"
   ]
  },
  {
   "cell_type": "code",
   "execution_count": 15,
   "metadata": {},
   "outputs": [
    {
     "data": {
      "text/plain": [
       "DeviceArray([False,  True, False,  True, False, False,  True, False,\n",
       "              True,  True,  True,  True, False,  True, False, False,\n",
       "             False,  True,  True, False,  True, False,  True, False,\n",
       "              True, False,  True,  True, False, False,  True,  True],            dtype=bool)"
      ]
     },
     "execution_count": 15,
     "metadata": {},
     "output_type": "execute_result"
    }
   ],
   "source": [
    "import jax.numpy as jnp\n",
    "\n",
    "pred = jnp.argmax(yhat, axis=-1)\n",
    "correct = jnp.equal(pred, y)\n",
    "correct\n"
   ]
  },
  {
   "cell_type": "code",
   "execution_count": 16,
   "metadata": {},
   "outputs": [
    {
     "data": {
      "text/plain": [
       "DeviceArray(0.53125, dtype=float32)"
      ]
     },
     "execution_count": 16,
     "metadata": {},
     "output_type": "execute_result"
    }
   ],
   "source": [
    "correct.sum() / len(y)\n"
   ]
  },
  {
   "cell_type": "markdown",
   "metadata": {},
   "source": [
    "So that works as expected.\n",
    "\n",
    "We have been talking about learning rate schedules. Trax has implemented some of them too."
   ]
  },
  {
   "cell_type": "code",
   "execution_count": 17,
   "metadata": {},
   "outputs": [
    {
     "data": {
      "text/plain": [
       "[<matplotlib.lines.Line2D at 0x1547280d0>]"
      ]
     },
     "execution_count": 17,
     "metadata": {},
     "output_type": "execute_result"
    },
    {
     "data": {
      "image/png": "[encoded data removed]",
      "text/plain": [
       "<Figure size 432x288 with 1 Axes>"
      ]
     },
     "metadata": {
      "needs_background": "dark"
     },
     "output_type": "display_data"
    }
   ],
   "source": [
    "from trax.supervised.lr_schedules import warmup_and_rsqrt_decay\n",
    "\n",
    "lr = warmup_and_rsqrt_decay(100, 0.01)\n",
    "steps = jnp.arange(1200)\n",
    "y = [lr(x) for x in steps]\n",
    "plt.plot(steps, y)\n"
   ]
  },
  {
   "cell_type": "markdown",
   "metadata": {},
   "source": [
    "To train everything, we can wrap this in a train and eval task, and combine that in a loop."
   ]
  },
  {
   "cell_type": "code",
   "execution_count": 19,
   "metadata": {},
   "outputs": [
    {
     "name": "stderr",
     "output_type": "stream",
     "text": [
      "2022-06-07 12:31:21.528 | INFO     | src.data.data_tools:dir_add_timestamp:213 - Logging to ../../models/trax/20220607-1231\n"
     ]
    }
   ],
   "source": [
    "from trax.supervised import training\n",
    "\n",
    "model = EmbGRU(vocab_size=len(v), d_feature=128, d_out=2)\n",
    "log_dir = \"../../models/trax\"\n",
    "log_dir = data_tools.dir_add_timestamp(log_dir)\n",
    "\n",
    "train_task = training.TrainTask(\n",
    "    labeled_data=trainpipe,\n",
    "    loss_layer=tl.CategoryCrossEntropy(),\n",
    "    optimizer=trax.optimizers.Adam(),\n",
    "    lr_schedule=lr\n",
    ")\n",
    "\n",
    "eval_task = training.EvalTask(\n",
    "    labeled_data=testpipe, metrics=[tl.CategoryAccuracy(), tl.CategoryCrossEntropy()], n_eval_batches=25\n",
    ")\n",
    "\n",
    "loop = training.Loop(\n",
    "    model,\n",
    "    train_task,\n",
    "    eval_tasks=[eval_task],\n",
    "    output_dir=log_dir,\n",
    ")\n"
   ]
  },
  {
   "cell_type": "markdown",
   "metadata": {},
   "source": [
    "Trax expects streamers. They can go on forever, so let's test a 1000 batches: "
   ]
  },
  {
   "cell_type": "code",
   "execution_count": 20,
   "metadata": {},
   "outputs": [
    {
     "name": "stdout",
     "output_type": "stream",
     "text": [
      "\n",
      "Step      1: Total number of trainable weights: 1379148\n",
      "Step      1: Ran 1 train steps in 2.92 secs\n",
      "Step      1: train CategoryCrossEntropy |  0.70305592\n",
      "Step      1: eval      CategoryAccuracy |  0.50625000\n",
      "Step      1: eval  CategoryCrossEntropy |  0.71088120\n",
      "\n",
      "Step    100: Ran 99 train steps in 6.31 secs\n",
      "Step    100: train CategoryCrossEntropy |  0.66260082\n",
      "Step    100: eval      CategoryAccuracy |  0.72875000\n",
      "Step    100: eval  CategoryCrossEntropy |  0.52359872\n",
      "\n",
      "Step    200: Ran 100 train steps in 6.58 secs\n",
      "Step    200: train CategoryCrossEntropy |  0.49283358\n",
      "Step    200: eval      CategoryAccuracy |  0.76250000\n",
      "Step    200: eval  CategoryCrossEntropy |  0.47756310\n",
      "\n",
      "Step    300: Ran 100 train steps in 6.30 secs\n",
      "Step    300: train CategoryCrossEntropy |  0.44162586\n",
      "Step    300: eval      CategoryAccuracy |  0.77500000\n",
      "Step    300: eval  CategoryCrossEntropy |  0.45299261\n",
      "\n",
      "Step    400: Ran 100 train steps in 6.31 secs\n",
      "Step    400: train CategoryCrossEntropy |  0.40324441\n",
      "Step    400: eval      CategoryAccuracy |  0.79750000\n",
      "Step    400: eval  CategoryCrossEntropy |  0.41134120\n",
      "\n",
      "Step    500: Ran 100 train steps in 6.25 secs\n",
      "Step    500: train CategoryCrossEntropy |  0.40000734\n",
      "Step    500: eval      CategoryAccuracy |  0.80250000\n",
      "Step    500: eval  CategoryCrossEntropy |  0.39222789\n",
      "\n",
      "Step    600: Ran 100 train steps in 6.63 secs\n",
      "Step    600: train CategoryCrossEntropy |  0.60922682\n",
      "Step    600: eval      CategoryAccuracy |  0.65750000\n",
      "Step    600: eval  CategoryCrossEntropy |  0.65039429\n",
      "\n",
      "Step    700: Ran 100 train steps in 6.47 secs\n",
      "Step    700: train CategoryCrossEntropy |  0.55530685\n",
      "Step    700: eval      CategoryAccuracy |  0.79625000\n",
      "Step    700: eval  CategoryCrossEntropy |  0.46318097\n",
      "\n",
      "Step    800: Ran 100 train steps in 6.54 secs\n",
      "Step    800: train CategoryCrossEntropy |  0.42458925\n",
      "Step    800: eval      CategoryAccuracy |  0.76625000\n",
      "Step    800: eval  CategoryCrossEntropy |  0.49637792\n",
      "\n",
      "Step    900: Ran 100 train steps in 6.46 secs\n",
      "Step    900: train CategoryCrossEntropy |  0.55936164\n",
      "Step    900: eval      CategoryAccuracy |  0.71125000\n",
      "Step    900: eval  CategoryCrossEntropy |  0.56380245\n",
      "\n",
      "Step   1000: Ran 100 train steps in 6.68 secs\n",
      "Step   1000: train CategoryCrossEntropy |  0.47688270\n",
      "Step   1000: eval      CategoryAccuracy |  0.79500000\n",
      "Step   1000: eval  CategoryCrossEntropy |  0.43687704\n"
     ]
    }
   ],
   "source": [
    "loop.run(1000)\n"
   ]
  },
  {
   "cell_type": "markdown",
   "metadata": {},
   "source": [
    "It is pretty easy to add an additional 200 steps. Trax will pick up where it left."
   ]
  },
  {
   "cell_type": "code",
   "execution_count": 21,
   "metadata": {},
   "outputs": [
    {
     "name": "stdout",
     "output_type": "stream",
     "text": [
      "\n",
      "Step   1100: Ran 100 train steps in 6.31 secs\n",
      "Step   1100: train CategoryCrossEntropy |  0.37939116\n",
      "Step   1100: eval      CategoryAccuracy |  0.79125000\n",
      "Step   1100: eval  CategoryCrossEntropy |  0.45956976\n",
      "\n",
      "Step   1200: Ran 100 train steps in 6.42 secs\n",
      "Step   1200: train CategoryCrossEntropy |  0.34051177\n",
      "Step   1200: eval      CategoryAccuracy |  0.80500000\n",
      "Step   1200: eval  CategoryCrossEntropy |  0.44571803\n"
     ]
    }
   ],
   "source": [
    "loop.run(200)"
   ]
  },
  {
   "cell_type": "markdown",
   "metadata": {},
   "source": [
    "And we can see that our model works as expected"
   ]
  },
  {
   "cell_type": "code",
   "execution_count": 26,
   "metadata": {},
   "outputs": [
    {
     "data": {
      "text/plain": [
       "DeviceArray(0.8125, dtype=float32)"
      ]
     },
     "execution_count": 26,
     "metadata": {},
     "output_type": "execute_result"
    }
   ],
   "source": [
    "X, y = next(testpipe)\n",
    "yhat = model(X)\n",
    "acc = tl.CategoryAccuracy()\n",
    "acc((yhat, y))"
   ]
  }
 ],
 "metadata": {
  "interpreter": {
   "hash": "a15911aab0965639e9482f052beb89e7ca291bb3f153727c5758e3fe9ad1321e"
  },
  "kernelspec": {
   "display_name": "Python 3.8.13 ('deep-learning-xB8KIJr7-py3.9')",
   "language": "python",
   "name": "python3"
  },
  "language_info": {
   "codemirror_mode": {
    "name": "ipython",
    "version": 3
   },
   "file_extension": ".py",
   "mimetype": "text/x-python",
   "name": "python",
   "nbconvert_exporter": "python",
   "pygments_lexer": "ipython3",
   "version": "3.8.13"
  },
  "orig_nbformat": 4
 },
 "nbformat": 4,
 "nbformat_minor": 2
}
