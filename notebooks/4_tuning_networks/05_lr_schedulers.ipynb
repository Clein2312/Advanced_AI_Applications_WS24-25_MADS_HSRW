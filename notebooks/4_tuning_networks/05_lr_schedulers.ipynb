{
 "cells": [
  {
   "cell_type": "code",
   "execution_count": 1,
   "metadata": {},
   "outputs": [
    {
     "name": "stderr",
     "output_type": "stream",
     "text": [
      "2022-05-19 19:50:43.474268: W tensorflow/stream_executor/platform/default/dso_loader.cc:64] Could not load dynamic library 'libcudart.so.11.0'; dlerror: libcudart.so.11.0: cannot open shared object file: No such file or directory\n",
      "2022-05-19 19:50:43.474306: I tensorflow/stream_executor/cuda/cudart_stub.cc:29] Ignore above cudart dlerror if you do not have a GPU set up on your machine.\n"
     ]
    }
   ],
   "source": [
    "import torch\n",
    "import sys\n",
    "sys.path.insert(0, \"../..\")\n",
    "from src.data import data_tools, make_dataset\n",
    "from pathlib import Path\n",
    "from loguru import logger"
   ]
  },
  {
   "cell_type": "code",
   "execution_count": 2,
   "metadata": {},
   "outputs": [
    {
     "name": "stderr",
     "output_type": "stream",
     "text": [
      "2022-05-19 19:50:45.895 | INFO     | src.data.make_dataset:get_flowers:74 - Data is downloaded to ../../data/raw/datasets/flower_photos.\n"
     ]
    }
   ],
   "source": [
    "data_dir = \"../../data/raw\"\n",
    "image_folder = make_dataset.get_flowers(data_dir)\n",
    "dataloader = data_tools.Dataloader(path=image_folder, split=0.8)"
   ]
  },
  {
   "cell_type": "code",
   "execution_count": 3,
   "metadata": {},
   "outputs": [
    {
     "data": {
      "text/plain": [
       "3670"
      ]
     },
     "execution_count": 3,
     "metadata": {},
     "output_type": "execute_result"
    }
   ],
   "source": [
    "len(dataloader)"
   ]
  },
  {
   "cell_type": "code",
   "execution_count": 4,
   "metadata": {},
   "outputs": [
    {
     "data": {
      "text/plain": [
       "{'roses': 0, 'tulips': 1, 'dandelion': 2, 'sunflowers': 3, 'daisy': 4}"
      ]
     },
     "execution_count": 4,
     "metadata": {},
     "output_type": "execute_result"
    }
   ],
   "source": [
    "dataloader.class_dict"
   ]
  },
  {
   "cell_type": "code",
   "execution_count": 5,
   "metadata": {},
   "outputs": [],
   "source": [
    "from torchvision import transforms\n",
    "preprocess = transforms.Compose([\n",
    "    transforms.ToTensor(),\n",
    "    transforms.RandomHorizontalFlip(p=0.5),\n",
    "    transforms.RandomVerticalFlip(p=0.5),\n",
    "    transforms.RandomAffine(10),\n",
    "    transforms.ColorJitter(brightness=0.1, hue=0.1)\n",
    "])"
   ]
  },
  {
   "cell_type": "code",
   "execution_count": 6,
   "metadata": {},
   "outputs": [],
   "source": [
    "config = {\n",
    "    \"batch_size\" : 32,\n",
    "    \"image_size\" : (224,224),\n",
    "    \"channels\" : 3,\n",
    "    \"shuffle\" : True,\n",
    "    \"channel_first\" : True,\n",
    "    \"transforms\" : preprocess\n",
    "}\n",
    "\n",
    "train_datastream = dataloader.data_generator(\n",
    "    mode=\"train\",\n",
    "    **config\n",
    ")\n",
    "\n",
    "test_datastream = dataloader.data_generator(\n",
    "    mode=\"test\",\n",
    "    **config\n",
    ")"
   ]
  },
  {
   "cell_type": "code",
   "execution_count": 7,
   "metadata": {},
   "outputs": [
    {
     "name": "stderr",
     "output_type": "stream",
     "text": [
      "2022-05-19 19:50:53.608269: W tensorflow/stream_executor/platform/default/dso_loader.cc:64] Could not load dynamic library 'libcuda.so.1'; dlerror: libcuda.so.1: cannot open shared object file: No such file or directory\n",
      "2022-05-19 19:50:53.608307: W tensorflow/stream_executor/cuda/cuda_driver.cc:269] failed call to cuInit: UNKNOWN ERROR (303)\n",
      "2022-05-19 19:50:53.608335: I tensorflow/stream_executor/cuda/cuda_diagnostics.cc:156] kernel driver does not appear to be running on this host (ML-RefVm-812132): /proc/driver/nvidia/version does not exist\n",
      "2022-05-19 19:50:53.608671: I tensorflow/core/platform/cpu_feature_guard.cc:151] This TensorFlow binary is optimized with oneAPI Deep Neural Network Library (oneDNN) to use the following CPU instructions in performance-critical operations:  AVX2 AVX512F FMA\n",
      "To enable them in other operations, rebuild TensorFlow with the appropriate compiler flags.\n"
     ]
    },
    {
     "data": {
      "text/plain": [
       "(torch.Size([32, 3, 224, 224]), torch.Size([32]))"
      ]
     },
     "execution_count": 7,
     "metadata": {},
     "output_type": "execute_result"
    }
   ],
   "source": [
    "X, y = next(train_datastream)\n",
    "X.shape, y.shape"
   ]
  },
  {
   "cell_type": "code",
   "execution_count": 8,
   "metadata": {},
   "outputs": [
    {
     "data": {
      "text/plain": [
       "(tensor(1.), tensor(0.), tensor(0.3841), tensor(0.2797))"
      ]
     },
     "execution_count": 8,
     "metadata": {},
     "output_type": "execute_result"
    }
   ],
   "source": [
    "X.max(), X.min(), X.mean(), X.std()"
   ]
  },
  {
   "cell_type": "code",
   "execution_count": 9,
   "metadata": {},
   "outputs": [],
   "source": [
    "import torchvision\n",
    "resnet = torchvision.models.resnet18(pretrained=True)"
   ]
  },
  {
   "cell_type": "code",
   "execution_count": 10,
   "metadata": {},
   "outputs": [],
   "source": [
    "yhat = resnet(X)"
   ]
  },
  {
   "cell_type": "code",
   "execution_count": 11,
   "metadata": {},
   "outputs": [
    {
     "data": {
      "text/plain": [
       "torch.Size([32, 1000])"
      ]
     },
     "execution_count": 11,
     "metadata": {},
     "output_type": "execute_result"
    }
   ],
   "source": [
    "yhat.shape"
   ]
  },
  {
   "cell_type": "code",
   "execution_count": 12,
   "metadata": {},
   "outputs": [],
   "source": [
    "for name, param in resnet.named_parameters():\n",
    "    param.requires_grad = False"
   ]
  },
  {
   "cell_type": "code",
   "execution_count": 13,
   "metadata": {},
   "outputs": [],
   "source": [
    "import torch.nn as nn\n",
    "resnet.fc = nn.Sequential(\n",
    "    nn.Linear(resnet.fc.in_features, 256),\n",
    "    nn.ReLU(),\n",
    "    nn.Dropout(0.1),\n",
    "    nn.Linear(256, 5)\n",
    ")"
   ]
  },
  {
   "cell_type": "code",
   "execution_count": 14,
   "metadata": {},
   "outputs": [],
   "source": [
    "yhat = resnet(X)"
   ]
  },
  {
   "cell_type": "code",
   "execution_count": 15,
   "metadata": {},
   "outputs": [
    {
     "data": {
      "text/plain": [
       "91.0"
      ]
     },
     "execution_count": 15,
     "metadata": {},
     "output_type": "execute_result"
    }
   ],
   "source": [
    "(len(dataloader) * 0.8) // 32"
   ]
  },
  {
   "cell_type": "code",
   "execution_count": 16,
   "metadata": {},
   "outputs": [
    {
     "name": "stderr",
     "output_type": "stream",
     "text": [
      "2022-05-19 19:51:38.034 | INFO     | src.data.data_tools:dir_add_timestamp:208 - Logging to ../../models/resnet/20220519-1951\n",
      "100%|██████████| 90/90 [01:35<00:00,  1.06s/it]\n",
      "2022-05-19 19:53:33.088 | INFO     | src.models.train_model:trainloop:99 - Epoch 0 train 1.1076 test 0.5476 acc 0.7896\n",
      "100%|██████████| 90/90 [01:32<00:00,  1.02s/it]\n",
      "2022-05-19 19:55:18.510 | INFO     | src.models.train_model:trainloop:99 - Epoch 1 train 0.5748 test 0.4959 acc 0.8146\n",
      "100%|██████████| 90/90 [01:32<00:00,  1.02s/it]\n",
      "2022-05-19 19:57:03.710 | INFO     | src.models.train_model:trainloop:99 - Epoch 2 train 0.5393 test 0.5021 acc 0.8000\n",
      "100%|██████████| 90/90 [01:32<00:00,  1.03s/it]\n",
      "2022-05-19 19:58:49.583 | INFO     | src.models.train_model:trainloop:99 - Epoch 3 train 0.5546 test 0.9287 acc 0.6854\n",
      "100%|██████████| 90/90 [01:31<00:00,  1.02s/it]\n",
      "2022-05-19 20:00:34.800 | INFO     | src.models.train_model:trainloop:99 - Epoch 4 train 0.5504 test 0.4293 acc 0.8396\n",
      "100%|██████████| 90/90 [01:40<00:00,  1.11s/it]\n",
      "2022-05-19 20:02:28.672 | INFO     | src.models.train_model:trainloop:99 - Epoch 5 train 0.5804 test 0.5763 acc 0.8146\n",
      "100%|██████████| 90/90 [01:36<00:00,  1.08s/it]\n",
      "2022-05-19 20:04:19.043 | INFO     | src.models.train_model:trainloop:99 - Epoch 6 train 0.5371 test 0.5061 acc 0.8396\n",
      "100%|██████████| 90/90 [01:34<00:00,  1.06s/it]\n",
      "2022-05-19 20:06:07.021 | INFO     | src.models.train_model:trainloop:99 - Epoch 7 train 0.5089 test 0.4533 acc 0.8417\n",
      "100%|██████████| 90/90 [01:32<00:00,  1.03s/it]\n",
      "2022-05-19 20:07:52.878 | INFO     | src.models.train_model:trainloop:99 - Epoch 8 train 0.4429 test 0.4947 acc 0.8292\n",
      "100%|██████████| 90/90 [01:33<00:00,  1.03s/it]\n",
      "2022-05-19 20:09:39.176 | INFO     | src.models.train_model:trainloop:99 - Epoch 9 train 0.4112 test 0.4363 acc 0.8396\n",
      "100%|██████████| 90/90 [01:34<00:00,  1.05s/it]\n",
      "2022-05-19 20:11:26.843 | INFO     | src.models.train_model:trainloop:99 - Epoch 10 train 0.4318 test 0.4837 acc 0.8292\n",
      "100%|██████████| 90/90 [01:36<00:00,  1.07s/it]\n",
      "2022-05-19 20:13:16.974 | INFO     | src.models.train_model:trainloop:99 - Epoch 11 train 0.3870 test 0.3979 acc 0.8583\n",
      "100%|██████████| 90/90 [01:34<00:00,  1.05s/it]\n",
      "2022-05-19 20:15:05.951 | INFO     | src.models.train_model:trainloop:99 - Epoch 12 train 0.3802 test 0.4292 acc 0.8375\n",
      "100%|██████████| 90/90 [01:33<00:00,  1.04s/it]\n",
      "2022-05-19 20:16:52.840 | INFO     | src.models.train_model:trainloop:99 - Epoch 13 train 0.3952 test 0.4611 acc 0.8479\n",
      "100%|██████████| 90/90 [01:34<00:00,  1.05s/it]\n",
      "2022-05-19 20:18:40.770 | INFO     | src.models.train_model:trainloop:99 - Epoch 14 train 0.4079 test 0.4530 acc 0.8250\n",
      "100%|██████████| 90/90 [01:34<00:00,  1.04s/it]\n",
      "2022-05-19 20:20:27.916 | INFO     | src.models.train_model:trainloop:99 - Epoch 15 train 0.3641 test 0.3858 acc 0.8604\n",
      "100%|██████████| 90/90 [01:34<00:00,  1.05s/it]\n",
      "2022-05-19 20:22:15.799 | INFO     | src.models.train_model:trainloop:99 - Epoch 16 train 0.3642 test 0.4324 acc 0.8542\n",
      "100%|██████████| 90/90 [01:36<00:00,  1.07s/it]\n",
      "2022-05-19 20:24:05.328 | INFO     | src.models.train_model:trainloop:99 - Epoch 17 train 0.3697 test 0.3994 acc 0.8417\n",
      "100%|██████████| 90/90 [01:34<00:00,  1.05s/it]\n",
      "2022-05-19 20:25:53.593 | INFO     | src.models.train_model:trainloop:99 - Epoch 18 train 0.3697 test 0.4063 acc 0.8458\n",
      "100%|██████████| 90/90 [01:33<00:00,  1.04s/it]\n",
      "2022-05-19 20:27:40.416 | INFO     | src.models.train_model:trainloop:99 - Epoch 19 train 0.3659 test 0.4646 acc 0.8375\n",
      "100%|██████████| 90/90 [01:34<00:00,  1.05s/it]\n",
      "2022-05-19 20:29:29.147 | INFO     | src.models.train_model:trainloop:99 - Epoch 20 train 0.3547 test 0.3793 acc 0.8479\n",
      "100%|██████████| 90/90 [01:31<00:00,  1.01s/it]\n",
      "2022-05-19 20:31:13.955 | INFO     | src.models.train_model:trainloop:99 - Epoch 21 train 0.3498 test 0.4315 acc 0.8375\n",
      "100%|██████████| 90/90 [01:37<00:00,  1.08s/it]\n",
      "2022-05-19 20:33:05.068 | INFO     | src.models.train_model:trainloop:99 - Epoch 22 train 0.3512 test 0.4259 acc 0.8458\n",
      "100%|██████████| 90/90 [01:38<00:00,  1.10s/it]\n",
      "2022-05-19 20:34:57.335 | INFO     | src.models.train_model:trainloop:99 - Epoch 23 train 0.3706 test 0.3959 acc 0.8625\n",
      "100%|██████████| 90/90 [01:31<00:00,  1.02s/it]\n",
      "2022-05-19 20:36:42.619 | INFO     | src.models.train_model:trainloop:99 - Epoch 24 train 0.3597 test 0.4152 acc 0.8542\n"
     ]
    }
   ],
   "source": [
    "from src.models import train_model\n",
    "resnet = train_model.trainloop(\n",
    "    epochs = 25,\n",
    "    model = resnet,\n",
    "    optimizer= torch.optim.Adam,\n",
    "    learning_rate=0.01,\n",
    "    loss_fn=nn.CrossEntropyLoss(),\n",
    "    train_dataloader=train_datastream,\n",
    "    test_dataloader=test_datastream,\n",
    "    log_dir=\"../../models/resnet\",\n",
    "    eval_steps=15,\n",
    "    train_steps=90,\n",
    "    patience=2,\n",
    "    factor=0.5,\n",
    ")"
   ]
  }
 ],
 "metadata": {
  "interpreter": {
   "hash": "16b8f312320cd240106b9ea4d318428341e8727b3c7d5fc1f73cfe4a3d9868ce"
  },
  "kernelspec": {
   "display_name": "Python 3.9.12 ('deep-learning-E14Cnx23-py3.9')",
   "language": "python",
   "name": "python3"
  },
  "language_info": {
   "codemirror_mode": {
    "name": "ipython",
    "version": 3
   },
   "file_extension": ".py",
   "mimetype": "text/x-python",
   "name": "python",
   "nbconvert_exporter": "python",
   "pygments_lexer": "ipython3",
   "version": "3.9.12"
  },
  "orig_nbformat": 4
 },
 "nbformat": 4,
 "nbformat_minor": 2
}
