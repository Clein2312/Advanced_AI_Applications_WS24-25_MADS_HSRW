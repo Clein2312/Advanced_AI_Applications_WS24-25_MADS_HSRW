{
 "cells": [
  {
   "cell_type": "code",
   "execution_count": 9,
   "metadata": {},
   "outputs": [],
   "source": [
    "from pathlib import Path\n",
    "from pydantic import BaseModel, root_validator\n",
    "from typing import Optional\n",
    "import ray\n",
    "from ray import tune\n"
   ]
  },
  {
   "cell_type": "markdown",
   "metadata": {},
   "source": [
    "We could just make a config like this"
   ]
  },
  {
   "cell_type": "code",
   "execution_count": 10,
   "metadata": {},
   "outputs": [],
   "source": [
    "config = {\"input_size\": 3, \"output_size\": 20, \"data_dir\": Path(\".\")}\n"
   ]
  },
  {
   "cell_type": "code",
   "execution_count": 11,
   "metadata": {},
   "outputs": [
    {
     "data": {
      "text/plain": [
       "3"
      ]
     },
     "execution_count": 11,
     "metadata": {},
     "output_type": "execute_result"
    }
   ],
   "source": [
    "config[\"input_size\"]"
   ]
  },
  {
   "cell_type": "markdown",
   "metadata": {},
   "source": [
    "But we get a config on steroids with pydantic"
   ]
  },
  {
   "cell_type": "code",
   "execution_count": 12,
   "metadata": {},
   "outputs": [],
   "source": [
    "class SearchSpace(BaseModel):\n",
    "    input_size: int\n",
    "    output_size: int\n",
    "    tune_dir: Optional[Path]\n",
    "    data_dir: Path\n"
   ]
  },
  {
   "cell_type": "markdown",
   "metadata": {},
   "source": [
    "Note how the `\".\"` data_dir becomes a `PosixPath`\n",
    "Note how `Optional` allows for leaving the argument out, and the value defaults to `None`."
   ]
  },
  {
   "cell_type": "code",
   "execution_count": 15,
   "metadata": {},
   "outputs": [
    {
     "data": {
      "text/plain": [
       "SearchSpace(input_size=3, output_size=20, tune_dir=None, data_dir=PosixPath('.'))"
      ]
     },
     "execution_count": 15,
     "metadata": {},
     "output_type": "execute_result"
    }
   ],
   "source": [
    "config = SearchSpace(input_size=3.0, output_size=20, data_dir=\".\")\n",
    "config\n"
   ]
  },
  {
   "cell_type": "markdown",
   "metadata": {},
   "source": [
    "If possible, it will cast elements, e.g. `input_size=\"3\"` becomes an integer"
   ]
  },
  {
   "cell_type": "code",
   "execution_count": 14,
   "metadata": {},
   "outputs": [
    {
     "data": {
      "text/plain": [
       "SearchSpace(input_size=3, output_size=20, tune_dir=None, data_dir=PosixPath('.'))"
      ]
     },
     "execution_count": 14,
     "metadata": {},
     "output_type": "execute_result"
    }
   ],
   "source": [
    "config = SearchSpace(input_size=\"3\", output_size=20, data_dir=\".\")\n",
    "config\n"
   ]
  },
  {
   "cell_type": "markdown",
   "metadata": {},
   "source": [
    "And if you try to give `data_dir` something that can't be cast to a `Path`, you will get an error.\n",
    "The advantage is that you get your errors at the place where you make them, and not 10 steps later when running the trainloop..."
   ]
  },
  {
   "cell_type": "code",
   "execution_count": 17,
   "metadata": {},
   "outputs": [
    {
     "name": "stdout",
     "output_type": "stream",
     "text": [
      "1 validation error for SearchSpace\n",
      "data_dir\n",
      "  value is not a valid path (type=type_error.path)\n"
     ]
    }
   ],
   "source": [
    "try:\n",
    "    config = SearchSpace(input_size=\"3\", output_size=20, data_dir=3.4)\n",
    "except ValueError as e:\n",
    "    print(e)\n"
   ]
  },
  {
   "cell_type": "markdown",
   "metadata": {},
   "source": [
    "Let's add the ray.tune ranges. To find out what the type is, we simple call the `type()` method."
   ]
  },
  {
   "cell_type": "code",
   "execution_count": 18,
   "metadata": {},
   "outputs": [
    {
     "data": {
      "text/plain": [
       "float"
      ]
     },
     "execution_count": 18,
     "metadata": {},
     "output_type": "execute_result"
    }
   ],
   "source": [
    "type(1.0)"
   ]
  },
  {
   "cell_type": "code",
   "execution_count": 19,
   "metadata": {},
   "outputs": [
    {
     "data": {
      "text/plain": [
       "ray.tune.sample.Float"
      ]
     },
     "execution_count": 19,
     "metadata": {},
     "output_type": "execute_result"
    }
   ],
   "source": [
    "type(tune.uniform(0.0, 10.0))\n"
   ]
  },
  {
   "cell_type": "markdown",
   "metadata": {},
   "source": [
    "But if we simply add that..."
   ]
  },
  {
   "cell_type": "code",
   "execution_count": 20,
   "metadata": {},
   "outputs": [
    {
     "name": "stdout",
     "output_type": "stream",
     "text": [
      "no validator found for <class 'ray.tune.sample.Integer'>, see `arbitrary_types_allowed` in Config\n"
     ]
    }
   ],
   "source": [
    "from typing import Union, Optional, Dict\n",
    "\n",
    "SAMPLE_INT = ray.tune.sample.Integer\n",
    "\n",
    "try:\n",
    "\n",
    "    class SearchSpace(BaseModel):\n",
    "        input_size: int\n",
    "        hidden_size: Union[int, SAMPLE_INT] = tune.randint(16, 128)\n",
    "        output_size: int\n",
    "        tune_dir: Optional[Path]\n",
    "        data_dir: Path\n",
    "\n",
    "except RuntimeError as e:\n",
    "    print(e)\n"
   ]
  },
  {
   "cell_type": "markdown",
   "metadata": {},
   "source": [
    "Pydantic complains that it does not know how to validate the type. A simple solution is to add `arbitrary_types_allowed`"
   ]
  },
  {
   "cell_type": "code",
   "execution_count": 21,
   "metadata": {},
   "outputs": [
    {
     "data": {
      "text/plain": [
       "SearchSpace(input_size=3, hidden_size=32, output_size=20, tune_dir='.', data_dir=PosixPath('.'))"
      ]
     },
     "execution_count": 21,
     "metadata": {},
     "output_type": "execute_result"
    }
   ],
   "source": [
    "class SearchSpace(BaseModel):\n",
    "    input_size: int\n",
    "    hidden_size: Union[int, SAMPLE_INT]\n",
    "    output_size: int = 20\n",
    "    tune_dir: Path = \".\"\n",
    "    data_dir: Path\n",
    "\n",
    "    class Config:\n",
    "        arbitrary_types_allowed = True\n",
    "\n",
    "\n",
    "config = SearchSpace(input_size=3, hidden_size=32, data_dir=\".\")\n",
    "config\n"
   ]
  },
  {
   "cell_type": "markdown",
   "metadata": {},
   "source": [
    "Because of the `Union`, an integer will work"
   ]
  },
  {
   "cell_type": "code",
   "execution_count": 22,
   "metadata": {},
   "outputs": [
    {
     "data": {
      "text/plain": [
       "SearchSpace(input_size=3, hidden_size=<ray.tune.sample.Integer object at 0x11b42a580>, output_size=20, tune_dir='.', data_dir=PosixPath('.'))"
      ]
     },
     "execution_count": 22,
     "metadata": {},
     "output_type": "execute_result"
    }
   ],
   "source": [
    "config = SearchSpace(input_size=3, hidden_size=tune.randint(16, 128), data_dir=\".\")\n",
    "config\n"
   ]
  },
  {
   "cell_type": "markdown",
   "metadata": {},
   "source": [
    "And a `tune.randint` will work."
   ]
  },
  {
   "cell_type": "code",
   "execution_count": 23,
   "metadata": {},
   "outputs": [
    {
     "name": "stdout",
     "output_type": "stream",
     "text": [
      "2 validation errors for SearchSpace\n",
      "hidden_size\n",
      "  value is not a valid integer (type=type_error.integer)\n",
      "hidden_size\n",
      "  instance of Integer expected (type=type_error.arbitrary_type; expected_arbitrary_type=Integer)\n"
     ]
    }
   ],
   "source": [
    "try:\n",
    "    config = SearchSpace(input_size=3, hidden_size=tune.uniform(0.0, 0.5), data_dir=\".\")\n",
    "except Exception as e:\n",
    "    print(e)\n"
   ]
  },
  {
   "cell_type": "markdown",
   "metadata": {},
   "source": [
    "But a `tune.uniform` fails!"
   ]
  },
  {
   "cell_type": "markdown",
   "metadata": {},
   "source": [
    "Also, pydantic wont know how to check for `SAMPLE_INT`.\n",
    "You can write your own validator for a class. Implement a `__get_validators__` function,\n",
    "which will yield one or more validators. You can find more on that in the [documentation](https://pydantic-docs.helpmanual.io/usage/types/#custom-data-types)\n"
   ]
  },
  {
   "cell_type": "code",
   "execution_count": 24,
   "metadata": {},
   "outputs": [],
   "source": [
    "class SampleFloat:\n",
    "    @classmethod\n",
    "    def __get_validators__(cls):\n",
    "        yield cls.validate\n",
    "\n",
    "    @classmethod\n",
    "    def validate(cls, v):\n",
    "        if not isinstance(v, ray.tune.sample.Float):\n",
    "            print(f\"testing {v}\")\n",
    "            raise TypeError(f\"{ray.tune.sample.Float} required, found {type(v)}\")\n",
    "        return v\n"
   ]
  },
  {
   "cell_type": "markdown",
   "metadata": {},
   "source": [
    "We just ran a simple check. But you can imagine more complex checks (e.g. for phone numbers etc)"
   ]
  },
  {
   "cell_type": "code",
   "execution_count": 25,
   "metadata": {},
   "outputs": [
    {
     "name": "stdout",
     "output_type": "stream",
     "text": [
      "testing <ray.tune.sample.Integer object at 0x11b3dc7c0>\n",
      "1 validation error for SearchSpace\n",
      "dropout\n",
      "  <class 'ray.tune.sample.Float'> required, found <class 'ray.tune.sample.Integer'> (type=type_error)\n"
     ]
    }
   ],
   "source": [
    "class SearchSpace(BaseModel):\n",
    "    dropout: SampleFloat\n",
    "\n",
    "\n",
    "try:\n",
    "    config = SearchSpace(dropout=tune.randint(16, 32))\n",
    "except Exception as e:\n",
    "    print(e)\n"
   ]
  },
  {
   "cell_type": "markdown",
   "metadata": {},
   "source": [
    "However, in our case, it does not add anything more than we already had with arbitrary types."
   ]
  },
  {
   "cell_type": "code",
   "execution_count": 26,
   "metadata": {},
   "outputs": [
    {
     "data": {
      "text/plain": [
       "SearchSpace(input_size=3, hidden_size=<ray.tune.sample.Integer object at 0x11b24ccd0>, dropout=<ray.tune.sample.Float object at 0x11b24cd60>, num_layers=2, output_size=20, tune_dir=None, data_dir=PosixPath('.'))"
      ]
     },
     "execution_count": 26,
     "metadata": {},
     "output_type": "execute_result"
    }
   ],
   "source": [
    "SAMPLE_INT = ray.tune.sample.Integer\n",
    "SAMPLE_FLOAT = ray.tune.sample.Float\n",
    "\n",
    "\n",
    "class SearchSpace(BaseModel):\n",
    "    input_size: int\n",
    "    hidden_size: Union[int, SAMPLE_INT]\n",
    "    dropout: Union[float, SAMPLE_FLOAT]\n",
    "    num_layers: Union[int, SAMPLE_INT]\n",
    "    output_size: int\n",
    "    tune_dir: Optional[Path]\n",
    "    data_dir: Path\n",
    "\n",
    "    class Config:\n",
    "        arbitrary_types_allowed = True\n",
    "\n",
    "\n",
    "config = SearchSpace(\n",
    "    input_size=3,\n",
    "    hidden_size=tune.randint(16, 128),\n",
    "    dropout=tune.uniform(0.0, 0.3),\n",
    "    num_layers=2,\n",
    "    output_size=20,\n",
    "    data_dir=\".\",\n",
    ")\n",
    "config\n"
   ]
  },
  {
   "cell_type": "markdown",
   "metadata": {},
   "source": [
    "But what if we want to protect againts adding non-existing paths?"
   ]
  },
  {
   "cell_type": "code",
   "execution_count": 27,
   "metadata": {},
   "outputs": [
    {
     "data": {
      "text/plain": [
       "(False,\n",
       " PosixPath('/Users/rgrouls/code/deep_learning/notebooks/4_tuning_networks/data/a/b'))"
      ]
     },
     "execution_count": 27,
     "metadata": {},
     "output_type": "execute_result"
    }
   ],
   "source": [
    "data_dir = Path(\"data/a/b\").absolute()\n",
    "data_dir.exists(), data_dir\n"
   ]
  },
  {
   "cell_type": "code",
   "execution_count": 28,
   "metadata": {},
   "outputs": [
    {
     "data": {
      "text/plain": [
       "SearchSpace(input_size=3, hidden_size=32, dropout=0.1, num_layers=2, output_size=20, tune_dir=None, data_dir=PosixPath('/Users/rgrouls/code/deep_learning/notebooks/4_tuning_networks/data/a/b'))"
      ]
     },
     "execution_count": 28,
     "metadata": {},
     "output_type": "execute_result"
    }
   ],
   "source": [
    "config = SearchSpace(\n",
    "    input_size=3,\n",
    "    hidden_size=32,\n",
    "    dropout=0.1,\n",
    "    num_layers=2,\n",
    "    output_size=20,\n",
    "    data_dir=data_dir,\n",
    ")\n",
    "config\n"
   ]
  },
  {
   "cell_type": "markdown",
   "metadata": {},
   "source": [
    "We can add a `root_validator` to run an additional check before creation."
   ]
  },
  {
   "cell_type": "code",
   "execution_count": 29,
   "metadata": {},
   "outputs": [
    {
     "name": "stdout",
     "output_type": "stream",
     "text": [
      "Make sure the datadir exists.\n",
      " Found /Users/rgrouls/code/deep_learning/notebooks/4_tuning_networks/data/a/b to be non-existing.\n"
     ]
    }
   ],
   "source": [
    "class SearchSpace(BaseModel):\n",
    "\n",
    "    input_size: int\n",
    "    hidden_size: Union[int, SAMPLE_INT] = tune.randint(16, 128)\n",
    "    dropout: Union[float, SAMPLE_FLOAT] = tune.uniform(0.0, 0.3)\n",
    "    num_layers: Union[int, SAMPLE_INT] = tune.randint(2, 5)\n",
    "    output_size: int\n",
    "    tune_dir: Optional[Path]\n",
    "    data_dir: Path\n",
    "\n",
    "    class Config:\n",
    "        arbitrary_types_allowed = True\n",
    "\n",
    "    @root_validator\n",
    "    def check_path(cls, values: Dict) -> Dict:  # noqa: N805\n",
    "        datadir = values.get(\"data_dir\")\n",
    "        if not datadir.exists():\n",
    "            raise FileNotFoundError(\n",
    "                f\"Make sure the datadir exists.\\n Found {datadir} to be non-existing.\"\n",
    "            )\n",
    "        return values\n",
    "\n",
    "\n",
    "try:\n",
    "    config = SearchSpace(\n",
    "        input_size=3,\n",
    "        hidden_size=32,\n",
    "        dropout=0.1,\n",
    "        num_layers=2,\n",
    "        output_size=20,\n",
    "        data_dir=data_dir,\n",
    "    )\n",
    "except FileNotFoundError as e:\n",
    "    print(e)\n"
   ]
  },
  {
   "cell_type": "markdown",
   "metadata": {},
   "source": [
    "This can really safe you a lot of headaches!\n",
    "\n",
    "A last trick is to use inheritance. We can make a baseclass, and inherit all the validators etc, and just add the additional stuff specific to our model."
   ]
  },
  {
   "cell_type": "code",
   "execution_count": 165,
   "metadata": {},
   "outputs": [],
   "source": [
    "class BaseSearchSpace(BaseModel):\n",
    "\n",
    "    input_size: int\n",
    "    output_size: int\n",
    "    tune_dir: Optional[Path]\n",
    "    data_dir: Path\n",
    "\n",
    "    class Config:\n",
    "        arbitrary_types_allowed = True\n",
    "\n",
    "    @root_validator\n",
    "    def check_path(cls, values: Dict) -> Dict:  # noqa: N805\n",
    "        datadir = values.get(\"data_dir\")\n",
    "        if not datadir.exists():\n",
    "            raise FileNotFoundError(\n",
    "                f\"Make sure the datadir exists.\\n Found {datadir} to be non-existing.\"\n",
    "            )\n",
    "        return values\n",
    "\n",
    "\n",
    "class SearchSpace(BaseSearchSpace):\n",
    "    hidden_size: Union[int, SAMPLE_INT] = tune.randint(16, 128)\n",
    "    dropout: Union[float, SAMPLE_FLOAT] = tune.uniform(0.0, 0.3)\n",
    "    num_layers: Union[int, SAMPLE_INT] = tune.randint(2, 5)\n"
   ]
  },
  {
   "cell_type": "code",
   "execution_count": 166,
   "metadata": {},
   "outputs": [
    {
     "data": {
      "text/plain": [
       "SearchSpace(input_size=3, output_size=20, tune_dir=None, data_dir=PosixPath('/Users/rgrouls/code/deep_learning/notebooks/4_tuning_networks/../../data/external/gestures-dataset'), hidden_size=<ray.tune.sample.Integer object at 0x11e47cd00>, dropout=0.1, num_layers=2)"
      ]
     },
     "execution_count": 166,
     "metadata": {},
     "output_type": "execute_result"
    }
   ],
   "source": [
    "data_dir = Path(\"../../data/external/gestures-dataset\").absolute()\n",
    "config = SearchSpace(\n",
    "    input_size=3,\n",
    "    hidden_size=tune.randint(16, 128),\n",
    "    dropout=0.1,\n",
    "    num_layers=2,\n",
    "    output_size=20,\n",
    "    data_dir=data_dir,\n",
    ")\n",
    "config\n"
   ]
  },
  {
   "cell_type": "markdown",
   "metadata": {},
   "source": [
    "We can access items like this:"
   ]
  },
  {
   "cell_type": "code",
   "execution_count": 167,
   "metadata": {},
   "outputs": [
    {
     "data": {
      "text/plain": [
       "PosixPath('/Users/rgrouls/code/deep_learning/notebooks/4_tuning_networks/../../data/external/gestures-dataset')"
      ]
     },
     "execution_count": 167,
     "metadata": {},
     "output_type": "execute_result"
    }
   ],
   "source": [
    "config.data_dir\n"
   ]
  },
  {
   "cell_type": "markdown",
   "metadata": {},
   "source": [
    "We also get transformation into a dictionary for free:"
   ]
  },
  {
   "cell_type": "code",
   "execution_count": 168,
   "metadata": {},
   "outputs": [
    {
     "data": {
      "text/plain": [
       "{'input_size': 3,\n",
       " 'output_size': 20,\n",
       " 'tune_dir': None,\n",
       " 'data_dir': PosixPath('/Users/rgrouls/code/deep_learning/notebooks/4_tuning_networks/../../data/external/gestures-dataset'),\n",
       " 'hidden_size': <ray.tune.sample.Integer at 0x11e47cd00>,\n",
       " 'dropout': 0.1,\n",
       " 'num_layers': 2}"
      ]
     },
     "execution_count": 168,
     "metadata": {},
     "output_type": "execute_result"
    }
   ],
   "source": [
    "config.dict()\n"
   ]
  }
 ],
 "metadata": {
  "interpreter": {
   "hash": "a15911aab0965639e9482f052beb89e7ca291bb3f153727c5758e3fe9ad1321e"
  },
  "kernelspec": {
   "display_name": "Python 3.8.13 ('deep-learning-xB8KIJr7-py3.9')",
   "language": "python",
   "name": "python3"
  },
  "language_info": {
   "codemirror_mode": {
    "name": "ipython",
    "version": 3
   },
   "file_extension": ".py",
   "mimetype": "text/x-python",
   "name": "python",
   "nbconvert_exporter": "python",
   "pygments_lexer": "ipython3",
   "version": "3.8.13"
  },
  "orig_nbformat": 4
 },
 "nbformat": 4,
 "nbformat_minor": 2
}
