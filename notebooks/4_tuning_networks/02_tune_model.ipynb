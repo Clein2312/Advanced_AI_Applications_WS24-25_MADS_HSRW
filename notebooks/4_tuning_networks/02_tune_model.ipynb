{
 "cells": [
  {
   "cell_type": "code",
   "execution_count": 1,
   "metadata": {},
   "outputs": [],
   "source": [
    "import sys\n",
    "sys.path.insert(0, \"../../\")\n",
    "from src.data import make_dataset\n",
    "from src.models import rnn_models, metrics\n",
    "from pathlib import Path\n",
    "from datetime import datetime\n",
    "import gin\n",
    "import ray"
   ]
  },
  {
   "cell_type": "code",
   "execution_count": 2,
   "metadata": {},
   "outputs": [
    {
     "name": "stderr",
     "output_type": "stream",
     "text": [
      "100%|██████████| 2600/2600 [00:01<00:00, 2297.49it/s]\n",
      "100%|██████████| 651/651 [00:00<00:00, 2144.33it/s]\n"
     ]
    }
   ],
   "source": [
    "data_dir = Path(\"../../data/external/gestures-dataset/\").resolve()\n",
    "trainloader, testloader = make_dataset.get_gestures(data_dir=data_dir, split=0.8, batchsize=32)"
   ]
  },
  {
   "cell_type": "code",
   "execution_count": 3,
   "metadata": {},
   "outputs": [
    {
     "data": {
      "text/plain": [
       "(torch.Size([32, 32, 3]), torch.Size([32]))"
      ]
     },
     "execution_count": 3,
     "metadata": {},
     "output_type": "execute_result"
    }
   ],
   "source": [
    "x, y = next(iter(trainloader))\n",
    "x.shape, y.shape"
   ]
  },
  {
   "cell_type": "code",
   "execution_count": 4,
   "metadata": {},
   "outputs": [],
   "source": [
    "accuracy = metrics.Accuracy()"
   ]
  },
  {
   "cell_type": "code",
   "execution_count": 5,
   "metadata": {},
   "outputs": [],
   "source": [
    "config = {\n",
    "    \"input_size\" : 3,\n",
    "    \"hidden_size\" : 32, \n",
    "    \"dropout\" : 0.1,\n",
    "    \"num_layers\": 2,\n",
    "    \"output_size\" : 20,\n",
    "}"
   ]
  },
  {
   "cell_type": "code",
   "execution_count": 6,
   "metadata": {},
   "outputs": [
    {
     "name": "stderr",
     "output_type": "stream",
     "text": [
      "2022-05-16 21:21:31.286 | INFO     | src.data.data_tools:clean_dir:167 - Clean out /Users/rgrouls/code/deep_learning/models/gestures/20220516-2121\n",
      "100%|██████████| 50/50 [00:48<00:00,  1.03it/s]\n"
     ]
    }
   ],
   "source": [
    "gin.parse_config_file(\"gestures.gin\")\n",
    "\n",
    "timestamp = datetime.now().strftime(\"%Y%m%d-%H%M\")\n",
    "log_dir = Path(\"../../models/gestures/\" + timestamp).resolve()\n",
    "if not log_dir.exists():\n",
    "    log_dir.mkdir(parents=True)\n",
    "\n",
    "\n",
    "model = rnn_models.GRUmodel(config)\n",
    "\n",
    "model = rnn_models.trainloop(\n",
    "    model=model,\n",
    "    metrics=[accuracy],\n",
    "    train_dataloader=trainloader,\n",
    "    test_dataloader=testloader,\n",
    "    log_dir=log_dir,\n",
    ")"
   ]
  },
  {
   "cell_type": "code",
   "execution_count": 9,
   "metadata": {},
   "outputs": [
    {
     "data": {
      "text/plain": [
       "(True,\n",
       " PosixPath('/Users/rgrouls/code/deep_learning/models/ray'),\n",
       " True,\n",
       " PosixPath('/Users/rgrouls/code/deep_learning/data/external/gestures-dataset'))"
      ]
     },
     "execution_count": 9,
     "metadata": {},
     "output_type": "execute_result"
    }
   ],
   "source": [
    "from ray.tune import JupyterNotebookReporter\n",
    "\n",
    "\n",
    "tune_dir = Path(\"../../models/ray/\").resolve()\n",
    "tune_dir.exists(), tune_dir, data_dir.exists(), data_dir"
   ]
  },
  {
   "cell_type": "code",
   "execution_count": 10,
   "metadata": {},
   "outputs": [],
   "source": [
    "from ray import tune"
   ]
  },
  {
   "cell_type": "code",
   "execution_count": 11,
   "metadata": {},
   "outputs": [],
   "source": [
    "def train(config):\n",
    "    trainloader, testloader = make_dataset.get_gestures(data_dir=config[\"data_dir\"], split=0.8, batchsize=32)\n",
    "    model = rnn_models.GRUmodel(config)\n",
    "\n",
    "    model = rnn_models.trainloop(\n",
    "        model=model,\n",
    "        metrics=[accuracy],\n",
    "        train_dataloader=trainloader,\n",
    "        test_dataloader=testloader,\n",
    "        log_dir=config[\"tune_dir\"],\n",
    "    )"
   ]
  },
  {
   "cell_type": "code",
   "execution_count": 9,
   "metadata": {},
   "outputs": [
    {
     "data": {
      "text/plain": [
       "RayContext(dashboard_url='', python_version='3.8.13', ray_version='1.12.0', ray_commit='f18fc31c7562990955556899090f8e8656b48d2d', address_info={'node_ip_address': '127.0.0.1', 'raylet_ip_address': '127.0.0.1', 'redis_address': None, 'object_store_address': '/tmp/ray/session_2022-05-16_16-47-38_668407_4329/sockets/plasma_store', 'raylet_socket_name': '/tmp/ray/session_2022-05-16_16-47-38_668407_4329/sockets/raylet', 'webui_url': '', 'session_dir': '/tmp/ray/session_2022-05-16_16-47-38_668407_4329', 'metrics_export_port': 58677, 'gcs_address': '127.0.0.1:50588', 'address': '127.0.0.1:50588', 'node_id': '256239ae12c4caefc4212ec704b718c308336b28465ea6b1e2ce8c96'})"
      ]
     },
     "execution_count": 9,
     "metadata": {},
     "output_type": "execute_result"
    }
   ],
   "source": [
    "import ray\n",
    "import torch\n",
    "ray.init()"
   ]
  },
  {
   "cell_type": "code",
   "execution_count": null,
   "metadata": {},
   "outputs": [],
   "source": [
    "reporter = JupyterNotebookReporter(overwrite=True)\n",
    "\n",
    "config = {\n",
    "    \"input_size\" : 3,\n",
    "    \"hidden_size\" : tune.randint(16, 128), \n",
    "    \"dropout\" : 0.1,\n",
    "    \"num_layers\": 2,\n",
    "    \"output_size\" : 20,\n",
    "    \"tune_dir\" : tune_dir,\n",
    "    \"data_dir\" : data_dir,\n",
    "}\n",
    "\n",
    "analysis = tune.run(train,\n",
    "         config = config,\n",
    "         metric=\"test_loss\",\n",
    "         mode=\"min\",\n",
    "         local_dir=tune_dir,\n",
    "         progress_reporter=reporter,\n",
    "         num_samples=4,\n",
    "         stop={\"training_iteration\": 50},\n",
    "         verbose=1)"
   ]
  },
  {
   "cell_type": "code",
   "execution_count": 19,
   "metadata": {},
   "outputs": [],
   "source": [
    "ray.shutdown()"
   ]
  },
  {
   "cell_type": "code",
   "execution_count": null,
   "metadata": {},
   "outputs": [],
   "source": []
  }
 ],
 "metadata": {
  "interpreter": {
   "hash": "a15911aab0965639e9482f052beb89e7ca291bb3f153727c5758e3fe9ad1321e"
  },
  "kernelspec": {
   "display_name": "Python 3.8.13 ('deep-learning-xB8KIJr7-py3.9')",
   "language": "python",
   "name": "python3"
  },
  "language_info": {
   "codemirror_mode": {
    "name": "ipython",
    "version": 3
   },
   "file_extension": ".py",
   "mimetype": "text/x-python",
   "name": "python",
   "nbconvert_exporter": "python",
   "pygments_lexer": "ipython3",
   "version": "3.8.13"
  },
  "orig_nbformat": 4
 },
 "nbformat": 4,
 "nbformat_minor": 2
}
