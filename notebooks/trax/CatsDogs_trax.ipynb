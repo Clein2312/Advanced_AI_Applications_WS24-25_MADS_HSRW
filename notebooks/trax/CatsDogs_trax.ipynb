{
 "cells": [
  {
   "cell_type": "code",
   "execution_count": 1,
   "metadata": {},
   "outputs": [
    {
     "name": "stderr",
     "output_type": "stream",
     "text": [
      "2022-02-15 15:06:42.889492: W tensorflow/stream_executor/platform/default/dso_loader.cc:64] Could not load dynamic library 'libcudart.so.11.0'; dlerror: libcudart.so.11.0: cannot open shared object file: No such file or directory\n"
     ]
    }
   ],
   "source": [
    "%load_ext autoreload\n",
    "%autoreload 2\n",
    "\n",
    "import sys\n",
    "sys.path.insert(0, \"..\")\n",
    "\n",
    "import trax\n",
    "trax.fastmath.backend_name()\n",
    "from src.data import data_tools\n",
    "from pathlib import Path"
   ]
  },
  {
   "cell_type": "code",
   "execution_count": 2,
   "metadata": {},
   "outputs": [],
   "source": [
    "import tensorflow as tf\n",
    "dataset_url = \"https://storage.googleapis.com/download.tensorflow.org/example_images/flower_photos.tgz\"\n",
    "data_dir = tf.keras.utils.get_file('flower_photos', origin=dataset_url, untar=True, cache_dir=\"../data/raw\")\n"
   ]
  },
  {
   "cell_type": "code",
   "execution_count": 3,
   "metadata": {},
   "outputs": [],
   "source": [
    "from src.data import data_tools\n",
    "\n",
    "image_folder = Path(\"../data/raw/datasets/flower_photos\")\n",
    "datagen = data_tools.data_generator(\n",
    "    batch_size = 8, \n",
    "    path = image_folder, \n",
    "    image_size = (150, 150),\n",
    "    channels = 3,\n",
    "    shuffle = True\n",
    ")"
   ]
  },
  {
   "cell_type": "code",
   "execution_count": 4,
   "metadata": {},
   "outputs": [
    {
     "name": "stderr",
     "output_type": "stream",
     "text": [
      "2022-02-15 15:09:19.208025: W tensorflow/stream_executor/platform/default/dso_loader.cc:64] Could not load dynamic library 'libcuda.so.1'; dlerror: libcuda.so.1: cannot open shared object file: No such file or directory\n",
      "2022-02-15 15:09:19.208099: W tensorflow/stream_executor/cuda/cuda_driver.cc:269] failed call to cuInit: UNKNOWN ERROR (303)\n"
     ]
    },
    {
     "name": "stdout",
     "output_type": "stream",
     "text": [
      "30.8 ms ± 4.77 ms per loop (mean ± std. dev. of 7 runs, 1 loop each)\n"
     ]
    }
   ],
   "source": [
    "%timeit next(datagen)"
   ]
  },
  {
   "cell_type": "code",
   "execution_count": 5,
   "metadata": {},
   "outputs": [
    {
     "data": {
      "text/plain": [
       "((8, 150, 150, 3), (8, 150, 150, 3))"
      ]
     },
     "execution_count": 5,
     "metadata": {},
     "output_type": "execute_result"
    }
   ],
   "source": [
    "X, y = next(datagen)\n",
    "X.shape, y.shape"
   ]
  },
  {
   "cell_type": "code",
   "execution_count": 55,
   "metadata": {},
   "outputs": [],
   "source": [
    "from trax import layers as tl\n",
    "model = tl.Serial(\n",
    "      tl.ToFloat(),\n",
    "\n",
    "      tl.Conv(32, (3, 3), (1, 1), 'SAME'),\n",
    "      tl.LayerNorm(),\n",
    "      tl.Relu(),\n",
    "      tl.MaxPool(),\n",
    "\n",
    "      tl.Conv(64, (3, 3), (1, 1), 'SAME'),\n",
    "      tl.LayerNorm(),\n",
    "      tl.Relu(),\n",
    "      tl.MaxPool(),\n",
    "\n",
    "      tl.Flatten(),\n",
    "      tl.Dense(5),\n",
    "      tl.Softmax()\n",
    ")"
   ]
  },
  {
   "cell_type": "code",
   "execution_count": 56,
   "metadata": {},
   "outputs": [],
   "source": [
    "from trax.supervised import training\n",
    "\n",
    "train_task = training.TrainTask(\n",
    "    labeled_data=datagen,\n",
    "    loss_layer=tl.CategoryCrossEntropy(),\n",
    "    optimizer=trax.optimizers.Adam(0.001),\n",
    "    n_steps_per_checkpoint=100,\n",
    ")\n",
    "\n",
    "# eval_task = training.EvalTask(\n",
    "#     labeled_data=eval_batches_stream,\n",
    "#     metrics=[tl.CategoryCrossEntropy(), tl.CategoryAccuracy()],\n",
    "#     n_eval_batches=20,\n",
    "# )"
   ]
  },
  {
   "cell_type": "code",
   "execution_count": 57,
   "metadata": {},
   "outputs": [],
   "source": [
    "training_loop = training.Loop(model, \n",
    "                              train_task, \n",
    "                              output_dir='./cnn_model2')\n",
    "\n",
    "training_loop.run(5)"
   ]
  },
  {
   "cell_type": "code",
   "execution_count": 58,
   "metadata": {},
   "outputs": [],
   "source": [
    "X, y = next(datagen)"
   ]
  },
  {
   "cell_type": "code",
   "execution_count": 59,
   "metadata": {},
   "outputs": [
    {
     "data": {
      "text/plain": [
       "(8, 5)"
      ]
     },
     "execution_count": 59,
     "metadata": {},
     "output_type": "execute_result"
    }
   ],
   "source": [
    "yhat = model.forward(X)\n",
    "yhat.shape"
   ]
  },
  {
   "cell_type": "code",
   "execution_count": 60,
   "metadata": {},
   "outputs": [
    {
     "data": {
      "text/plain": [
       "DeviceArray([3, 3, 3, 3, 3, 3, 3, 3], dtype=int32)"
      ]
     },
     "execution_count": 60,
     "metadata": {},
     "output_type": "execute_result"
    }
   ],
   "source": [
    "import trax.fastmath.numpy as np\n",
    "np.argmax(yhat, axis=1)"
   ]
  },
  {
   "cell_type": "code",
   "execution_count": null,
   "metadata": {},
   "outputs": [],
   "source": []
  }
 ],
 "metadata": {
  "interpreter": {
   "hash": "26ecd70c250b5fc210d88fc9e1a14b5d0dd9aee31ae2ed2f5669e6e14392ba9e"
  },
  "kernelspec": {
   "display_name": "Python 3.8.12 ('deep-learning-xB8KIJr7-py3.8')",
   "language": "python",
   "name": "python3"
  },
  "language_info": {
   "codemirror_mode": {
    "name": "ipython",
    "version": 3
   },
   "file_extension": ".py",
   "mimetype": "text/x-python",
   "name": "python",
   "nbconvert_exporter": "python",
   "pygments_lexer": "ipython3",
   "version": "3.8.12"
  },
  "orig_nbformat": 4
 },
 "nbformat": 4,
 "nbformat_minor": 2
}
