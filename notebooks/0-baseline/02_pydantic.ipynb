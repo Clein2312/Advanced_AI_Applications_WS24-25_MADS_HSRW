{
 "cells": [
  {
   "cell_type": "code",
   "execution_count": 1,
   "metadata": {},
   "outputs": [],
   "source": [
    "from pathlib import Path\n",
    "from pydantic import BaseModel, root_validator\n",
    "from typing import Optional\n",
    "import ray\n",
    "from ray import tune\n"
   ]
  },
  {
   "attachments": {},
   "cell_type": "markdown",
   "metadata": {},
   "source": [
    "While creating larger projects, we will typically end up having a lot of parameters. While the fastest way might seem to just hardcode them somewhere, this is not a valid long-term strategy.\n",
    "\n",
    "Especially when doing experiments with machine learning, we will want to have everything in one place, and ideally we want to have checks in place.\n",
    "\n",
    "This documents explores how you can make more advanced pydantic settings, even for more complex parameters like ray search spaces.\n",
    "\n",
    "To start naively, we could just make a config like this"
   ]
  },
  {
   "cell_type": "code",
   "execution_count": 2,
   "metadata": {},
   "outputs": [],
   "source": [
    "config = {\"input_size\": 3, \"output_size\": 20, \"data_dir\": Path(\".\")}\n"
   ]
  },
  {
   "cell_type": "code",
   "execution_count": 3,
   "metadata": {},
   "outputs": [
    {
     "data": {
      "text/plain": [
       "3"
      ]
     },
     "execution_count": 3,
     "metadata": {},
     "output_type": "execute_result"
    }
   ],
   "source": [
    "config[\"input_size\"]"
   ]
  },
  {
   "attachments": {},
   "cell_type": "markdown",
   "metadata": {},
   "source": [
    "While this will go a long way, there are some horros hidden deep inside python."
   ]
  },
  {
   "cell_type": "code",
   "execution_count": 4,
   "metadata": {},
   "outputs": [
    {
     "name": "stdout",
     "output_type": "stream",
     "text": [
      "['Hello']\n",
      "['Hello']\n"
     ]
    }
   ],
   "source": [
    "from dataclasses import dataclass\n",
    "\n",
    "@dataclass\n",
    "class MyClass:\n",
    "    mutable_attr = []\n",
    "\n",
    "# Create two instances\n",
    "instance1 = MyClass()\n",
    "instance2 = MyClass()\n",
    "\n",
    "# Append to the list in instance1\n",
    "instance1.mutable_attr.append('Hello')\n",
    "\n",
    "print(instance1.mutable_attr)  # prints ['Hello']\n",
    "print(instance2.mutable_attr)  # also prints ['Hello']. Wait, what?"
   ]
  },
  {
   "attachments": {},
   "cell_type": "markdown",
   "metadata": {},
   "source": [
    "Every programmer should get nightmares from this, because this is absolutely not what you would expect.\n",
    "Luckily, pydantic is there to save the day.\n",
    "\n",
    "![img](python.PNG)"
   ]
  },
  {
   "cell_type": "code",
   "execution_count": 10,
   "metadata": {},
   "outputs": [
    {
     "name": "stdout",
     "output_type": "stream",
     "text": [
      "['Hello']\n",
      "[]\n"
     ]
    }
   ],
   "source": [
    "from pydantic import BaseModel\n",
    "from typing import List\n",
    "\n",
    "class TrainerSettings(BaseModel):\n",
    "    mutable_attr: List = []\n",
    "\n",
    "# Create two settings instances\n",
    "settings1 = TrainerSettings()\n",
    "settings2 = TrainerSettings()\n",
    "\n",
    "# Change 'factor' in settings1\n",
    "settings1.mutable_attr.append(\"Hello\")\n",
    "\n",
    "print(settings1.mutable_attr)  # prints [\"Hello\"] \n",
    "print(settings2.mutable_attr) # print [] "
   ]
  },
  {
   "attachments": {},
   "cell_type": "markdown",
   "metadata": {},
   "source": [
    "\n",
    "But the protection against modifying features is just one advantage. We can get a config on steroids with pydantic without too much extra effort:"
   ]
  },
  {
   "cell_type": "code",
   "execution_count": 11,
   "metadata": {},
   "outputs": [
    {
     "data": {
      "text/plain": [
       "SearchSpace(input_size=3, output_size=20, tune_dir=None, data_dir=PosixPath('.'))"
      ]
     },
     "execution_count": 11,
     "metadata": {},
     "output_type": "execute_result"
    }
   ],
   "source": [
    "class SearchSpace(BaseModel):\n",
    "    input_size: int\n",
    "    output_size: int\n",
    "    tune_dir: Optional[Path]\n",
    "    data_dir: Path\n",
    "\n",
    "config = SearchSpace(input_size=3.0, output_size=20, data_dir=\".\")  # <- string goes in here\n",
    "config  # <- and is automatic cast to a Path here"
   ]
  },
  {
   "attachments": {},
   "cell_type": "markdown",
   "metadata": {},
   "source": [
    "Note how the `\".\"` data_dir becomes a `PosixPath`, automatically, even if we provide the argument as a string!!\n",
    "\n",
    "Note how `Optional` allows for leaving the argument out, and the value defaults to `None`."
   ]
  },
  {
   "attachments": {},
   "cell_type": "markdown",
   "metadata": {},
   "source": [
    "If possible, it will cast all elements, e.g. even `input_size=\"3\"` becomes an integer"
   ]
  },
  {
   "cell_type": "code",
   "execution_count": 19,
   "metadata": {},
   "outputs": [
    {
     "data": {
      "text/plain": [
       "3"
      ]
     },
     "execution_count": 19,
     "metadata": {},
     "output_type": "execute_result"
    }
   ],
   "source": [
    "config = SearchSpace(input_size=\"3\", output_size=20, data_dir=\".\")\n",
    "config.input_size\n"
   ]
  },
  {
   "cell_type": "code",
   "execution_count": 20,
   "metadata": {},
   "outputs": [
    {
     "data": {
      "text/plain": [
       "True"
      ]
     },
     "execution_count": 20,
     "metadata": {},
     "output_type": "execute_result"
    }
   ],
   "source": [
    "type(config.input_size) == int"
   ]
  },
  {
   "attachments": {},
   "cell_type": "markdown",
   "metadata": {},
   "source": [
    "And if you try to give `data_dir` something that can't be cast to a `Path`, you will get an error.\n",
    "The advantage is that you get your errors at the place where you make them, and not 10 steps later when running the trainloop..."
   ]
  },
  {
   "cell_type": "code",
   "execution_count": 21,
   "metadata": {},
   "outputs": [
    {
     "name": "stdout",
     "output_type": "stream",
     "text": [
      "1 validation error for SearchSpace\n",
      "data_dir\n",
      "  value is not a valid path (type=type_error.path)\n"
     ]
    }
   ],
   "source": [
    "try:\n",
    "    config = SearchSpace(input_size=\"3\", output_size=20, data_dir=3.4)\n",
    "except ValueError as e:\n",
    "    print(e)\n"
   ]
  },
  {
   "attachments": {},
   "cell_type": "markdown",
   "metadata": {},
   "source": [
    "Let's try to add the ray.tune ranges. We will need these later on when hypertuning. \n",
    "You dont have to understand this now, but what it does is it provides us a range of possible parameters, in this case a uniform distribution of numbers between 0.0 and 10.0.\n",
    "\n",
    "To find out what the type is, we simple call the `type()` method."
   ]
  },
  {
   "cell_type": "code",
   "execution_count": 22,
   "metadata": {},
   "outputs": [
    {
     "data": {
      "text/plain": [
       "float"
      ]
     },
     "execution_count": 22,
     "metadata": {},
     "output_type": "execute_result"
    }
   ],
   "source": [
    "type(1.0)"
   ]
  },
  {
   "cell_type": "code",
   "execution_count": 23,
   "metadata": {},
   "outputs": [
    {
     "data": {
      "text/plain": [
       "ray.tune.sample.Float"
      ]
     },
     "execution_count": 23,
     "metadata": {},
     "output_type": "execute_result"
    }
   ],
   "source": [
    "type(tune.uniform(0.0, 10.0))\n"
   ]
  },
  {
   "attachments": {},
   "cell_type": "markdown",
   "metadata": {},
   "source": [
    "This is a uniform distribution, that Ray will use to search for optimal parameters."
   ]
  },
  {
   "attachments": {},
   "cell_type": "markdown",
   "metadata": {},
   "source": [
    "But if we simply add that..."
   ]
  },
  {
   "cell_type": "code",
   "execution_count": 25,
   "metadata": {},
   "outputs": [
    {
     "name": "stdout",
     "output_type": "stream",
     "text": [
      "no validator found for <class 'ray.tune.sample.Integer'>, see `arbitrary_types_allowed` in Config\n"
     ]
    }
   ],
   "source": [
    "from typing import Union, Optional, Dict\n",
    "\n",
    "SAMPLE_INT = ray.tune.sample.Integer\n",
    "\n",
    "try:\n",
    "\n",
    "    class SearchSpace(BaseModel):\n",
    "        input_size: int\n",
    "        hidden_size: Union[int, SAMPLE_INT] = tune.randint(16, 128)\n",
    "        output_size: int\n",
    "        tune_dir: Optional[Path]\n",
    "        data_dir: Path\n",
    "\n",
    "except RuntimeError as e:\n",
    "    print(e)\n"
   ]
  },
  {
   "attachments": {},
   "cell_type": "markdown",
   "metadata": {},
   "source": [
    "Pydantic complains that it does not know how to validate the type. A simple solution is to add `arbitrary_types_allowed`"
   ]
  },
  {
   "cell_type": "code",
   "execution_count": 26,
   "metadata": {},
   "outputs": [
    {
     "data": {
      "text/plain": [
       "SearchSpace(input_size=3, hidden_size=32, output_size=20, tune_dir='.', data_dir=PosixPath('.'))"
      ]
     },
     "execution_count": 26,
     "metadata": {},
     "output_type": "execute_result"
    }
   ],
   "source": [
    "class SearchSpace(BaseModel):\n",
    "    input_size: int\n",
    "    hidden_size: Union[int, SAMPLE_INT]\n",
    "    output_size: int = 20\n",
    "    tune_dir: Path = \".\"\n",
    "    data_dir: Path\n",
    "\n",
    "    class Config:\n",
    "        arbitrary_types_allowed = True\n",
    "\n",
    "\n",
    "config = SearchSpace(input_size=3, hidden_size=32, data_dir=\".\")\n",
    "config\n"
   ]
  },
  {
   "attachments": {},
   "cell_type": "markdown",
   "metadata": {},
   "source": [
    "Because of the `Union`, an integer will work"
   ]
  },
  {
   "cell_type": "code",
   "execution_count": 27,
   "metadata": {},
   "outputs": [
    {
     "data": {
      "text/plain": [
       "SearchSpace(input_size=3, hidden_size=<ray.tune.sample.Integer object at 0x125a12dc0>, output_size=20, tune_dir='.', data_dir=PosixPath('.'))"
      ]
     },
     "execution_count": 27,
     "metadata": {},
     "output_type": "execute_result"
    }
   ],
   "source": [
    "config = SearchSpace(input_size=3, hidden_size=tune.randint(16, 128), data_dir=\".\")\n",
    "config\n"
   ]
  },
  {
   "attachments": {},
   "cell_type": "markdown",
   "metadata": {},
   "source": [
    "And a `tune.randint` will work.\n",
    "\n",
    "But a `tune.uniform` fails! Exactly what we need!"
   ]
  },
  {
   "cell_type": "code",
   "execution_count": 28,
   "metadata": {},
   "outputs": [
    {
     "name": "stdout",
     "output_type": "stream",
     "text": [
      "2 validation errors for SearchSpace\n",
      "hidden_size\n",
      "  value is not a valid integer (type=type_error.integer)\n",
      "hidden_size\n",
      "  instance of Integer expected (type=type_error.arbitrary_type; expected_arbitrary_type=Integer)\n"
     ]
    }
   ],
   "source": [
    "try:\n",
    "    config = SearchSpace(input_size=3, hidden_size=tune.uniform(0.0, 0.5), data_dir=\".\")\n",
    "except Exception as e:\n",
    "    print(e)\n"
   ]
  },
  {
   "attachments": {},
   "cell_type": "markdown",
   "metadata": {},
   "source": [
    "Also, pydantic wont know how to check for `SAMPLE_INT`.\n",
    "You can write your own validator for a class. Implement a `__get_validators__` function,\n",
    "which will yield one or more validators. You can find more on that in the [documentation](https://pydantic-docs.helpmanual.io/usage/types/#custom-data-types)\n"
   ]
  },
  {
   "cell_type": "code",
   "execution_count": 29,
   "metadata": {},
   "outputs": [],
   "source": [
    "class SampleFloat:\n",
    "    @classmethod\n",
    "    def __get_validators__(cls):\n",
    "        yield cls.validate\n",
    "\n",
    "    @classmethod\n",
    "    def validate(cls, v):\n",
    "        # we check if the value v is actually a ray search.sample.Float type\n",
    "        if not isinstance(v, ray.tune.sample.Float):\n",
    "            raise TypeError(f\"{ray.tune.sample.Float} required, found {type(v)}\")\n",
    "        return v\n"
   ]
  },
  {
   "attachments": {},
   "cell_type": "markdown",
   "metadata": {},
   "source": [
    "We just ran a simple check. But you can imagine more complex checks (e.g. for phone numbers etc)"
   ]
  },
  {
   "cell_type": "code",
   "execution_count": 30,
   "metadata": {},
   "outputs": [
    {
     "name": "stdout",
     "output_type": "stream",
     "text": [
      "1 validation error for SearchSpace\n",
      "dropout\n",
      "  <class 'ray.tune.sample.Float'> required, found <class 'ray.tune.sample.Integer'> (type=type_error)\n"
     ]
    }
   ],
   "source": [
    "class SearchSpace(BaseModel):\n",
    "    dropout: SampleFloat\n",
    "\n",
    "\n",
    "try:\n",
    "    config = SearchSpace(dropout=tune.randint(16, 32))\n",
    "except Exception as e:\n",
    "    print(e)\n"
   ]
  },
  {
   "attachments": {},
   "cell_type": "markdown",
   "metadata": {},
   "source": [
    "However, in our case, it does not add anything more than we already had with arbitrary types."
   ]
  },
  {
   "cell_type": "code",
   "execution_count": 31,
   "metadata": {},
   "outputs": [
    {
     "data": {
      "text/plain": [
       "SearchSpace(input_size=3, hidden_size=<ray.tune.sample.Integer object at 0x125a4ecd0>, dropout=<ray.tune.sample.Float object at 0x125a4e280>, num_layers=2, output_size=20, tune_dir=None, data_dir=PosixPath('.'))"
      ]
     },
     "execution_count": 31,
     "metadata": {},
     "output_type": "execute_result"
    }
   ],
   "source": [
    "SAMPLE_INT = ray.tune.sample.Integer\n",
    "SAMPLE_FLOAT = ray.tune.sample.Float\n",
    "\n",
    "\n",
    "class SearchSpace(BaseModel):\n",
    "    input_size: int\n",
    "    hidden_size: Union[int, SAMPLE_INT]\n",
    "    dropout: Union[float, SAMPLE_FLOAT]\n",
    "    num_layers: Union[int, SAMPLE_INT]\n",
    "    output_size: int\n",
    "    tune_dir: Optional[Path]\n",
    "    data_dir: Path\n",
    "\n",
    "    class Config:\n",
    "        arbitrary_types_allowed = True\n",
    "\n",
    "\n",
    "config = SearchSpace(\n",
    "    input_size=3,\n",
    "    hidden_size=tune.randint(16, 128),\n",
    "    dropout=tune.uniform(0.0, 0.3),\n",
    "    num_layers=2,\n",
    "    output_size=20,\n",
    "    data_dir=\".\",\n",
    ")\n",
    "config\n"
   ]
  },
  {
   "attachments": {},
   "cell_type": "markdown",
   "metadata": {},
   "source": [
    "But what if we want to protect againts adding non-existing paths?"
   ]
  },
  {
   "cell_type": "code",
   "execution_count": 32,
   "metadata": {},
   "outputs": [
    {
     "data": {
      "text/plain": [
       "(False, PosixPath('/Users/rgrouls/code/ML22/notebooks/0-baseline/data/a/b'))"
      ]
     },
     "execution_count": 32,
     "metadata": {},
     "output_type": "execute_result"
    }
   ],
   "source": [
    "data_dir = Path(\"data/a/b\").absolute()\n",
    "data_dir.exists(), data_dir\n"
   ]
  },
  {
   "cell_type": "code",
   "execution_count": 33,
   "metadata": {},
   "outputs": [
    {
     "data": {
      "text/plain": [
       "SearchSpace(input_size=3, hidden_size=32, dropout=0.1, num_layers=2, output_size=20, tune_dir=None, data_dir=PosixPath('/Users/rgrouls/code/ML22/notebooks/0-baseline/data/a/b'))"
      ]
     },
     "execution_count": 33,
     "metadata": {},
     "output_type": "execute_result"
    }
   ],
   "source": [
    "config = SearchSpace(\n",
    "    input_size=3,\n",
    "    hidden_size=32,\n",
    "    dropout=0.1,\n",
    "    num_layers=2,\n",
    "    output_size=20,\n",
    "    data_dir=data_dir,\n",
    ")\n",
    "config\n"
   ]
  },
  {
   "attachments": {},
   "cell_type": "markdown",
   "metadata": {},
   "source": [
    "We can add a `root_validator` to run an additional check before creation."
   ]
  },
  {
   "cell_type": "code",
   "execution_count": 34,
   "metadata": {},
   "outputs": [
    {
     "name": "stdout",
     "output_type": "stream",
     "text": [
      "Make sure the datadir exists.\n",
      " Found /Users/rgrouls/code/ML22/notebooks/0-baseline/data/a/b to be non-existing.\n"
     ]
    }
   ],
   "source": [
    "class SearchSpace(BaseModel):\n",
    "\n",
    "    input_size: int\n",
    "    hidden_size: Union[int, SAMPLE_INT] = tune.randint(16, 128)\n",
    "    dropout: Union[float, SAMPLE_FLOAT] = tune.uniform(0.0, 0.3)\n",
    "    num_layers: Union[int, SAMPLE_INT] = tune.randint(2, 5)\n",
    "    output_size: int\n",
    "    tune_dir: Optional[Path]\n",
    "    data_dir: Path\n",
    "\n",
    "    class Config:\n",
    "        arbitrary_types_allowed = True\n",
    "\n",
    "    @root_validator\n",
    "    def check_path(cls, values: Dict) -> Dict:  # noqa: N805\n",
    "        datadir = values.get(\"data_dir\")\n",
    "        if not datadir.exists():\n",
    "            raise FileNotFoundError(\n",
    "                f\"Make sure the datadir exists.\\n Found {datadir} to be non-existing.\"\n",
    "            )\n",
    "        return values\n",
    "\n",
    "\n",
    "try:\n",
    "    config = SearchSpace(\n",
    "        input_size=3,\n",
    "        hidden_size=32,\n",
    "        dropout=0.1,\n",
    "        num_layers=2,\n",
    "        output_size=20,\n",
    "        data_dir=data_dir,\n",
    "    )\n",
    "except FileNotFoundError as e:\n",
    "    print(e)\n"
   ]
  },
  {
   "attachments": {},
   "cell_type": "markdown",
   "metadata": {},
   "source": [
    "This can really safe you a lot of headaches!\n",
    "\n",
    "A last trick is to use inheritance. We can make a baseclass, and inherit all the validators etc, and just add the additional stuff specific to our model."
   ]
  },
  {
   "cell_type": "code",
   "execution_count": 35,
   "metadata": {},
   "outputs": [],
   "source": [
    "class BaseSearchSpace(BaseModel):\n",
    "\n",
    "    input_size: int\n",
    "    output_size: int\n",
    "    tune_dir: Optional[Path]\n",
    "    data_dir: Path\n",
    "\n",
    "    class Config:\n",
    "        arbitrary_types_allowed = True\n",
    "\n",
    "    @root_validator\n",
    "    def check_path(cls, values: Dict) -> Dict:  # noqa: N805\n",
    "        datadir = values.get(\"data_dir\")\n",
    "        if not datadir.exists():\n",
    "            raise FileNotFoundError(\n",
    "                f\"Make sure the datadir exists.\\n Found {datadir} to be non-existing.\"\n",
    "            )\n",
    "        return values\n",
    "\n",
    "\n",
    "class SearchSpace(BaseSearchSpace):\n",
    "    hidden_size: Union[int, SAMPLE_INT] = tune.randint(16, 128)\n",
    "    dropout: Union[float, SAMPLE_FLOAT] = tune.uniform(0.0, 0.3)\n",
    "    num_layers: Union[int, SAMPLE_INT] = tune.randint(2, 5)\n"
   ]
  },
  {
   "cell_type": "code",
   "execution_count": 36,
   "metadata": {},
   "outputs": [
    {
     "data": {
      "text/plain": [
       "SearchSpace(input_size=3, output_size=20, tune_dir=None, data_dir=PosixPath('/Users/rgrouls/code/ML22/data/external/gestures-dataset'), hidden_size=<ray.tune.sample.Integer object at 0x125a3a370>, dropout=0.1, num_layers=2)"
      ]
     },
     "execution_count": 36,
     "metadata": {},
     "output_type": "execute_result"
    }
   ],
   "source": [
    "data_dir = Path(\"../../data/external/gestures-dataset\").resolve()\n",
    "config = SearchSpace(\n",
    "    input_size=3,\n",
    "    hidden_size=tune.randint(16, 128),\n",
    "    dropout=0.1,\n",
    "    num_layers=2,\n",
    "    output_size=20,\n",
    "    data_dir=data_dir,\n",
    ")\n",
    "config\n"
   ]
  },
  {
   "attachments": {},
   "cell_type": "markdown",
   "metadata": {},
   "source": [
    "We can access items like this:"
   ]
  },
  {
   "cell_type": "code",
   "execution_count": 37,
   "metadata": {},
   "outputs": [
    {
     "data": {
      "text/plain": [
       "PosixPath('/Users/rgrouls/code/ML22/data/external/gestures-dataset')"
      ]
     },
     "execution_count": 37,
     "metadata": {},
     "output_type": "execute_result"
    }
   ],
   "source": [
    "config.data_dir\n"
   ]
  },
  {
   "attachments": {},
   "cell_type": "markdown",
   "metadata": {},
   "source": [
    "We also get transformation into a dictionary for free:"
   ]
  },
  {
   "cell_type": "code",
   "execution_count": 38,
   "metadata": {},
   "outputs": [
    {
     "data": {
      "text/plain": [
       "{'input_size': 3,\n",
       " 'output_size': 20,\n",
       " 'tune_dir': None,\n",
       " 'data_dir': PosixPath('/Users/rgrouls/code/ML22/data/external/gestures-dataset'),\n",
       " 'hidden_size': <ray.tune.sample.Integer at 0x125a3a370>,\n",
       " 'dropout': 0.1,\n",
       " 'num_layers': 2}"
      ]
     },
     "execution_count": 38,
     "metadata": {},
     "output_type": "execute_result"
    }
   ],
   "source": [
    "config.dict()\n"
   ]
  },
  {
   "cell_type": "code",
   "execution_count": null,
   "metadata": {},
   "outputs": [],
   "source": []
  }
 ],
 "metadata": {
  "kernelspec": {
   "display_name": "Python 3.9.13 ('deep-learning-wM7qE7ca-py3.9')",
   "language": "python",
   "name": "python3"
  },
  "language_info": {
   "codemirror_mode": {
    "name": "ipython",
    "version": 3
   },
   "file_extension": ".py",
   "mimetype": "text/x-python",
   "name": "python",
   "nbconvert_exporter": "python",
   "pygments_lexer": "ipython3",
   "version": "3.10.11"
  },
  "orig_nbformat": 4,
  "vscode": {
   "interpreter": {
    "hash": "9384df97cb25cd0ffeadd8ca5fc8c3b92d252d40e81804b4c63c6d046c91939e"
   }
  }
 },
 "nbformat": 4,
 "nbformat_minor": 2
}
