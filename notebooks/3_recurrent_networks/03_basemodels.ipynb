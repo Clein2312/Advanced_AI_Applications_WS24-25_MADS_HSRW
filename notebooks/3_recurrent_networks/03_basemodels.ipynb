{
 "cells": [
  {
   "cell_type": "markdown",
   "metadata": {
    "id": "SDdSZZAwLO7p"
   },
   "source": [
    "# Timeseries with recurrent neural networks"
   ]
  },
  {
   "cell_type": "code",
   "execution_count": 1,
   "metadata": {
    "collapsed": false,
    "pycharm": {
     "name": "#%%\n"
    }
   },
   "outputs": [],
   "source": [
    "%load_ext autoreload\n",
    "%autoreload 2\n",
    "\n",
    "import numpy as np\n",
    "import matplotlib.pyplot as plt\n",
    "%matplotlib inline\n",
    "plt.style.use('dark_background')\n"
   ]
  },
  {
   "cell_type": "markdown",
   "metadata": {
    "id": "YYqJb6HjLO77"
   },
   "source": [
    "# 1.0 Sunspots\n",
    "## 1.1 Loading data"
   ]
  },
  {
   "cell_type": "code",
   "execution_count": 2,
   "metadata": {
    "collapsed": false,
    "pycharm": {
     "name": "#%%\n"
    }
   },
   "outputs": [
    {
     "name": "stderr",
     "output_type": "stream",
     "text": [
      "2022-05-13 13:38:05.552 | INFO     | src.data.make_dataset:get_sunspots:72 - Found ../../data/raw/sunspots.csv, load from disk\n"
     ]
    },
    {
     "data": {
      "text/html": [
       "<div>\n",
       "<style scoped>\n",
       "    .dataframe tbody tr th:only-of-type {\n",
       "        vertical-align: middle;\n",
       "    }\n",
       "\n",
       "    .dataframe tbody tr th {\n",
       "        vertical-align: top;\n",
       "    }\n",
       "\n",
       "    .dataframe thead th {\n",
       "        text-align: right;\n",
       "    }\n",
       "</style>\n",
       "<table border=\"1\" class=\"dataframe\">\n",
       "  <thead>\n",
       "    <tr style=\"text-align: right;\">\n",
       "      <th></th>\n",
       "      <th>year</th>\n",
       "      <th>MonthlyMean</th>\n",
       "    </tr>\n",
       "  </thead>\n",
       "  <tbody>\n",
       "    <tr>\n",
       "      <th>0</th>\n",
       "      <td>1749.042</td>\n",
       "      <td>96.7</td>\n",
       "    </tr>\n",
       "    <tr>\n",
       "      <th>1</th>\n",
       "      <td>1749.123</td>\n",
       "      <td>104.3</td>\n",
       "    </tr>\n",
       "    <tr>\n",
       "      <th>2</th>\n",
       "      <td>1749.204</td>\n",
       "      <td>116.7</td>\n",
       "    </tr>\n",
       "    <tr>\n",
       "      <th>3</th>\n",
       "      <td>1749.288</td>\n",
       "      <td>92.8</td>\n",
       "    </tr>\n",
       "    <tr>\n",
       "      <th>4</th>\n",
       "      <td>1749.371</td>\n",
       "      <td>141.7</td>\n",
       "    </tr>\n",
       "  </tbody>\n",
       "</table>\n",
       "</div>"
      ],
      "text/plain": [
       "       year  MonthlyMean\n",
       "0  1749.042         96.7\n",
       "1  1749.123        104.3\n",
       "2  1749.204        116.7\n",
       "3  1749.288         92.8\n",
       "4  1749.371        141.7"
      ]
     },
     "execution_count": 2,
     "metadata": {},
     "output_type": "execute_result"
    }
   ],
   "source": [
    "import sys\n",
    "sys.path.insert(0, \"../..\")\n",
    "from src.data import make_dataset\n",
    "from pathlib import Path\n",
    "import gin\n",
    "\n",
    "datadir = Path(\"../../data/raw\")\n",
    "data = make_dataset.get_sunspots(datadir=datadir)\n",
    "data.head()"
   ]
  },
  {
   "cell_type": "markdown",
   "metadata": {
    "id": "OVmz9rjNLO78"
   },
   "source": [
    "This is data on sunspots, since 1749, in a pandas dataframe. Let us cast this to a `float32` Torch Tensor.\n",
    "\n",
    "We first need to get the numpy data out of the pandas, and the cast that to a float32 Tensor."
   ]
  },
  {
   "cell_type": "code",
   "execution_count": 3,
   "metadata": {},
   "outputs": [
    {
     "data": {
      "text/plain": [
       "tensor([ 96.7000, 104.3000, 116.7000,  ...,  59.7000,  78.5000,  84.1000])"
      ]
     },
     "execution_count": 3,
     "metadata": {},
     "output_type": "execute_result"
    }
   ],
   "source": [
    "import torch\n",
    "series = data['MonthlyMean']\n",
    "tensordata = torch.from_numpy(series.to_numpy()).type(torch.float32)\n",
    "tensordata\n"
   ]
  },
  {
   "cell_type": "code",
   "execution_count": 4,
   "metadata": {
    "colab": {
     "base_uri": "https://localhost:8080/",
     "height": 282
    },
    "id": "avZhVdkzLO78",
    "outputId": "733b6bdc-6f39-4715-8220-ba7dc3d94ca4"
   },
   "outputs": [
    {
     "data": {
      "image/png": "[encoded data removed]",
      "text/plain": [
       "<Figure size 432x288 with 1 Axes>"
      ]
     },
     "metadata": {},
     "output_type": "display_data"
    }
   ],
   "source": [
    "plt.plot(tensordata);"
   ]
  },
  {
   "cell_type": "markdown",
   "metadata": {
    "id": "_AN2YU0SLO79"
   },
   "source": [
    "## 1.2 Train-test split\n",
    "There seems to be some pattern. But also a lot of noise. We need to take this into account for our final model: it might be hard to get very high accuracy, because we dont have any additional features (could you think of possible relevant features?).\n",
    "\n",
    "So let's make a train-test split, and normalize on the trainset. Note that we split on past-future! (Why is this important?)"
   ]
  },
  {
   "cell_type": "code",
   "execution_count": 5,
   "metadata": {
    "colab": {
     "base_uri": "https://localhost:8080/",
     "height": 282
    },
    "id": "R6HDt5OwLO79",
    "outputId": "cdaba7ce-fe61-479b-fc38-ff85e00ab39e"
   },
   "outputs": [],
   "source": [
    "# Train test split\n",
    "split = 2500\n",
    "train = tensordata[:split]\n",
    "\n",
    "norm = max(train)\n",
    "test = tensordata[split:]\n",
    "\n",
    "train = train / norm\n",
    "test = test/ norm"
   ]
  },
  {
   "cell_type": "markdown",
   "metadata": {},
   "source": [
    "What would go wrong if you normalize on the max of the testset?"
   ]
  },
  {
   "cell_type": "code",
   "execution_count": 7,
   "metadata": {},
   "outputs": [
    {
     "data": {
      "text/plain": [
       "[<matplotlib.lines.Line2D at 0x165ecde20>]"
      ]
     },
     "execution_count": 7,
     "metadata": {},
     "output_type": "execute_result"
    },
    {
     "data": {
      "image/png": "[encoded data removed]",
      "text/plain": [
       "<Figure size 432x288 with 2 Axes>"
      ]
     },
     "metadata": {},
     "output_type": "display_data"
    }
   ],
   "source": [
    "# reduce steps back to months, starting in 1749\n",
    "idx0 = torch.arange(0, len(train)) / 12 + 1749\n",
    "idx1 = torch.arange(0, len(test)) / 12 + idx0.max()\n",
    "fig, axs = plt.subplots(2, sharex=True)\n",
    "axs[0].plot(idx0, train)\n",
    "axs[1].plot(idx1,test)"
   ]
  },
  {
   "cell_type": "markdown",
   "metadata": {
    "id": "QBWX872lLO7-"
   },
   "source": [
    "## 1.3 Windowing\n",
    "\n",
    "Now, let's use our windowed datagenerator.\n",
    "\n",
    "Regarding the windowsize, we will have to ask ourselves: what is a reasonable time, we will need to look into the past to be able to predict the future? If we make it too long, we will get irrelevant data (eg, does the amount of sunspots a hundred years still impact significantly the sunspots in 2020? If you think so, you should increase your window by a lot!)"
   ]
  },
  {
   "cell_type": "code",
   "execution_count": 8,
   "metadata": {},
   "outputs": [
    {
     "data": {
      "text/plain": [
       "(torch.Size([2475, 26]), torch.Size([755, 26]))"
      ]
     },
     "execution_count": 8,
     "metadata": {},
     "output_type": "execute_result"
    }
   ],
   "source": [
    "from src.data import data_tools\n",
    "\n",
    "window_size = 26 # this is just a wild guess. A bit over 2 years.\n",
    "idx = data_tools.window(train, window_size)\n",
    "trainset = train[idx]\n",
    "idx = data_tools.window(test, window_size)\n",
    "testset = test[idx]\n",
    "trainset.shape, testset.shape"
   ]
  },
  {
   "cell_type": "markdown",
   "metadata": {},
   "source": [
    "Ok, that is looking good. We squeezed out 2475 training examples out of this long, single timeseries.\n",
    "\n",
    "## 1.4 A custom dataset\n",
    "\n",
    "Let's make the data 3D, just as our timeseries model will need to have it. We just have one feature, so that is just a dimension of 1."
   ]
  },
  {
   "cell_type": "code",
   "execution_count": 9,
   "metadata": {},
   "outputs": [],
   "source": [
    "from torch.utils.data import DataLoader\n",
    "trainset = trainset[...,None]\n",
    "testset = testset[..., None]"
   ]
  },
  {
   "cell_type": "markdown",
   "metadata": {},
   "source": [
    "We can implement a Dataset in PyTorch. We can inherit the `Dataset` class, and if we implement a `__len__` and `__getitem__` function, we are good."
   ]
  },
  {
   "cell_type": "code",
   "execution_count": 53,
   "metadata": {},
   "outputs": [],
   "source": [
    "from torch.utils.data import Dataset\n",
    "class CustomDataset(Dataset):\n",
    "    def __init__(self, data, horizon):\n",
    "        self.data = data\n",
    "        self.size = len(data)\n",
    "        self.horizon = horizon\n",
    "    \n",
    "    def __len__(self):\n",
    "        return self.size\n",
    "    \n",
    "    def __getitem__(self, idx):\n",
    "        # get a single item\n",
    "        item = self.data[idx]\n",
    "        # slice off the horizon\n",
    "        x = item[:-self.horizon,:]\n",
    "        y = item[-self.horizon:,:].squeeze(-1) # squeeze will remove dimension -1 if possible.\n",
    "        return x, y"
   ]
  },
  {
   "cell_type": "markdown",
   "metadata": {},
   "source": [
    "Let us test if this works as expected"
   ]
  },
  {
   "cell_type": "code",
   "execution_count": 54,
   "metadata": {},
   "outputs": [
    {
     "data": {
      "text/plain": [
       "100"
      ]
     },
     "execution_count": 54,
     "metadata": {},
     "output_type": "execute_result"
    }
   ],
   "source": [
    "dummydata = torch.randint(0, 10, (100, 10, 2))\n",
    "dummydataset = CustomDataset(dummydata, horizon=2)\n",
    "len(dummydataset)"
   ]
  },
  {
   "cell_type": "code",
   "execution_count": 57,
   "metadata": {},
   "outputs": [
    {
     "data": {
      "text/plain": [
       "(torch.Size([8, 2]), torch.Size([2, 2]))"
      ]
     },
     "execution_count": 57,
     "metadata": {},
     "output_type": "execute_result"
    }
   ],
   "source": [
    "x, y = dummydataset[0]\n",
    "x.shape, y.shape # no squeeze because we have dimension 2 as the last dimension"
   ]
  },
  {
   "cell_type": "markdown",
   "metadata": {},
   "source": [
    "Ok, now we apply this on the trainset."
   ]
  },
  {
   "cell_type": "code",
   "execution_count": 58,
   "metadata": {},
   "outputs": [
    {
     "data": {
      "text/plain": [
       "torch.Size([2475, 26, 1])"
      ]
     },
     "execution_count": 58,
     "metadata": {},
     "output_type": "execute_result"
    }
   ],
   "source": [
    "trainset.shape"
   ]
  },
  {
   "cell_type": "code",
   "execution_count": 59,
   "metadata": {},
   "outputs": [],
   "source": [
    "horizon = 3\n",
    "traindataset = CustomDataset(trainset, horizon=horizon)\n",
    "testdataset = CustomDataset(testset, horizon=horizon)"
   ]
  },
  {
   "cell_type": "code",
   "execution_count": 60,
   "metadata": {},
   "outputs": [
    {
     "data": {
      "text/plain": [
       "(torch.Size([23, 1]), torch.Size([3]))"
      ]
     },
     "execution_count": 60,
     "metadata": {},
     "output_type": "execute_result"
    }
   ],
   "source": [
    "x, y = traindataset[1]\n",
    "x.shape, y.shape # here we see the squeeze happening"
   ]
  },
  {
   "cell_type": "markdown",
   "metadata": {},
   "source": [
    "## 1.5 A Dataloader\n",
    "This seems to work as well. Now we can give this to a Dataloader to batch and shuffle it for us."
   ]
  },
  {
   "cell_type": "code",
   "execution_count": 61,
   "metadata": {},
   "outputs": [],
   "source": [
    "trainloader = DataLoader(traindataset, batch_size=32, shuffle=True)\n",
    "testloader = DataLoader(testdataset, batch_size=32, shuffle=True)"
   ]
  },
  {
   "cell_type": "markdown",
   "metadata": {},
   "source": [
    "Can you make sense of all the output?\n",
    "What is going on? Is that what you expected?"
   ]
  },
  {
   "cell_type": "code",
   "execution_count": 62,
   "metadata": {},
   "outputs": [
    {
     "data": {
      "text/plain": [
       "(torch.Size([32, 23, 1]), torch.Size([32, 3]))"
      ]
     },
     "execution_count": 62,
     "metadata": {},
     "output_type": "execute_result"
    }
   ],
   "source": [
    "x, y = next(iter(trainloader))\n",
    "x.shape, y.shape # here we see the squeeze in action"
   ]
  },
  {
   "cell_type": "markdown",
   "metadata": {},
   "source": [
    "What do you think these numbers are?"
   ]
  },
  {
   "cell_type": "code",
   "execution_count": 63,
   "metadata": {},
   "outputs": [
    {
     "data": {
      "text/plain": [
       "(2475, 78)"
      ]
     },
     "execution_count": 63,
     "metadata": {},
     "output_type": "execute_result"
    }
   ],
   "source": [
    "len(trainloader.dataset), len(trainloader)"
   ]
  },
  {
   "cell_type": "markdown",
   "metadata": {
    "id": "FJZ1n6GJLO7_"
   },
   "source": [
    "# 2 Exploring baseline models\n",
    "## 2.1 Naive models"
   ]
  },
  {
   "cell_type": "markdown",
   "metadata": {
    "collapsed": false
   },
   "source": [
    "The most basic prediction is a Naive model. \n",
    "\n",
    "- What is a naive prediction of the temperature for tomorrow? Well, the temperature of today.\n",
    "- The stock market for tomorrow? Same as today.\n",
    "- Bitcoin for march 16th of 2028? Same as march 15th 2028.\n",
    "\n",
    "In general, this is a super simple model without any parameters but often much better than you would expect, because the temparature of today will be close to the temperature of tomorrow.\n",
    "\n",
    "In general, you can say:\n",
    "\n",
    "$$ f: x_{t} \\rightarrow x_{t+1} $$\n",
    "\n",
    "where $f$ is just the Identity function $f(x) = x$\n",
    "\n",
    "This gives rise to the MASE, the Mean Absolute Scaled Error: It is the mean absolute error of the forecast values \n",
    "$\\frac{1}{J}\\sum_j|e_j|$, but scaled by the mean absolute error of the in-sample one-step naive forecast $|Y_t-Y_{t-1}|$:\n",
    "\n",
    "$$ MASE = \\frac{\\frac{1}{J}\\sum_j|e_j|}{\n",
    "\\frac{1}{T-1} \\sum_{t=2}^{T}|Y_t-Y_{t-1}|} $$\n",
    "\n",
    "In other words, the MASE compares your MAE to the MAE of the naive model. \n",
    "\n",
    "E.g. if the error of your model is 1, and the error of the naive model is 10, your MASE is 0.1, meaning you are much better than the naive prediction.\n",
    "\n",
    "MASE values above 1 are bad, below (ideally close to 0) is good.\n",
    "We will implement this ourselves. First the naive prediction:"
   ]
  },
  {
   "cell_type": "code",
   "execution_count": 64,
   "metadata": {},
   "outputs": [],
   "source": [
    "from typing import Tuple\n",
    "Tensor = torch.Tensor\n",
    "\n",
    "def naivepredict(x: Tensor, horizon: int) -> Tuple[Tensor, Tensor]:\n",
    "    assert horizon > 0\n",
    "    yhat = x[...,-horizon:, :].squeeze(-1)\n",
    "    return yhat"
   ]
  },
  {
   "cell_type": "code",
   "execution_count": 65,
   "metadata": {},
   "outputs": [
    {
     "data": {
      "text/plain": [
       "torch.Size([32, 3])"
      ]
     },
     "execution_count": 65,
     "metadata": {},
     "output_type": "execute_result"
    }
   ],
   "source": [
    "yhat = naivepredict(x, horizon)\n",
    "yhat.shape"
   ]
  },
  {
   "cell_type": "markdown",
   "metadata": {},
   "source": [
    "With the naive prediction, we can calculate the MAE"
   ]
  },
  {
   "cell_type": "code",
   "execution_count": 66,
   "metadata": {},
   "outputs": [],
   "source": [
    "def mae(y: Tensor, yhat: Tensor) -> Tensor:\n",
    "    return torch.mean(torch.abs(y-yhat))"
   ]
  },
  {
   "cell_type": "code",
   "execution_count": 67,
   "metadata": {},
   "outputs": [
    {
     "data": {
      "text/plain": [
       "tensor(0.0568)"
      ]
     },
     "execution_count": 67,
     "metadata": {},
     "output_type": "execute_result"
    }
   ],
   "source": [
    "mae(y, yhat)"
   ]
  },
  {
   "cell_type": "markdown",
   "metadata": {},
   "source": [
    "Now, we want to calculate the naive MAE for every batch, to get the average, expected MAE for the naive prediction"
   ]
  },
  {
   "cell_type": "code",
   "execution_count": 69,
   "metadata": {},
   "outputs": [
    {
     "data": {
      "text/plain": [
       "tensor(0.0560)"
      ]
     },
     "execution_count": 69,
     "metadata": {},
     "output_type": "execute_result"
    }
   ],
   "source": [
    "def naivenorm(dataloader: DataLoader, horizon: int):\n",
    "    elist = []\n",
    "    for x, y in dataloader:\n",
    "        yhat = naivepredict(x, horizon)\n",
    "        e = mae(y, yhat)\n",
    "        elist.append(e)\n",
    "    return torch.mean(torch.tensor(elist))\n",
    "naivenorm(trainloader, 1)"
   ]
  },
  {
   "cell_type": "markdown",
   "metadata": {},
   "source": [
    "This means, a MAE close to this number is not impressive at all. We need to get below this if we want to go beyond the naive prediction.\n",
    "We can wrap everything in a class, so it is neatly organized."
   ]
  },
  {
   "cell_type": "code",
   "execution_count": 71,
   "metadata": {},
   "outputs": [],
   "source": [
    "Tensor = torch.Tensor\n",
    "class MASE:\n",
    "    def __init__(self, dataloader: DataLoader, horizon: int):\n",
    "        self.scale = self.naivenorm(dataloader, horizon)\n",
    "    \n",
    "    def __repr__(self) -> str:\n",
    "        # __repr__ is what is returned if you print the class to the screen \n",
    "        return f\"MASE(scale={self.scale:.3f})\"\n",
    "\n",
    "    def naivenorm(self, dataloader: DataLoader, horizon: int):\n",
    "        elist = []\n",
    "        for x, y in dataloader:\n",
    "            yhat = self.naivepredict(x, horizon)\n",
    "            e = self.mae(y, yhat)\n",
    "            elist.append(e)\n",
    "        return torch.mean(torch.tensor(elist))\n",
    "    \n",
    "    def naivepredict(self, x: Tensor, horizon: int) -> Tuple[Tensor, Tensor]:\n",
    "        assert horizon > 0\n",
    "        yhat = x[...,-horizon:, :].squeeze(-1)\n",
    "        return yhat\n",
    "\n",
    "    def mae(self, y: Tensor, yhat: Tensor) -> Tensor:\n",
    "        return torch.mean(torch.abs(y-yhat))\n",
    "    \n",
    "    def __call__(self, y: Tensor, yhat: Tensor) -> Tensor:\n",
    "        # __call__ lets us call the class as a function\n",
    "        return self.mae(y, yhat) / self.scale"
   ]
  },
  {
   "cell_type": "code",
   "execution_count": 72,
   "metadata": {},
   "outputs": [
    {
     "data": {
      "text/plain": [
       "MASE(scale=0.062)"
      ]
     },
     "execution_count": 72,
     "metadata": {},
     "output_type": "execute_result"
    }
   ],
   "source": [
    "mase = MASE(trainloader, horizon)\n",
    "mase # __repr__ in action"
   ]
  },
  {
   "cell_type": "code",
   "execution_count": 73,
   "metadata": {},
   "outputs": [
    {
     "data": {
      "text/plain": [
       "tensor(0.9194)"
      ]
     },
     "execution_count": 73,
     "metadata": {},
     "output_type": "execute_result"
    }
   ],
   "source": [
    "mase(y, yhat) # __call__ in action"
   ]
  },
  {
   "cell_type": "markdown",
   "metadata": {
    "id": "0Iz-X2A8LO8A"
   },
   "source": [
    "## 2.2 Linear model\n",
    "Ok, we have everything in place. Let's start with a slightly more advanced model than a naive one.\n",
    "\n",
    "We start with a linear baselinemodel, of just a single `Linear` layer with one unit. This is equal to a linear model.\n",
    "\n",
    "Check out the sourcecode (tip: VS code let's you do so easily by pressing F12, or by right-clicking the mouse on a function and selecting `Go to Definition`)"
   ]
  },
  {
   "cell_type": "code",
   "execution_count": 75,
   "metadata": {},
   "outputs": [
    {
     "data": {
      "text/plain": [
       "(torch.Size([32, 23, 1]), torch.Size([32, 3]))"
      ]
     },
     "execution_count": 75,
     "metadata": {},
     "output_type": "execute_result"
    }
   ],
   "source": [
    "from src.models import rnn_models, metrics\n",
    "observations = window_size - horizon\n",
    "model = rnn_models.BaseModel(observations=observations, horizon=horizon)\n",
    "x, y = next(iter(trainloader))\n",
    "x.shape, y.shape"
   ]
  },
  {
   "cell_type": "markdown",
   "metadata": {},
   "source": [
    "Let's have a look at our random model"
   ]
  },
  {
   "cell_type": "code",
   "execution_count": 76,
   "metadata": {},
   "outputs": [
    {
     "data": {
      "text/plain": [
       "torch.Size([32, 3])"
      ]
     },
     "execution_count": 76,
     "metadata": {},
     "output_type": "execute_result"
    }
   ],
   "source": [
    "yhat = model(x)\n",
    "yhat.shape"
   ]
  },
  {
   "cell_type": "code",
   "execution_count": 78,
   "metadata": {},
   "outputs": [
    {
     "data": {
      "text/plain": [
       "tensor(6.1203, grad_fn=<DivBackward0>)"
      ]
     },
     "execution_count": 78,
     "metadata": {},
     "output_type": "execute_result"
    }
   ],
   "source": [
    "mase = metrics.MASE(trainloader, horizon)\n",
    "mase(y, yhat)"
   ]
  },
  {
   "cell_type": "markdown",
   "metadata": {},
   "source": [
    "Oh boy! Untrained, this is actually much much worse than a naive model... Let's start training...\n",
    "\n",
    "First, we add a regular MAE too."
   ]
  },
  {
   "cell_type": "code",
   "execution_count": 79,
   "metadata": {},
   "outputs": [
    {
     "data": {
      "text/plain": [
       "tensor(0.3786, grad_fn=<MeanBackward0>)"
      ]
     },
     "execution_count": 79,
     "metadata": {},
     "output_type": "execute_result"
    }
   ],
   "source": [
    "mae = metrics.MAE()\n",
    "mae(yhat, y)"
   ]
  },
  {
   "cell_type": "code",
   "execution_count": 80,
   "metadata": {},
   "outputs": [
    {
     "name": "stderr",
     "output_type": "stream",
     "text": [
      "2022-05-13 14:21:22.825 | INFO     | src.data.data_tools:clean_dir:167 - Clean out ../../models/rnn/20220513-1421\n",
      "100%|██████████| 200/200 [00:12<00:00, 16.08it/s]\n"
     ]
    }
   ],
   "source": [
    "from datetime import datetime\n",
    "from pathlib import Path\n",
    "gin.parse_config_file(\"model.gin\")\n",
    "\n",
    "timestamp = datetime.now().strftime(\"%Y%m%d-%H%M\")\n",
    "log_dir = Path(\"../../models/rnn/\" + timestamp)\n",
    "if not log_dir.exists():\n",
    "    log_dir.mkdir(parents=True)\n",
    "\n",
    "observations = window_size - horizon\n",
    "model = rnn_models.BaseModel(observations=observations, horizon=horizon)\n",
    "\n",
    "model = rnn_models.trainloop(\n",
    "    model=model,\n",
    "    metrics=[mase, mae],\n",
    "    train_dataloader=trainloader,\n",
    "    test_dataloader=testloader,\n",
    "    log_dir=log_dir,\n",
    ")\n"
   ]
  },
  {
   "cell_type": "markdown",
   "metadata": {},
   "source": [
    "If you have a look at Tensorboard, you can see the model is learning!"
   ]
  },
  {
   "cell_type": "code",
   "execution_count": 81,
   "metadata": {},
   "outputs": [
    {
     "data": {
      "text/plain": [
       "(tensor(0.0485, grad_fn=<MeanBackward0>),\n",
       " tensor(0.7840, grad_fn=<DivBackward0>))"
      ]
     },
     "execution_count": 81,
     "metadata": {},
     "output_type": "execute_result"
    }
   ],
   "source": [
    "x, y = next(iter(testloader))\n",
    "yhat = model(x)\n",
    "mae(y, yhat), mase(y, yhat)"
   ]
  },
  {
   "cell_type": "markdown",
   "metadata": {},
   "source": [
    "And, yes, the MASE dropped below 1! This is a good start.\n",
    "\n",
    "Let's visualize this."
   ]
  },
  {
   "cell_type": "code",
   "execution_count": 82,
   "metadata": {},
   "outputs": [
    {
     "data": {
      "text/plain": [
       "<matplotlib.legend.Legend at 0x167663fa0>"
      ]
     },
     "execution_count": 82,
     "metadata": {},
     "output_type": "execute_result"
    },
    {
     "data": {
      "image/png": "[encoded data removed]",
      "text/plain": [
       "<Figure size 720x720 with 4 Axes>"
      ]
     },
     "metadata": {},
     "output_type": "display_data"
    }
   ],
   "source": [
    "k = 4\n",
    "fig, ax = plt.subplots(2, 2, figsize=(10, 10))\n",
    "axs = ax.ravel()\n",
    "\n",
    "timesteps = x.shape[1]\n",
    "idx0 = [*range(timesteps)]\n",
    "idx1 = [(i + timesteps) for i in range(horizon)]\n",
    "for i in range(k):\n",
    "    axs[i].plot(idx0, x[i])\n",
    "    axs[i].plot(idx1, yhat[i].detach(), color=\"red\", label=\"predict\")\n",
    "    axs[i].plot(idx1, y[i], color=\"green\", label=\"actual\")\n",
    "handles, labels = axs[i].get_legend_handles_labels()\n",
    "fig.legend(handles, labels)"
   ]
  },
  {
   "cell_type": "markdown",
   "metadata": {},
   "source": [
    "Well, it is not perfect, obviously. But it does seem to capture the trend."
   ]
  },
  {
   "cell_type": "markdown",
   "metadata": {
    "id": "bv7UFcltLO8E"
   },
   "source": [
    "## 2.3 Simple RNN"
   ]
  },
  {
   "cell_type": "markdown",
   "metadata": {},
   "source": [
    "Let's invoke the basic RNN without gates.\n",
    "\n",
    "Input size is 1, because we have 1 feature. We follow [the batch_first convention](https://pytorch.org/docs/stable/generated/torch.nn.RNN.html). Hidden size is the inner dimension of the RNN, and thus the dimensionality of the output.\n",
    "\n",
    "What would happen if we feed this data with dimensions `(batch, sequence_length)`?"
   ]
  },
  {
   "cell_type": "code",
   "execution_count": 86,
   "metadata": {},
   "outputs": [
    {
     "name": "stdout",
     "output_type": "stream",
     "text": [
      "input must have 3 dimensions, got 2\n"
     ]
    }
   ],
   "source": [
    "x = torch.randn((32, 25))\n",
    "rnn = torch.nn.RNN(input_size=1, hidden_size=1, batch_first=True)\n",
    "try:\n",
    "    yhat = rnn(x)\n",
    "except RuntimeError as e:\n",
    "    print(e)"
   ]
  },
  {
   "cell_type": "markdown",
   "metadata": {},
   "source": [
    "Note how it expects 3 dimensions : `(batch, sequence_length, features)`, even though we have just one feature."
   ]
  },
  {
   "cell_type": "code",
   "execution_count": 87,
   "metadata": {},
   "outputs": [
    {
     "data": {
      "text/plain": [
       "(torch.Size([32, 23, 1]), torch.Size([32, 3]))"
      ]
     },
     "execution_count": 87,
     "metadata": {},
     "output_type": "execute_result"
    }
   ],
   "source": [
    "x, y = next(iter(trainloader))\n",
    "x.shape, y.shape"
   ]
  },
  {
   "cell_type": "code",
   "execution_count": 88,
   "metadata": {},
   "outputs": [
    {
     "data": {
      "text/plain": [
       "(torch.Size([32, 23, 1]), torch.Size([1, 32, 1]))"
      ]
     },
     "execution_count": 88,
     "metadata": {},
     "output_type": "execute_result"
    }
   ],
   "source": [
    "out, hidden = rnn(x)\n",
    "out.shape, hidden.shape"
   ]
  },
  {
   "cell_type": "markdown",
   "metadata": {},
   "source": [
    "This works as expected. Let's increase the hidden dimension (why would you do that?)"
   ]
  },
  {
   "cell_type": "code",
   "execution_count": 89,
   "metadata": {},
   "outputs": [
    {
     "data": {
      "text/plain": [
       "(torch.Size([32, 23, 10]), torch.Size([1, 32, 10]))"
      ]
     },
     "execution_count": 89,
     "metadata": {},
     "output_type": "execute_result"
    }
   ],
   "source": [
    "rnn = torch.nn.RNN(input_size=1, hidden_size=10, batch_first=True)\n",
    "out, hidden = rnn(x)\n",
    "out.shape, hidden.shape"
   ]
  },
  {
   "cell_type": "markdown",
   "metadata": {},
   "source": [
    "And let's add multiple stacked layers of RNN (can you visualize how this would work?)"
   ]
  },
  {
   "cell_type": "code",
   "execution_count": 90,
   "metadata": {},
   "outputs": [
    {
     "data": {
      "text/plain": [
       "(torch.Size([32, 23, 10]), torch.Size([3, 32, 10]))"
      ]
     },
     "execution_count": 90,
     "metadata": {},
     "output_type": "execute_result"
    }
   ],
   "source": [
    "rnn = torch.nn.RNN(\n",
    "    input_size=1,\n",
    "    hidden_size=10,\n",
    "    num_layers=3,\n",
    "    batch_first=True)\n",
    "out, hidden = rnn(x)\n",
    "out.shape, hidden.shape"
   ]
  },
  {
   "cell_type": "markdown",
   "metadata": {},
   "source": [
    "To get the output of the last timestep, we need to throw away the rest."
   ]
  },
  {
   "cell_type": "code",
   "execution_count": 91,
   "metadata": {},
   "outputs": [
    {
     "data": {
      "text/plain": [
       "torch.Size([32, 10])"
      ]
     },
     "execution_count": 91,
     "metadata": {},
     "output_type": "execute_result"
    }
   ],
   "source": [
    "out = out[:,-1,:]\n",
    "out.shape"
   ]
  },
  {
   "cell_type": "markdown",
   "metadata": {},
   "source": [
    "So, let's wrap this up in a model. Study the implementation in `rnn_models.BaseRNN`.\n",
    "\n",
    "Do you understand what the linear layer does? What would happen if you remove it?"
   ]
  },
  {
   "cell_type": "code",
   "execution_count": 92,
   "metadata": {},
   "outputs": [],
   "source": [
    "from src.models import metrics, rnn_models\n",
    "\n",
    "mase = metrics.MASE(trainloader, horizon)\n",
    "mae = metrics.MAE()"
   ]
  },
  {
   "cell_type": "code",
   "execution_count": 93,
   "metadata": {},
   "outputs": [
    {
     "name": "stderr",
     "output_type": "stream",
     "text": [
      "2022-05-13 14:33:47.779 | INFO     | src.data.data_tools:clean_dir:167 - Clean out ../../models/rnn/20220513-1433\n",
      "100%|██████████| 200/200 [00:38<00:00,  5.21it/s]\n"
     ]
    }
   ],
   "source": [
    "gin.parse_config_file(\"model.gin\")\n",
    "timestamp = datetime.now().strftime(\"%Y%m%d-%H%M\")\n",
    "log_dir = Path(\"../../models/rnn/\" + timestamp)\n",
    "if not log_dir.exists():\n",
    "    log_dir.mkdir(parents=True)\n",
    "\n",
    "observations = window_size - horizon\n",
    "model = rnn_models.BaseRNN(horizon=horizon)\n",
    "\n",
    "model = rnn_models.trainloop(\n",
    "    model=model,\n",
    "    metrics=[mase, mae],\n",
    "    train_dataloader=trainloader,\n",
    "    test_dataloader=testloader,\n",
    "    log_dir=log_dir,\n",
    ")"
   ]
  },
  {
   "cell_type": "markdown",
   "metadata": {},
   "source": [
    "Does this improve over the linear model?\n",
    "By how much? Is there a difference between loss and MASE? \n",
    "\n",
    "What does it mean?\n",
    "\n",
    "Can you improve the model by tweaking it?"
   ]
  }
 ],
 "metadata": {
  "accelerator": "GPU",
  "colab": {
   "collapsed_sections": [],
   "name": "timeseries.ipynb",
   "provenance": []
  },
  "interpreter": {
   "hash": "a15911aab0965639e9482f052beb89e7ca291bb3f153727c5758e3fe9ad1321e"
  },
  "kernelspec": {
   "display_name": "Python 3.8.13 ('deep-learning-xB8KIJr7-py3.9')",
   "language": "python",
   "name": "python3"
  },
  "language_info": {
   "codemirror_mode": {
    "name": "ipython",
    "version": 3
   },
   "file_extension": ".py",
   "mimetype": "text/x-python",
   "name": "python",
   "nbconvert_exporter": "python",
   "pygments_lexer": "ipython3",
   "version": "3.8.13"
  }
 },
 "nbformat": 4,
 "nbformat_minor": 0
}
