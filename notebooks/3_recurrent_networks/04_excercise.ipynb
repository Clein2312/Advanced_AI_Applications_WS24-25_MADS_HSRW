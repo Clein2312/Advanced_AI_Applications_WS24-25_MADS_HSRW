{
 "cells": [
  {
   "cell_type": "code",
   "execution_count": 1,
   "metadata": {},
   "outputs": [],
   "source": [
    "import sys\n",
    "sys.path.insert(0, \"../..\")\n",
    "from src.data import data_tools\n",
    "from pathlib import Path\n",
    "import gin\n",
    "import numpy as np\n",
    "import torch\n",
    "from typing import List\n",
    "from torch.nn.utils.rnn import pad_sequence\n",
    "from src.models import rnn_models, train_model\n"
   ]
  },
  {
   "attachments": {},
   "cell_type": "markdown",
   "metadata": {},
   "source": [
    "# 1 Iterators\n",
    "We will be using an interesting dataset. [link](https://tev.fbk.eu/resources/smartwatch)\n",
    "\n",
    "From the site:\n",
    "> The SmartWatch Gestures Dataset has been collected to evaluate several gesture recognition algorithms for interacting with mobile applications using arm gestures. Eight different users performed twenty repetitions of twenty different gestures, for a total of 3200 sequences. Each sequence contains acceleration data from the 3-axis accelerometer of a first generation Sony SmartWatch™, as well as timestamps from the different clock sources available on an Android device. The smartwatch was worn on the user's right wrist. \n",
    "\n",
    "# 1.1 Iterator design pattern\n",
    "This is a nice opportunity to create our own custom iterator. First, let's look at the simplified design pattern for an iterator.\n",
    "This introduces two additional dunder methods, used in forloops."
   ]
  },
  {
   "cell_type": "code",
   "execution_count": 2,
   "metadata": {},
   "outputs": [
    {
     "name": "stdout",
     "output_type": "stream",
     "text": [
      "0\n",
      "1\n",
      "2\n",
      "3\n",
      "4\n"
     ]
    }
   ],
   "source": [
    "class BaseIterator:\n",
    "  def __init__(self, n: int):\n",
    "    self.n = n\n",
    "    # we generate some dummy data\n",
    "    self.data = [*range(self.n)]\n",
    "\n",
    "  def __iter__(self):\n",
    "    # startindex; this makes the first index used effectively 0,\n",
    "    # because -1 is smaller than the dataset so the first\n",
    "    # thing that will happen in __next__ is to add +1\n",
    "    self.idx = -1\n",
    "    # we return the full object when iter() is called\n",
    "    return self\n",
    "\n",
    "  def __next__(self):\n",
    "    # for every iteration, __next__ is called\n",
    "    # as long as the idx is not bigger than the data\n",
    "    # we need to do -1, because we will increase idx directly after this\n",
    "    if self.idx < len(self.data) - 1:\n",
    "      self.idx += 1\n",
    "      return self.data[self.idx]\n",
    "    else:\n",
    "      raise StopIteration\n",
    "\n",
    "myclass = BaseIterator(n=5)\n",
    "myiter = iter(myclass) # this calles the __iter__ method and sets idx to -1\n",
    "\n",
    "for x in myiter: # this calls the __next__ method\n",
    "  print(x)"
   ]
  },
  {
   "attachments": {},
   "cell_type": "markdown",
   "metadata": {},
   "source": [
    "Note how `__iter__` returns `self` with the startsettings (`idx=-1`).\n",
    "Every time we call `__next__`, (implicitly in a forloop or explicitly with `next()`) the idx is increased by +1.\n",
    "\n",
    "If you keep calling `next()`, you will eventually get a `StopIteration` error but a forloop will wait for that and stop the loop gracefully.\n",
    "\n",
    "## 1.2 Iterator implementation\n",
    "Now, we extend this pattern to our dataset. We will use what we have seen before with the images (lesson 1, 02_datagenerators.ipynb and 03_dataloader.ipynb): we load the paths, and use these to generate the data."
   ]
  },
  {
   "cell_type": "code",
   "execution_count": 3,
   "metadata": {},
   "outputs": [],
   "source": [
    "from __future__ import annotations\n",
    "from typing import Tuple\n",
    "from tqdm import tqdm\n",
    "import random\n",
    "Tensor = torch.Tensor\n",
    "\n",
    "# the base dataset that provides the boilerplate code\n",
    "class BaseDataset:\n",
    "    def __init__(self, paths: List[Path]) -> None:\n",
    "        self.paths = paths\n",
    "        random.shuffle(self.paths)\n",
    "        self.dataset = []\n",
    "        self.process_data()\n",
    "\n",
    "    def process_data(self) -> None:\n",
    "        # this needs to be implemented if you want to use the BaseDataset\n",
    "        raise NotImplementedError\n",
    "\n",
    "    def __len__(self) -> int:\n",
    "        return len(self.dataset)\n",
    "\n",
    "    def __getitem__(self, idx: int) -> Tuple[Tensor, int]:\n",
    "        return self.dataset[idx]\n",
    "\n",
    "# the TSDataset, that inherits all the boilerplate code\n",
    "# and implements a process_data method for this dataset\n",
    "class TSDataset(BaseDataset):\n",
    "    # this is called inheritance.\n",
    "    # we get all the methods from the BaseDataset for free\n",
    "    # Only thing we need to do is implement the process_data method\n",
    "    def process_data(self) -> None:\n",
    "        for file in tqdm(self.paths):\n",
    "            x_ = np.genfromtxt(file)[:, 3:]\n",
    "            x = torch.tensor(x_).type(torch.float32)\n",
    "            y = torch.tensor(int(file.parent.name) - 1)\n",
    "            self.dataset.append((x, y))"
   ]
  },
  {
   "cell_type": "code",
   "execution_count": 4,
   "metadata": {},
   "outputs": [],
   "source": [
    "class BaseDataIterator:\n",
    "    def __init__(self, dataset: BaseDataset, batchsize: int):\n",
    "        self.dataset = dataset\n",
    "        self.batchsize = batchsize\n",
    "\n",
    "    def __len__(self) -> int:\n",
    "        # the lenght is the amount of batches\n",
    "        return int(len(self.dataset) / self.batchsize)\n",
    "\n",
    "    def __iter__(self) -> BaseDataIterator:\n",
    "        # initialize index\n",
    "        self.index = 0\n",
    "        self.index_list = torch.randperm(len(self.dataset))\n",
    "        return self\n",
    "    \n",
    "    def batchloop(self) -> Tuple[Tensor, Tensor]:\n",
    "        X = []  # noqa N806\n",
    "        Y = []  # noqa N806\n",
    "        # fill the batch\n",
    "        for _ in range(self.batchsize):\n",
    "            # the design trick with the index_list and index allows us to shuffle the\n",
    "            # index_list every time we call __iter__\n",
    "            # withouth shuffling the actual data\n",
    "            x, y = self.dataset[int(self.index_list[self.index])]\n",
    "            X.append(x)\n",
    "            Y.append(y)\n",
    "            # the index will signal the end of the dataset in the __next__ method \n",
    "            self.index += 1\n",
    "        return X, Y\n",
    "\n",
    "    def __next__(self) -> Tuple[Tensor, Tensor]:\n",
    "        if self.index <= (len(self.dataset) - self.batchsize):\n",
    "            # this stops the iteration just before the index\n",
    "            # would reach the end of the length of the dataset\n",
    "            X, Y = self.batchloop()\n",
    "            return X, Y\n",
    "        else:\n",
    "            raise StopIteration\n",
    "\n",
    "\n",
    "class PaddedDatagenerator(BaseDataIterator):\n",
    "    # again, we inherit everything from the baseclass\n",
    "    def __init__(self, dataset: BaseDataset, batchsize: int) -> None:\n",
    "        # we initialize the super class BaseDataIterator\n",
    "        # we now have everything the BaseDataIterator can do, for free\n",
    "        super().__init__(dataset, batchsize)\n",
    "    \n",
    "    def __next__(self) -> Tuple[Tensor, Tensor]:\n",
    "        if self.index <= (len(self.dataset) - self.batchsize):\n",
    "            X, Y = self.batchloop()\n",
    "            # we just want to add padding\n",
    "            X_ = pad_sequence(X, batch_first=True, padding_value=0)  # noqa N806\n",
    "            return X_, torch.tensor(Y)\n",
    "        else:\n",
    "            raise StopIteration"
   ]
  },
  {
   "attachments": {},
   "cell_type": "markdown",
   "metadata": {},
   "source": [
    "The main difference with the pattern we used before, is that this pattern will stop after the last item is spit out.\n",
    "The generator from the first lesson will go on forever, due to the `while True` loop.\n",
    "\n",
    "## 1.3 Train-test"
   ]
  },
  {
   "cell_type": "code",
   "execution_count": 5,
   "metadata": {},
   "outputs": [],
   "source": [
    "data_dir = Path(\"../../data/external/gestures-dataset/\").resolve()\n",
    "\n",
    "# get all paths with the .txt extension\n",
    "formats = [\".txt\"]\n",
    "paths = [path for path in data_tools.walk_dir(data_dir) if path.suffix in formats]\n",
    "# make a train-test split\n",
    "split = 0.8\n",
    "idx = int(len(paths) * split)\n",
    "trainpaths = paths[:idx]\n",
    "testpaths = paths[idx:]"
   ]
  },
  {
   "cell_type": "code",
   "execution_count": 6,
   "metadata": {},
   "outputs": [
    {
     "name": "stderr",
     "output_type": "stream",
     "text": [
      "100%|██████████| 2600/2600 [00:02<00:00, 1011.89it/s]\n",
      "100%|██████████| 651/651 [00:00<00:00, 964.64it/s]\n"
     ]
    }
   ],
   "source": [
    "traindataset = TSDataset(trainpaths)\n",
    "testdataset = TSDataset(testpaths)"
   ]
  },
  {
   "cell_type": "code",
   "execution_count": 7,
   "metadata": {},
   "outputs": [],
   "source": [
    "batchsize = 32\n",
    "trainloader = PaddedDatagenerator(traindataset, batchsize=batchsize)\n",
    "testloader = PaddedDatagenerator(testdataset, batchsize=batchsize)"
   ]
  },
  {
   "cell_type": "code",
   "execution_count": 8,
   "metadata": {},
   "outputs": [
    {
     "data": {
      "text/plain": [
       "(torch.Size([18, 3]), tensor(16))"
      ]
     },
     "execution_count": 8,
     "metadata": {},
     "output_type": "execute_result"
    }
   ],
   "source": [
    "x, y = traindataset[1]\n",
    "x.shape, y"
   ]
  },
  {
   "cell_type": "code",
   "execution_count": 9,
   "metadata": {},
   "outputs": [
    {
     "data": {
      "text/plain": [
       "(2600, 81, 651, 20)"
      ]
     },
     "execution_count": 9,
     "metadata": {},
     "output_type": "execute_result"
    }
   ],
   "source": [
    "len(traindataset), len(trainloader), len(testdataset), len(testloader)"
   ]
  },
  {
   "attachments": {},
   "cell_type": "markdown",
   "metadata": {},
   "source": [
    "What does the lenght mean?"
   ]
  },
  {
   "cell_type": "code",
   "execution_count": 10,
   "metadata": {},
   "outputs": [
    {
     "data": {
      "text/plain": [
       "(torch.Size([32, 31, 3]), torch.Size([32]))"
      ]
     },
     "execution_count": 10,
     "metadata": {},
     "output_type": "execute_result"
    }
   ],
   "source": [
    "x, y = next(iter(trainloader))\n",
    "x.shape, y.shape"
   ]
  },
  {
   "attachments": {},
   "cell_type": "markdown",
   "metadata": {},
   "source": [
    "Can you make sense of the shape?\n",
    "What does it mean that the shapes are sometimes (32, 27, 3), but a second time might look like (32, 30, 3)? In other words, the second (or first, if you insist on starting at 0) dimension changes. Why is that? How does the model handle this? Do you think this is already padded, or still has to be padded?\n",
    "\n",
    "\n",
    "# 2 Excercises\n",
    "Lets test a basemodel, and try to improve upon that.\n",
    "\n",
    "Fill the gestures.gin file with relevant settings for `input_size`, `hidden_size`, `num_layers` and `horizon` (which, in our case, will be the number of classes...)\n",
    "\n",
    "As a rule of thumbs: start lower than you expect to need!"
   ]
  },
  {
   "cell_type": "code",
   "execution_count": 11,
   "metadata": {},
   "outputs": [],
   "source": [
    "gin.parse_config_file(\"gestures.gin\")\n",
    "model = rnn_models.BaseRNN()"
   ]
  },
  {
   "cell_type": "code",
   "execution_count": 12,
   "metadata": {},
   "outputs": [
    {
     "data": {
      "text/plain": [
       "{'input_size': 3, 'hidden_size': 128, 'num_layers': 3, 'horizon': 20}"
      ]
     },
     "execution_count": 12,
     "metadata": {},
     "output_type": "execute_result"
    }
   ],
   "source": [
    "gin.get_bindings(\"BaseRNN\")"
   ]
  },
  {
   "cell_type": "code",
   "execution_count": 13,
   "metadata": {},
   "outputs": [
    {
     "data": {
      "text/plain": [
       "{'epochs': 10,\n",
       " 'learning_rate': 0.001,\n",
       " 'optimizer': torch.optim.adam.Adam,\n",
       " 'loss_fn': CrossEntropyLoss()}"
      ]
     },
     "execution_count": 13,
     "metadata": {},
     "output_type": "execute_result"
    }
   ],
   "source": [
    "gin.get_bindings(\"trainloop\")"
   ]
  },
  {
   "attachments": {},
   "cell_type": "markdown",
   "metadata": {},
   "source": [
    "Test the model. What is the output shape you need? Remember, we are doing classification!"
   ]
  },
  {
   "cell_type": "code",
   "execution_count": 14,
   "metadata": {},
   "outputs": [
    {
     "data": {
      "text/plain": [
       "torch.Size([32, 20])"
      ]
     },
     "execution_count": 14,
     "metadata": {},
     "output_type": "execute_result"
    }
   ],
   "source": [
    "yhat = model(x)\n",
    "yhat.shape"
   ]
  },
  {
   "attachments": {},
   "cell_type": "markdown",
   "metadata": {},
   "source": [
    "Test the accuracy"
   ]
  },
  {
   "cell_type": "code",
   "execution_count": 15,
   "metadata": {},
   "outputs": [
    {
     "data": {
      "text/plain": [
       "tensor(0.0312)"
      ]
     },
     "execution_count": 15,
     "metadata": {},
     "output_type": "execute_result"
    }
   ],
   "source": [
    "from src.models import metrics\n",
    "\n",
    "accuracy = metrics.Accuracy()\n",
    "accuracy(y, yhat)"
   ]
  },
  {
   "attachments": {},
   "cell_type": "markdown",
   "metadata": {},
   "source": [
    "What do you think of the accuracy? What would you expect from blind guessing?\n",
    "\n",
    "Check shape of `y` and `yhat`"
   ]
  },
  {
   "cell_type": "code",
   "execution_count": 16,
   "metadata": {},
   "outputs": [
    {
     "data": {
      "text/plain": [
       "(torch.Size([32, 20]), torch.Size([32]))"
      ]
     },
     "execution_count": 16,
     "metadata": {},
     "output_type": "execute_result"
    }
   ],
   "source": [
    "yhat.shape, y.shape"
   ]
  },
  {
   "attachments": {},
   "cell_type": "markdown",
   "metadata": {},
   "source": [
    "And look at the output of yhat"
   ]
  },
  {
   "cell_type": "code",
   "execution_count": 17,
   "metadata": {},
   "outputs": [
    {
     "data": {
      "text/plain": [
       "tensor([ 0.0724, -0.0026,  0.1050, -0.0755, -0.0604,  0.1324,  0.0867,  0.0937,\n",
       "        -0.0809,  0.1048, -0.0360, -0.0919,  0.0910,  0.1571,  0.1225,  0.0232,\n",
       "         0.0923,  0.0434,  0.0732,  0.1856], grad_fn=<SelectBackward0>)"
      ]
     },
     "execution_count": 17,
     "metadata": {},
     "output_type": "execute_result"
    }
   ],
   "source": [
    "yhat[0]"
   ]
  },
  {
   "attachments": {},
   "cell_type": "markdown",
   "metadata": {},
   "source": [
    "Does this make sense to you? If you are unclear, go back to the classification problem with the MNIST, where we had 10 classes.\n",
    "\n",
    "We have a classification problem, so we need Cross Entropy Loss.\n",
    "Remember, [this has a softmax built in](https://pytorch.org/docs/stable/generated/torch.nn.CrossEntropyLoss.html) "
   ]
  },
  {
   "cell_type": "code",
   "execution_count": 18,
   "metadata": {},
   "outputs": [
    {
     "data": {
      "text/plain": [
       "tensor(2.9970, grad_fn=<NllLossBackward0>)"
      ]
     },
     "execution_count": 18,
     "metadata": {},
     "output_type": "execute_result"
    }
   ],
   "source": [
    "loss_fn = torch.nn.CrossEntropyLoss()\n",
    "loss = loss_fn(yhat, y)\n",
    "accuracy = metrics.Accuracy()\n",
    "loss"
   ]
  },
  {
   "cell_type": "code",
   "execution_count": 35,
   "metadata": {},
   "outputs": [
    {
     "name": "stderr",
     "output_type": "stream",
     "text": [
      "2023-05-22 13:08:13.003 | INFO     | src.data.data_tools:dir_add_timestamp:129 - Logging to modellog/20230522-1308\n",
      "100%|\u001b[38;2;30;71;6m██████████\u001b[0m| 81/81 [00:05<00:00, 13.77it/s]\n",
      "2023-05-22 13:08:19.502 | INFO     | src.models.train_model:trainloop:186 - Epoch 0 train 2.5363 test 2.2365 metric ['0.2047']\n",
      "2023-05-22 13:08:19.502 | INFO     | src.models.train_model:save_checkpoint:297 - Validation loss (2.236506 --> 2.236506). Saving modellog/20230522-1308/checkpoint.pt ...\n",
      "100%|\u001b[38;2;30;71;6m██████████\u001b[0m| 81/81 [00:05<00:00, 14.93it/s]\n",
      "2023-05-22 13:08:25.539 | INFO     | src.models.train_model:trainloop:186 - Epoch 1 train 1.8857 test 1.8386 metric ['0.3438']\n",
      "2023-05-22 13:08:25.540 | INFO     | src.models.train_model:save_checkpoint:297 - Validation loss (1.838603 --> 1.838603). Saving modellog/20230522-1308/checkpoint.pt ...\n",
      "100%|\u001b[38;2;30;71;6m██████████\u001b[0m| 81/81 [00:05<00:00, 14.85it/s]\n",
      "2023-05-22 13:08:31.584 | INFO     | src.models.train_model:trainloop:186 - Epoch 2 train 1.5219 test 1.7299 metric ['0.2703']\n",
      "2023-05-22 13:08:31.585 | INFO     | src.models.train_model:save_checkpoint:297 - Validation loss (1.729883 --> 1.729883). Saving modellog/20230522-1308/checkpoint.pt ...\n",
      "100%|\u001b[38;2;30;71;6m██████████\u001b[0m| 81/81 [00:05<00:00, 15.23it/s]\n",
      "2023-05-22 13:08:37.507 | INFO     | src.models.train_model:trainloop:186 - Epoch 3 train 1.3634 test 1.6081 metric ['0.3516']\n",
      "2023-05-22 13:08:37.508 | INFO     | src.models.train_model:save_checkpoint:297 - Validation loss (1.608077 --> 1.608077). Saving modellog/20230522-1308/checkpoint.pt ...\n",
      "100%|\u001b[38;2;30;71;6m██████████\u001b[0m| 81/81 [00:05<00:00, 13.65it/s]\n",
      "2023-05-22 13:08:44.499 | INFO     | src.models.train_model:trainloop:186 - Epoch 4 train 1.1755 test 1.4249 metric ['0.4250']\n",
      "2023-05-22 13:08:44.500 | INFO     | src.models.train_model:save_checkpoint:297 - Validation loss (1.424867 --> 1.424867). Saving modellog/20230522-1308/checkpoint.pt ...\n",
      "100%|\u001b[38;2;30;71;6m██████████\u001b[0m| 81/81 [00:08<00:00, 10.11it/s]\n",
      "2023-05-22 13:08:53.414 | INFO     | src.models.train_model:trainloop:186 - Epoch 5 train 0.9368 test 1.0857 metric ['0.5953']\n",
      "2023-05-22 13:08:53.415 | INFO     | src.models.train_model:save_checkpoint:297 - Validation loss (1.085659 --> 1.085659). Saving modellog/20230522-1308/checkpoint.pt ...\n",
      "100%|\u001b[38;2;30;71;6m██████████\u001b[0m| 81/81 [00:05<00:00, 14.31it/s]\n",
      "2023-05-22 13:08:59.651 | INFO     | src.models.train_model:trainloop:186 - Epoch 6 train 0.7268 test 0.8865 metric ['0.6578']\n",
      "2023-05-22 13:08:59.651 | INFO     | src.models.train_model:save_checkpoint:297 - Validation loss (0.886479 --> 0.886479). Saving modellog/20230522-1308/checkpoint.pt ...\n",
      "100%|\u001b[38;2;30;71;6m██████████\u001b[0m| 81/81 [00:04<00:00, 16.68it/s]\n",
      "2023-05-22 13:09:05.062 | INFO     | src.models.train_model:trainloop:186 - Epoch 7 train 0.5605 test 0.9804 metric ['0.6375']\n",
      "2023-05-22 13:09:05.063 | INFO     | src.models.train_model:__call__:284 - EarlyStopping counter: 1 out of 10\n",
      "100%|\u001b[38;2;30;71;6m██████████\u001b[0m| 81/81 [00:05<00:00, 15.03it/s]\n",
      "2023-05-22 13:09:11.129 | INFO     | src.models.train_model:trainloop:186 - Epoch 8 train 0.4000 test 0.5274 metric ['0.8516']\n",
      "2023-05-22 13:09:11.130 | INFO     | src.models.train_model:save_checkpoint:297 - Validation loss (0.527379 --> 0.527379). Saving modellog/20230522-1308/checkpoint.pt ...\n",
      "100%|\u001b[38;2;30;71;6m██████████\u001b[0m| 81/81 [00:05<00:00, 15.40it/s]\n",
      "2023-05-22 13:09:17.007 | INFO     | src.models.train_model:trainloop:186 - Epoch 9 train 0.2893 test 0.6294 metric ['0.7875']\n",
      "2023-05-22 13:09:17.008 | INFO     | src.models.train_model:__call__:284 - EarlyStopping counter: 1 out of 10\n",
      "100%|\u001b[38;2;30;71;6m██████████\u001b[0m| 81/81 [00:04<00:00, 16.22it/s]\n",
      "2023-05-22 13:09:22.584 | INFO     | src.models.train_model:trainloop:186 - Epoch 10 train 0.2520 test 0.4073 metric ['0.8562']\n",
      "2023-05-22 13:09:22.585 | INFO     | src.models.train_model:save_checkpoint:297 - Validation loss (0.407288 --> 0.407288). Saving modellog/20230522-1308/checkpoint.pt ...\n",
      "100%|\u001b[38;2;30;71;6m██████████\u001b[0m| 81/81 [00:05<00:00, 15.24it/s]\n",
      "2023-05-22 13:09:28.495 | INFO     | src.models.train_model:trainloop:186 - Epoch 11 train 0.1994 test 0.4399 metric ['0.8547']\n",
      "2023-05-22 13:09:28.496 | INFO     | src.models.train_model:__call__:284 - EarlyStopping counter: 1 out of 10\n",
      "100%|\u001b[38;2;30;71;6m██████████\u001b[0m| 81/81 [00:05<00:00, 15.90it/s]\n",
      "2023-05-22 13:09:34.147 | INFO     | src.models.train_model:trainloop:186 - Epoch 12 train 0.1389 test 0.5577 metric ['0.8516']\n",
      "2023-05-22 13:09:34.148 | INFO     | src.models.train_model:__call__:284 - EarlyStopping counter: 2 out of 10\n",
      "100%|\u001b[38;2;30;71;6m██████████\u001b[0m| 81/81 [00:05<00:00, 14.60it/s]\n",
      "2023-05-22 13:09:40.517 | INFO     | src.models.train_model:trainloop:186 - Epoch 13 train 0.1295 test 0.6037 metric ['0.8328']\n",
      "2023-05-22 13:09:40.518 | INFO     | src.models.train_model:__call__:284 - EarlyStopping counter: 3 out of 10\n",
      "100%|\u001b[38;2;30;71;6m██████████\u001b[0m| 81/81 [00:05<00:00, 14.27it/s]\n",
      "2023-05-22 13:09:46.861 | INFO     | src.models.train_model:trainloop:186 - Epoch 14 train 0.1162 test 0.6393 metric ['0.8531']\n",
      "2023-05-22 13:09:46.862 | INFO     | src.models.train_model:__call__:284 - EarlyStopping counter: 4 out of 10\n",
      "100%|\u001b[38;2;30;71;6m██████████\u001b[0m| 81/81 [00:05<00:00, 16.01it/s]\n",
      "2023-05-22 13:09:52.496 | INFO     | src.models.train_model:trainloop:186 - Epoch 15 train 0.0898 test 0.4215 metric ['0.9062']\n",
      "2023-05-22 13:09:52.497 | INFO     | src.models.train_model:__call__:284 - EarlyStopping counter: 5 out of 10\n",
      "100%|\u001b[38;2;30;71;6m██████████\u001b[0m| 81/81 [00:05<00:00, 15.18it/s]\n",
      "2023-05-22 13:09:58.436 | INFO     | src.models.train_model:trainloop:186 - Epoch 16 train 0.0796 test 0.3790 metric ['0.9141']\n",
      "2023-05-22 13:09:58.437 | INFO     | src.models.train_model:save_checkpoint:297 - Validation loss (0.378955 --> 0.378955). Saving modellog/20230522-1308/checkpoint.pt ...\n",
      "100%|\u001b[38;2;30;71;6m██████████\u001b[0m| 81/81 [00:05<00:00, 15.01it/s]\n",
      "2023-05-22 13:10:04.445 | INFO     | src.models.train_model:trainloop:186 - Epoch 17 train 0.0900 test 0.3747 metric ['0.9094']\n",
      "2023-05-22 13:10:04.446 | INFO     | src.models.train_model:save_checkpoint:297 - Validation loss (0.374715 --> 0.374715). Saving modellog/20230522-1308/checkpoint.pt ...\n",
      "100%|\u001b[38;2;30;71;6m██████████\u001b[0m| 81/81 [00:05<00:00, 15.32it/s]\n",
      "2023-05-22 13:10:10.383 | INFO     | src.models.train_model:trainloop:186 - Epoch 18 train 0.0739 test 0.4872 metric ['0.9031']\n",
      "2023-05-22 13:10:10.384 | INFO     | src.models.train_model:__call__:284 - EarlyStopping counter: 1 out of 10\n",
      "100%|\u001b[38;2;30;71;6m██████████\u001b[0m| 81/81 [00:05<00:00, 15.38it/s]\n",
      "2023-05-22 13:10:16.371 | INFO     | src.models.train_model:trainloop:186 - Epoch 19 train 0.0520 test 0.3472 metric ['0.9344']\n",
      "2023-05-22 13:10:16.372 | INFO     | src.models.train_model:save_checkpoint:297 - Validation loss (0.347188 --> 0.347188). Saving modellog/20230522-1308/checkpoint.pt ...\n",
      "100%|\u001b[38;2;30;71;6m██████████\u001b[0m| 81/81 [00:05<00:00, 14.88it/s]\n",
      "2023-05-22 13:10:22.438 | INFO     | src.models.train_model:trainloop:186 - Epoch 20 train 0.0367 test 0.3461 metric ['0.9250']\n",
      "2023-05-22 13:10:22.439 | INFO     | src.models.train_model:save_checkpoint:297 - Validation loss (0.346063 --> 0.346063). Saving modellog/20230522-1308/checkpoint.pt ...\n",
      "100%|\u001b[38;2;30;71;6m██████████\u001b[0m| 81/81 [00:05<00:00, 15.04it/s]\n",
      "2023-05-22 13:10:28.428 | INFO     | src.models.train_model:trainloop:186 - Epoch 21 train 0.0260 test 0.6607 metric ['0.8609']\n",
      "2023-05-22 13:10:28.429 | INFO     | src.models.train_model:__call__:284 - EarlyStopping counter: 1 out of 10\n",
      "100%|\u001b[38;2;30;71;6m██████████\u001b[0m| 81/81 [00:07<00:00, 11.50it/s]\n",
      "2023-05-22 13:10:36.411 | INFO     | src.models.train_model:trainloop:186 - Epoch 22 train 0.0191 test 0.3600 metric ['0.9297']\n",
      "2023-05-22 13:10:36.412 | INFO     | src.models.train_model:__call__:284 - EarlyStopping counter: 2 out of 10\n",
      "100%|\u001b[38;2;30;71;6m██████████\u001b[0m| 81/81 [00:06<00:00, 11.90it/s]\n",
      "2023-05-22 13:10:43.857 | INFO     | src.models.train_model:trainloop:186 - Epoch 23 train 0.0604 test 0.7538 metric ['0.8672']\n",
      "2023-05-22 13:10:43.858 | INFO     | src.models.train_model:__call__:284 - EarlyStopping counter: 3 out of 10\n",
      "100%|\u001b[38;2;30;71;6m██████████\u001b[0m| 81/81 [00:06<00:00, 12.82it/s]\n",
      "2023-05-22 13:10:50.771 | INFO     | src.models.train_model:trainloop:186 - Epoch 24 train 0.0749 test 0.5923 metric ['0.8859']\n",
      "2023-05-22 13:10:50.772 | INFO     | src.models.train_model:__call__:284 - EarlyStopping counter: 4 out of 10\n",
      "100%|\u001b[38;2;30;71;6m██████████\u001b[0m| 81/81 [00:05<00:00, 13.59it/s]\n",
      "2023-05-22 13:10:57.383 | INFO     | src.models.train_model:trainloop:186 - Epoch 25 train 0.0743 test 0.3243 metric ['0.9031']\n",
      "2023-05-22 13:10:57.384 | INFO     | src.models.train_model:save_checkpoint:297 - Validation loss (0.324313 --> 0.324313). Saving modellog/20230522-1308/checkpoint.pt ...\n",
      "100%|\u001b[38;2;30;71;6m██████████\u001b[0m| 81/81 [00:06<00:00, 12.35it/s]\n",
      "2023-05-22 13:11:04.576 | INFO     | src.models.train_model:trainloop:186 - Epoch 26 train 0.0304 test 0.2909 metric ['0.9297']\n",
      "2023-05-22 13:11:04.577 | INFO     | src.models.train_model:save_checkpoint:297 - Validation loss (0.290873 --> 0.290873). Saving modellog/20230522-1308/checkpoint.pt ...\n",
      "100%|\u001b[38;2;30;71;6m██████████\u001b[0m| 81/81 [00:06<00:00, 12.48it/s]\n",
      "2023-05-22 13:11:11.681 | INFO     | src.models.train_model:trainloop:186 - Epoch 27 train 0.0316 test 0.3223 metric ['0.9297']\n",
      "2023-05-22 13:11:11.682 | INFO     | src.models.train_model:__call__:284 - EarlyStopping counter: 1 out of 10\n",
      "100%|\u001b[38;2;30;71;6m██████████\u001b[0m| 81/81 [00:06<00:00, 12.77it/s]\n",
      "2023-05-22 13:11:18.882 | INFO     | src.models.train_model:trainloop:186 - Epoch 28 train 0.0183 test 0.3620 metric ['0.9187']\n",
      "2023-05-22 13:11:18.883 | INFO     | src.models.train_model:__call__:284 - EarlyStopping counter: 2 out of 10\n",
      "100%|\u001b[38;2;30;71;6m██████████\u001b[0m| 81/81 [00:05<00:00, 15.09it/s]\n",
      "2023-05-22 13:11:24.885 | INFO     | src.models.train_model:trainloop:186 - Epoch 29 train 0.0217 test 0.4642 metric ['0.9109']\n",
      "2023-05-22 13:11:24.886 | INFO     | src.models.train_model:__call__:284 - EarlyStopping counter: 3 out of 10\n",
      "100%|\u001b[38;2;30;71;6m██████████\u001b[0m| 81/81 [00:05<00:00, 14.29it/s]\n",
      "2023-05-22 13:11:31.181 | INFO     | src.models.train_model:trainloop:186 - Epoch 30 train 0.0060 test 0.2604 metric ['0.9484']\n",
      "2023-05-22 13:11:31.182 | INFO     | src.models.train_model:save_checkpoint:297 - Validation loss (0.260414 --> 0.260414). Saving modellog/20230522-1308/checkpoint.pt ...\n",
      "100%|\u001b[38;2;30;71;6m██████████\u001b[0m| 81/81 [00:05<00:00, 14.74it/s]\n",
      "2023-05-22 13:11:37.301 | INFO     | src.models.train_model:trainloop:186 - Epoch 31 train 0.0377 test 0.4660 metric ['0.9187']\n",
      "2023-05-22 13:11:37.302 | INFO     | src.models.train_model:__call__:284 - EarlyStopping counter: 1 out of 10\n",
      "100%|\u001b[38;2;30;71;6m██████████\u001b[0m| 81/81 [00:05<00:00, 13.92it/s]\n",
      "2023-05-22 13:11:43.766 | INFO     | src.models.train_model:trainloop:186 - Epoch 32 train 0.0106 test 0.5268 metric ['0.9125']\n",
      "2023-05-22 13:11:43.767 | INFO     | src.models.train_model:__call__:284 - EarlyStopping counter: 2 out of 10\n",
      "100%|\u001b[38;2;30;71;6m██████████\u001b[0m| 81/81 [00:05<00:00, 14.09it/s]\n",
      "2023-05-22 13:11:50.167 | INFO     | src.models.train_model:trainloop:186 - Epoch 33 train 0.0580 test 0.4845 metric ['0.8953']\n",
      "2023-05-22 13:11:50.168 | INFO     | src.models.train_model:__call__:284 - EarlyStopping counter: 3 out of 10\n",
      "100%|\u001b[38;2;30;71;6m██████████\u001b[0m| 81/81 [00:06<00:00, 12.70it/s]\n",
      "2023-05-22 13:11:57.272 | INFO     | src.models.train_model:trainloop:186 - Epoch 34 train 0.0413 test 0.3809 metric ['0.9203']\n",
      "2023-05-22 13:11:57.273 | INFO     | src.models.train_model:__call__:284 - EarlyStopping counter: 4 out of 10\n",
      "100%|\u001b[38;2;30;71;6m██████████\u001b[0m| 81/81 [00:06<00:00, 12.31it/s]\n",
      "2023-05-22 13:12:04.761 | INFO     | src.models.train_model:trainloop:186 - Epoch 35 train 0.0164 test 0.4053 metric ['0.9328']\n",
      "2023-05-22 13:12:04.762 | INFO     | src.models.train_model:__call__:284 - EarlyStopping counter: 5 out of 10\n",
      "100%|\u001b[38;2;30;71;6m██████████\u001b[0m| 81/81 [00:06<00:00, 13.24it/s]\n",
      "2023-05-22 13:12:11.477 | INFO     | src.models.train_model:trainloop:186 - Epoch 36 train 0.0224 test 0.2692 metric ['0.9563']\n",
      "2023-05-22 13:12:11.478 | INFO     | src.models.train_model:__call__:284 - EarlyStopping counter: 6 out of 10\n",
      "100%|\u001b[38;2;30;71;6m██████████\u001b[0m| 81/81 [00:06<00:00, 13.23it/s]\n",
      "2023-05-22 13:12:18.248 | INFO     | src.models.train_model:trainloop:186 - Epoch 37 train 0.0084 test 0.3205 metric ['0.9422']\n",
      "2023-05-22 13:12:18.249 | INFO     | src.models.train_model:__call__:284 - EarlyStopping counter: 7 out of 10\n",
      "100%|\u001b[38;2;30;71;6m██████████\u001b[0m| 81/81 [00:06<00:00, 12.39it/s]\n",
      "2023-05-22 13:12:25.560 | INFO     | src.models.train_model:trainloop:186 - Epoch 38 train 0.0159 test 0.4390 metric ['0.9297']\n",
      "2023-05-22 13:12:25.561 | INFO     | src.models.train_model:__call__:284 - EarlyStopping counter: 8 out of 10\n",
      "100%|\u001b[38;2;30;71;6m██████████\u001b[0m| 81/81 [00:06<00:00, 12.44it/s]\n",
      "2023-05-22 13:12:32.913 | INFO     | src.models.train_model:trainloop:186 - Epoch 39 train 0.0053 test 0.3749 metric ['0.9406']\n",
      "2023-05-22 13:12:32.914 | INFO     | src.models.train_model:__call__:284 - EarlyStopping counter: 9 out of 10\n",
      "100%|\u001b[38;2;30;71;6m██████████\u001b[0m| 81/81 [00:06<00:00, 13.01it/s]\n",
      "2023-05-22 13:12:40.054 | INFO     | src.models.train_model:trainloop:186 - Epoch 40 train 0.0048 test 0.3720 metric ['0.9313']\n",
      "2023-05-22 13:12:40.055 | INFO     | src.models.train_model:__call__:284 - EarlyStopping counter: 10 out of 10\n",
      "2023-05-22 13:12:40.056 | INFO     | src.models.train_model:trainloop:193 - Interrupting loop due to early stopping patience.\n",
      "2023-05-22 13:12:40.057 | INFO     | src.models.train_model:trainloop:195 - retrieving best model.\n",
      " 80%|\u001b[38;2;30;71;6m████████  \u001b[0m| 40/50 [04:27<01:06,  6.68s/it]\n"
     ]
    }
   ],
   "source": [
    "import mlflow\n",
    "from datetime import datetime\n",
    "\n",
    "mlflow.set_tracking_uri(\"sqlite:///mlflow.db\")\n",
    "mlflow.set_experiment(\"gestures\")\n",
    "modeldir = Path(\"../../models/gestures/\").resolve()\n",
    "# gin.parse_config_file(\"gestures.gin\")\n",
    "gin.parse_config_file(\"gestures_gru.gin\")\n",
    "\n",
    "with mlflow.start_run():\n",
    "    mlflow.set_tag(\"model\", \"GRUmodel\")\n",
    "    mlflow.set_tag(\"dev\", \"raoul\")\n",
    "    # mlflow.log_params(gin.get_bindings(\"BaseRNN\"))\n",
    "    mlflow.log_params(gin.get_bindings(\"GRUmodel\")[\"config\"])\n",
    "    mlflow.log_params(gin.get_bindings(\"trainloop\"))\n",
    "    mlflow.log_param(\"datadir\", f\"{data_dir}\")\n",
    "    mlflow.log_param(\"batchsize\", f\"{batchsize}\")\n",
    "\n",
    "    # model = rnn_models.BaseRNN()\n",
    "    model = rnn_models.GRUmodel()\n",
    "\n",
    "    model, testloss = train_model.trainloop(\n",
    "        model=model,\n",
    "        metrics=[accuracy],\n",
    "        train_dataloader=trainloader,\n",
    "        test_dataloader=testloader,\n",
    "        log_dir=\"modellog\",\n",
    "        train_steps=len(trainloader),\n",
    "        eval_steps=len(testloader),\n",
    "        patience=5,\n",
    "        factor=0.5,\n",
    "        early_stopping_patience=10,\n",
    "        early_stopping_save=True,\n",
    "        tunewriter=[\"tensorboard\", \"mlflow\", \"gin\"]\n",
    "    )\n",
    "    mlflow.pytorch.log_model(model, \"gru\")\n",
    "\n",
    "    tag = datetime.now().strftime(\"%Y%m%d-%H%M\")\n",
    "    modelpath = modeldir / (tag + \"model.pt\")\n",
    "    torch.save(model, modelpath)\n",
    "    mlflow.log_artifact(local_path=modelpath, artifact_path=\"pytorch_models\")"
   ]
  },
  {
   "attachments": {},
   "cell_type": "markdown",
   "metadata": {},
   "source": [
    "Excercises:\n",
    "\n",
    "- improve the RNN model\n",
    "- test different things. What works? What does not?\n",
    "- experiment with either GRU or LSTM layers, create your own models + ginfiles. \n",
    "- experiment with adding Conv1D layers.\n",
    "\n",
    "You should be able to get above 90% accuracy with the dataset."
   ]
  }
 ],
 "metadata": {
  "kernelspec": {
   "display_name": "deep-learning-wM7qE7ca-py3.10",
   "language": "python",
   "name": "python3"
  },
  "language_info": {
   "codemirror_mode": {
    "name": "ipython",
    "version": 3
   },
   "file_extension": ".py",
   "mimetype": "text/x-python",
   "name": "python",
   "nbconvert_exporter": "python",
   "pygments_lexer": "ipython3",
   "version": "3.8.13"
  },
  "orig_nbformat": 4,
  "vscode": {
   "interpreter": {
    "hash": "45c41bdaf5373703b03bba2d9bd89c97dc8ee5add9f1112e039ff04603b8e2ee"
   }
  }
 },
 "nbformat": 4,
 "nbformat_minor": 2
}
