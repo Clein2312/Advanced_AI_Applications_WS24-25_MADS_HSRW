{
 "cells": [
  {
   "cell_type": "code",
   "execution_count": 1,
   "metadata": {},
   "outputs": [],
   "source": [
    "import sys\n",
    "sys.path.insert(0, \"../..\")\n",
    "from src.data import data_tools\n",
    "from pathlib import Path\n",
    "import gin\n",
    "import numpy as np\n",
    "import torch\n",
    "from typing import List\n",
    "from torch.nn.utils.rnn import pad_sequence\n",
    "from src.models import rnn_models, train_model\n",
    "\n",
    "datadir = Path(\"../../data/raw\")"
   ]
  },
  {
   "cell_type": "markdown",
   "metadata": {},
   "source": [
    "# 1 Iterators\n",
    "We will be using an interesting dataset. [link](https://tev.fbk.eu/resources/smartwatch)\n",
    "\n",
    "From the site:\n",
    "> The SmartWatch Gestures Dataset has been collected to evaluate several gesture recognition algorithms for interacting with mobile applications using arm gestures. Eight different users performed twenty repetitions of twenty different gestures, for a total of 3200 sequences. Each sequence contains acceleration data from the 3-axis accelerometer of a first generation Sony SmartWatch™, as well as timestamps from the different clock sources available on an Android device. The smartwatch was worn on the user's right wrist. \n",
    "\n",
    "# 1.1 Iterator design pattern\n",
    "This is a nice opportunity to create our own custom iterator. First, let's look at the simplified design pattern for an iterator."
   ]
  },
  {
   "cell_type": "code",
   "execution_count": 2,
   "metadata": {},
   "outputs": [
    {
     "name": "stdout",
     "output_type": "stream",
     "text": [
      "0\n",
      "1\n",
      "2\n",
      "3\n",
      "4\n"
     ]
    }
   ],
   "source": [
    "class BaseIterator:\n",
    "  def __init__(self, n: int):\n",
    "    self.n = n\n",
    "    # we generate some dummy data\n",
    "    self.data = [*range(self.n)]\n",
    "\n",
    "  def __iter__(self):\n",
    "    # startindex; this makes the first index 0\n",
    "    self.idx = -1\n",
    "    # we return the full object when iter() is called\n",
    "    return self\n",
    "\n",
    "  def __next__(self):\n",
    "    # for every iteration, __next__ is called\n",
    "    # as long as the idx is not bigger than the data\n",
    "    # we need to do -1, because we will increase idx directly after this\n",
    "    if self.idx < len(self.data) - 1:\n",
    "      self.idx += 1\n",
    "      return self.data[self.idx]\n",
    "    else:\n",
    "      raise StopIteration\n",
    "\n",
    "myclass = BaseIterator(n=5)\n",
    "myiter = iter(myclass) # this calles the __iter__ method and sets idx to -1\n",
    "\n",
    "for x in myiter: # this calls the __next__ method\n",
    "  print(x)"
   ]
  },
  {
   "cell_type": "markdown",
   "metadata": {},
   "source": [
    "Note how `__iter__` returns `self` with the startsettings (`idx=-1`).\n",
    "Every time we call `__next__`, e.g. in a forloop or explicitly with `next()` \n",
    "\n",
    "If you keep calling `next()`, you will get a `StopIteration` error but the forloop will look out for that, so you should be good.\n",
    "\n",
    "## 1.2 Iterator implementation\n",
    "Now, we extend this pattern to our dataset. We will use what we have seen before with the images: we load the paths, and use these to generate the data."
   ]
  },
  {
   "cell_type": "code",
   "execution_count": 5,
   "metadata": {},
   "outputs": [],
   "source": [
    "from __future__ import annotations\n",
    "from typing import Tuple\n",
    "from tqdm import tqdm\n",
    "import random\n",
    "Tensor = torch.Tensor\n",
    "\n",
    "class BaseDataset:\n",
    "    def __init__(self, paths: List[Path]) -> None:\n",
    "        self.paths = paths\n",
    "        random.shuffle(self.paths)\n",
    "        self.dataset = []\n",
    "        self.process_data()\n",
    "\n",
    "    def process_data(self) -> None:\n",
    "        # this needs to be implemented if you want to use the BaseDataset\n",
    "        raise NotImplementedError\n",
    "\n",
    "    def __len__(self) -> int:\n",
    "        return len(self.dataset)\n",
    "\n",
    "    def __getitem__(self, idx: int) -> Tuple[Tensor, int]:\n",
    "        return self.dataset[idx]\n",
    "\n",
    "class TSDataset(BaseDataset):\n",
    "    # this is called inheritance.\n",
    "    # we get all the methods from the BaseDataset for free\n",
    "    # Only thing we need to do is implement the process_data method\n",
    "    def process_data(self) -> None:\n",
    "        for file in tqdm(self.paths):\n",
    "            x_ = np.genfromtxt(file)[:, 3:]\n",
    "            x = torch.tensor(x_).type(torch.float32)\n",
    "            y = torch.tensor(int(file.parent.name) - 1)\n",
    "            self.dataset.append((x, y))"
   ]
  },
  {
   "cell_type": "code",
   "execution_count": 32,
   "metadata": {},
   "outputs": [],
   "source": [
    "class BaseDataIterator:\n",
    "    def __init__(self, dataset: BaseDataset, batchsize: int):\n",
    "        self.dataset = dataset\n",
    "        self.batchsize = batchsize\n",
    "\n",
    "    def __len__(self) -> int:\n",
    "        # the lenght is the amount of batches\n",
    "        return int(len(self.dataset) / self.batchsize)\n",
    "\n",
    "    def __iter__(self) -> BaseDataIterator:\n",
    "        # initialize index\n",
    "        self.index = 0\n",
    "        self.index_list = torch.randperm(len(self.dataset))\n",
    "        return self\n",
    "    \n",
    "    def batchloop(self) -> Tuple[Tensor, Tensor]:\n",
    "        X = []  # noqa N806\n",
    "        Y = []  # noqa N806\n",
    "        # fill the batch\n",
    "        for _ in range(self.batchsize):\n",
    "            x, y = self.dataset[int(self.index_list[self.index])]\n",
    "            X.append(x)\n",
    "            Y.append(y)\n",
    "            self.index += 1\n",
    "        return X, Y\n",
    "\n",
    "    def __next__(self) -> Tuple[Tensor, Tensor]:\n",
    "        if self.index <= (len(self.dataset) - self.batchsize):\n",
    "            X, Y = self.batchloop()\n",
    "            return X, Y\n",
    "        else:\n",
    "            raise StopIteration\n",
    "\n",
    "\n",
    "class PaddedDatagenerator(BaseDataIterator):\n",
    "    # again, we inherit everything from the baseclass\n",
    "    def __init__(self, dataset: BaseDataset, batchsize: int) -> None:\n",
    "        # we initialize the super class BaseDataIterator\n",
    "        # we now have everything the BaseDataIterator can do, for free\n",
    "        super().__init__(dataset, batchsize)\n",
    "    \n",
    "    def __next__(self) -> Tuple[Tensor, Tensor]:\n",
    "        if self.index <= (len(self.dataset) - self.batchsize):\n",
    "            X, Y = self.batchloop()\n",
    "            # we just want to add padding\n",
    "            X_ = pad_sequence(X, batch_first=True, padding_value=0)  # noqa N806\n",
    "            return X_, torch.tensor(Y)\n",
    "        else:\n",
    "            raise StopIteration"
   ]
  },
  {
   "cell_type": "markdown",
   "metadata": {},
   "source": [
    "The main difference with the pattern we used before, is that this pattern will stop after the last item is spit out.\n",
    "The generator from the first lesson will go on forever, due to the `while True` loop.\n",
    "\n",
    "## 1.3 Train-test"
   ]
  },
  {
   "cell_type": "code",
   "execution_count": 33,
   "metadata": {},
   "outputs": [],
   "source": [
    "data_dir = Path(\"../../data/external/gestures-dataset/\")\n",
    "\n",
    "# get all paths with the .txt extension\n",
    "formats = [\".txt\"]\n",
    "paths = [path for path in data_tools.walk_dir(data_dir) if path.suffix in formats]\n",
    "# make a train-test split\n",
    "split = 0.8\n",
    "idx = int(len(paths) * split)\n",
    "trainpaths = paths[:idx]\n",
    "testpaths = paths[idx:]"
   ]
  },
  {
   "cell_type": "code",
   "execution_count": 34,
   "metadata": {},
   "outputs": [
    {
     "name": "stderr",
     "output_type": "stream",
     "text": [
      "100%|██████████| 2600/2600 [00:02<00:00, 1280.78it/s]\n",
      "100%|██████████| 651/651 [00:00<00:00, 1452.37it/s]\n"
     ]
    }
   ],
   "source": [
    "traindataset = TSDataset(trainpaths)\n",
    "testdataset = TSDataset(testpaths)"
   ]
  },
  {
   "cell_type": "code",
   "execution_count": 35,
   "metadata": {},
   "outputs": [],
   "source": [
    "trainloader = PaddedDatagenerator(traindataset, batchsize=32)\n",
    "testloader = PaddedDatagenerator(testdataset, batchsize=32)"
   ]
  },
  {
   "cell_type": "code",
   "execution_count": 36,
   "metadata": {},
   "outputs": [
    {
     "data": {
      "text/plain": [
       "(torch.Size([20, 3]), tensor(5))"
      ]
     },
     "execution_count": 36,
     "metadata": {},
     "output_type": "execute_result"
    }
   ],
   "source": [
    "x, y = traindataset[0]\n",
    "x.shape, y"
   ]
  },
  {
   "cell_type": "code",
   "execution_count": 37,
   "metadata": {},
   "outputs": [
    {
     "data": {
      "text/plain": [
       "(2600, 81)"
      ]
     },
     "execution_count": 37,
     "metadata": {},
     "output_type": "execute_result"
    }
   ],
   "source": [
    "len(traindataset), len(trainloader)"
   ]
  },
  {
   "cell_type": "markdown",
   "metadata": {},
   "source": [
    "What does the lenght mean?"
   ]
  },
  {
   "cell_type": "code",
   "execution_count": 40,
   "metadata": {},
   "outputs": [
    {
     "data": {
      "text/plain": [
       "(torch.Size([32, 30, 3]), torch.Size([32]))"
      ]
     },
     "execution_count": 40,
     "metadata": {},
     "output_type": "execute_result"
    }
   ],
   "source": [
    "x, y = next(iter(trainloader))\n",
    "x.shape, y.shape"
   ]
  },
  {
   "cell_type": "markdown",
   "metadata": {},
   "source": [
    "Can you make sense of the shape?\n",
    "\n",
    "# 2 Excercises\n",
    "Lets test a basemodel, and try to improve upon that.\n",
    "\n",
    "Fill the gestures.gin file with relevant settings for `input_size`, `hidden_size`, `num_layers` and `horizon` (which, in our case, will be the number of classes...)\n",
    "\n",
    "As a rule of thumbs: start lower than you expect to need!"
   ]
  },
  {
   "cell_type": "code",
   "execution_count": 46,
   "metadata": {},
   "outputs": [],
   "source": [
    "gin.parse_config_file(\"gestures.gin\")\n",
    "model = rnn_models.BaseRNN()"
   ]
  },
  {
   "cell_type": "markdown",
   "metadata": {},
   "source": [
    "Test the model. What is the output shape you need? Remember, we are doing classification!"
   ]
  },
  {
   "cell_type": "code",
   "execution_count": 47,
   "metadata": {},
   "outputs": [
    {
     "data": {
      "text/plain": [
       "torch.Size([32, 20])"
      ]
     },
     "execution_count": 47,
     "metadata": {},
     "output_type": "execute_result"
    }
   ],
   "source": [
    "yhat = model(x)\n",
    "yhat.shape"
   ]
  },
  {
   "cell_type": "markdown",
   "metadata": {},
   "source": [
    "Test the accuracy"
   ]
  },
  {
   "cell_type": "code",
   "execution_count": 48,
   "metadata": {},
   "outputs": [
    {
     "data": {
      "text/plain": [
       "tensor(0.)"
      ]
     },
     "execution_count": 48,
     "metadata": {},
     "output_type": "execute_result"
    }
   ],
   "source": [
    "from src.models import metrics\n",
    "\n",
    "accuracy = metrics.Accuracy()\n",
    "accuracy(y, yhat)"
   ]
  },
  {
   "cell_type": "markdown",
   "metadata": {},
   "source": [
    "What do you think of the accuracy? What would you expect from blind guessing?\n",
    "\n",
    "Check shape of `y` and `yhat`"
   ]
  },
  {
   "cell_type": "code",
   "execution_count": 49,
   "metadata": {},
   "outputs": [
    {
     "data": {
      "text/plain": [
       "(torch.Size([32, 20]), torch.Size([32]))"
      ]
     },
     "execution_count": 49,
     "metadata": {},
     "output_type": "execute_result"
    }
   ],
   "source": [
    "yhat.shape, y.shape"
   ]
  },
  {
   "cell_type": "markdown",
   "metadata": {},
   "source": [
    "Does this make sense to you? If you are unclear, go back to the classification problem with the MNIST, where we had 10 classes.\n",
    "\n",
    "We have a classification problem, so we need Cross Entropy Loss.\n",
    "Remember, [this has a softmax built in](https://pytorch.org/docs/stable/generated/torch.nn.CrossEntropyLoss.html) "
   ]
  },
  {
   "cell_type": "code",
   "execution_count": 50,
   "metadata": {},
   "outputs": [
    {
     "data": {
      "text/plain": [
       "tensor(3.0422, grad_fn=<NllLossBackward0>)"
      ]
     },
     "execution_count": 50,
     "metadata": {},
     "output_type": "execute_result"
    }
   ],
   "source": [
    "loss_fn = torch.nn.CrossEntropyLoss()\n",
    "loss = loss_fn(yhat, y)\n",
    "loss"
   ]
  },
  {
   "cell_type": "code",
   "execution_count": 51,
   "metadata": {},
   "outputs": [
    {
     "name": "stderr",
     "output_type": "stream",
     "text": [
      "2022-05-24 10:02:02.138 | INFO     | src.data.data_tools:dir_add_timestamp:213 - Logging to ../../models/gestures/20220524-1002\n",
      "100%|██████████| 81/81 [00:01<00:00, 51.94it/s]\n",
      "2022-05-24 10:02:03.971 | INFO     | src.models.train_model:trainloop:156 - Epoch 0 train 2.7225 test 0.1261 metric ['0.1109']\n",
      "100%|██████████| 81/81 [00:00<00:00, 81.66it/s]\n",
      "2022-05-24 10:02:05.048 | INFO     | src.models.train_model:trainloop:156 - Epoch 1 train 2.4346 test 0.1240 metric ['0.0766']\n",
      "100%|██████████| 81/81 [00:00<00:00, 107.21it/s]\n",
      "2022-05-24 10:02:05.878 | INFO     | src.models.train_model:trainloop:156 - Epoch 2 train 2.4689 test 0.1201 metric ['0.1094']\n",
      "100%|██████████| 81/81 [00:00<00:00, 111.79it/s]\n",
      "2022-05-24 10:02:06.682 | INFO     | src.models.train_model:trainloop:156 - Epoch 3 train 2.3442 test 0.1227 metric ['0.0750']\n",
      "100%|██████████| 81/81 [00:00<00:00, 106.78it/s]\n",
      "2022-05-24 10:02:07.518 | INFO     | src.models.train_model:trainloop:156 - Epoch 4 train 2.3852 test 0.1177 metric ['0.1156']\n",
      "100%|██████████| 81/81 [00:00<00:00, 110.13it/s]\n",
      "2022-05-24 10:02:08.332 | INFO     | src.models.train_model:trainloop:156 - Epoch 5 train 2.1499 test 0.1173 metric ['0.1484']\n",
      "100%|██████████| 81/81 [00:00<00:00, 108.95it/s]\n",
      "2022-05-24 10:02:09.154 | INFO     | src.models.train_model:trainloop:156 - Epoch 6 train 2.1739 test 0.1197 metric ['0.1250']\n",
      "100%|██████████| 81/81 [00:00<00:00, 109.69it/s]\n",
      "2022-05-24 10:02:09.971 | INFO     | src.models.train_model:trainloop:156 - Epoch 7 train 2.4660 test 0.1240 metric ['0.0703']\n",
      "100%|██████████| 81/81 [00:00<00:00, 110.58it/s]\n",
      "2022-05-24 10:02:10.779 | INFO     | src.models.train_model:trainloop:156 - Epoch 8 train 2.2961 test 0.1075 metric ['0.1250']\n",
      "100%|██████████| 81/81 [00:00<00:00, 100.26it/s]\n",
      "2022-05-24 10:02:11.674 | INFO     | src.models.train_model:trainloop:156 - Epoch 9 train 2.4750 test 0.1195 metric ['0.0891']\n",
      "100%|██████████| 10/10 [00:09<00:00,  1.06it/s]\n"
     ]
    }
   ],
   "source": [
    "from datetime import datetime\n",
    "from pathlib import Path\n",
    "gin.parse_config_file(\"gestures.gin\")\n",
    "\n",
    "log_dir = Path(\"../../models/gestures/\")\n",
    "\n",
    "model = rnn_models.BaseRNN()\n",
    "\n",
    "model = train_model.trainloop(\n",
    "    model=model,\n",
    "    metrics=[accuracy],\n",
    "    train_dataloader=trainloader,\n",
    "    test_dataloader=testloader,\n",
    "    log_dir=log_dir,\n",
    "    train_steps=len(trainloader),\n",
    "    eval_steps=len(testloader)\n",
    ")"
   ]
  },
  {
   "cell_type": "markdown",
   "metadata": {},
   "source": [
    "Excercises:\n",
    "\n",
    "- improve the RNN model\n",
    "- test different things. What works? What does not?\n",
    "- make a second model, where you test a GRU layer. Create an additional `.gin` file for this second model. \n",
    "- Try to add Conv1D layers.\n",
    "\n",
    "You should be able to get above 90% accuracy with the dataset."
   ]
  },
  {
   "cell_type": "code",
   "execution_count": 54,
   "metadata": {},
   "outputs": [
    {
     "name": "stderr",
     "output_type": "stream",
     "text": [
      "2022-05-24 10:03:12.981 | INFO     | src.data.data_tools:dir_add_timestamp:213 - Logging to ../../models/gestures/20220524-1003\n",
      "100%|██████████| 81/81 [00:03<00:00, 24.91it/s]\n",
      "2022-05-24 10:03:16.649 | INFO     | src.models.train_model:trainloop:156 - Epoch 0 train 2.2757 test 0.1244 metric ['0.1375']\n",
      "100%|██████████| 81/81 [00:01<00:00, 40.99it/s]\n",
      "2022-05-24 10:03:18.821 | INFO     | src.models.train_model:trainloop:156 - Epoch 1 train 2.1164 test 0.1185 metric ['0.1516']\n",
      "100%|██████████| 81/81 [00:02<00:00, 38.55it/s]\n",
      "2022-05-24 10:03:21.150 | INFO     | src.models.train_model:trainloop:156 - Epoch 2 train 1.8182 test 0.1093 metric ['0.1937']\n",
      "100%|██████████| 81/81 [00:02<00:00, 38.77it/s]\n",
      "2022-05-24 10:03:23.460 | INFO     | src.models.train_model:trainloop:156 - Epoch 3 train 1.6906 test 0.1072 metric ['0.2484']\n",
      "100%|██████████| 81/81 [00:02<00:00, 40.11it/s]\n",
      "2022-05-24 10:03:25.710 | INFO     | src.models.train_model:trainloop:156 - Epoch 4 train 1.6230 test 0.0950 metric ['0.2578']\n",
      "100%|██████████| 81/81 [00:02<00:00, 36.50it/s]\n",
      "2022-05-24 10:03:28.159 | INFO     | src.models.train_model:trainloop:156 - Epoch 5 train 1.3044 test 0.0866 metric ['0.3438']\n",
      "100%|██████████| 81/81 [00:02<00:00, 39.21it/s]\n",
      "2022-05-24 10:03:30.446 | INFO     | src.models.train_model:trainloop:156 - Epoch 6 train 1.2730 test 0.0774 metric ['0.3641']\n",
      "100%|██████████| 81/81 [00:02<00:00, 39.74it/s]\n",
      "2022-05-24 10:03:32.684 | INFO     | src.models.train_model:trainloop:156 - Epoch 7 train 1.0167 test 0.0740 metric ['0.4500']\n",
      "100%|██████████| 81/81 [00:01<00:00, 41.16it/s]\n",
      "2022-05-24 10:03:34.874 | INFO     | src.models.train_model:trainloop:156 - Epoch 8 train 1.1377 test 0.0483 metric ['0.5078']\n",
      "100%|██████████| 81/81 [00:02<00:00, 37.85it/s]\n",
      "2022-05-24 10:03:37.233 | INFO     | src.models.train_model:trainloop:156 - Epoch 9 train 0.8417 test 0.0480 metric ['0.4953']\n",
      "100%|██████████| 10/10 [00:24<00:00,  2.42s/it]\n"
     ]
    }
   ],
   "source": [
    "gin.parse_config_file(\"gestures_gru.gin\")\n",
    "\n",
    "log_dir = Path(\"../../models/gestures/\")\n",
    "\n",
    "model = rnn_models.GRUmodel()\n",
    "\n",
    "model = train_model.trainloop(\n",
    "    model=model,\n",
    "    metrics=[accuracy],\n",
    "    train_dataloader=trainloader,\n",
    "    test_dataloader=testloader,\n",
    "    log_dir=log_dir,\n",
    "    train_steps=len(trainloader),\n",
    "    eval_steps=len(testloader)\n",
    ")"
   ]
  },
  {
   "cell_type": "code",
   "execution_count": null,
   "metadata": {},
   "outputs": [],
   "source": []
  }
 ],
 "metadata": {
  "interpreter": {
   "hash": "a15911aab0965639e9482f052beb89e7ca291bb3f153727c5758e3fe9ad1321e"
  },
  "kernelspec": {
   "display_name": "Python 3.8.13 ('deep-learning-xB8KIJr7-py3.9')",
   "language": "python",
   "name": "python3"
  },
  "language_info": {
   "codemirror_mode": {
    "name": "ipython",
    "version": 3
   },
   "file_extension": ".py",
   "mimetype": "text/x-python",
   "name": "python",
   "nbconvert_exporter": "python",
   "pygments_lexer": "ipython3",
   "version": "3.8.13"
  },
  "orig_nbformat": 4
 },
 "nbformat": 4,
 "nbformat_minor": 2
}
