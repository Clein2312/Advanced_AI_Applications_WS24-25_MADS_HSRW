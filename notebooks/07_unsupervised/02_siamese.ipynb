{
 "cells": [
  {
   "cell_type": "code",
   "execution_count": 2,
   "metadata": {},
   "outputs": [],
   "source": [
    "import sys\n",
    "import jax.numpy as jnp\n",
    "import numpy as np\n",
    "from trax import layers as tl\n",
    "from trax.shapes import signature\n",
    "from trax.layers import combinators as cb\n",
    "from trax.layers.assert_shape import assert_shape\n",
    "\n",
    "sys.path.insert(0, \"../..\")\n",
    "from src.models.build import summary\n",
    "from pathlib import Path\n",
    "from src.data import data_tools\n"
   ]
  },
  {
   "cell_type": "code",
   "execution_count": 13,
   "metadata": {},
   "outputs": [
    {
     "name": "stderr",
     "output_type": "stream",
     "text": [
      "100%|██████████| 3.80M/3.80M [00:00<00:00, 6.37MiB/s]\n"
     ]
    }
   ],
   "source": [
    "url = \"https://github.com/maticvl/dataHacker/raw/master/DATA/at%26t.zip\"\n",
    "data_dir = Path(\"../../data/raw/\")\n",
    "\n",
    "data_tools.get_file(data_dir, \"faces.zip\", url)"
   ]
  },
  {
   "cell_type": "code",
   "execution_count": 29,
   "metadata": {},
   "outputs": [],
   "source": [
    "from src.data import data_tools\n",
    "\n",
    "paths, _ = data_tools.iter_valid_paths(\n",
    "    data_dir / \"data/faces/training/\", formats=[\".pgm\"]\n",
    ")\n"
   ]
  },
  {
   "cell_type": "code",
   "execution_count": 55,
   "metadata": {},
   "outputs": [
    {
     "data": {
      "image/png": "[encoded data removed]",
      "text/plain": [
       "<PIL.PpmImagePlugin.PpmImageFile image mode=L size=92x112>"
      ]
     },
     "execution_count": 55,
     "metadata": {},
     "output_type": "execute_result"
    }
   ],
   "source": [
    "file = next(paths)\n",
    "from PIL import Image\n",
    "\n",
    "img = Image.open(file)\n",
    "img\n"
   ]
  },
  {
   "cell_type": "code",
   "execution_count": 69,
   "metadata": {},
   "outputs": [
    {
     "data": {
      "text/plain": [
       "(32, 112, 92, 1)"
      ]
     },
     "execution_count": 69,
     "metadata": {},
     "output_type": "execute_result"
    }
   ],
   "source": [
    "import numpy as np\n",
    "\n",
    "rng = np.random.default_rng()\n",
    "X = rng.random((32,) + np.array(img).shape + (1,))\n",
    "X.shape\n"
   ]
  },
  {
   "cell_type": "code",
   "execution_count": 136,
   "metadata": {},
   "outputs": [],
   "source": [
    "def Avg2D():\n",
    "    return tl.Fn(\"Avg2D\", lambda x: x.mean(axis=(1, 2)), n_out=1)\n"
   ]
  },
  {
   "cell_type": "code",
   "execution_count": 138,
   "metadata": {},
   "outputs": [
    {
     "name": "stdout",
     "output_type": "stream",
     "text": [
      "layer                   input                dtype     output               dtype \n",
      "(0) Conv                (32, 112, 92, 1)   (float64) | (32, 37, 30, 96)   (float32)\n",
      "(1) Relu                (32, 37, 30, 96)   (float32) | (32, 37, 30, 96)   (float32)\n",
      "(2) Conv                (32, 37, 30, 96)   (float32) | (32, 18, 14, 256)  (float32)\n",
      "(3) Relu                (32, 18, 14, 256)  (float32) | (32, 18, 14, 256)  (float32)\n",
      "(4) Conv                (32, 18, 14, 256)  (float32) | (32, 8, 6, 384)    (float32)\n",
      "(5) Relu                (32, 8, 6, 384)    (float32) | (32, 8, 6, 384)    (float32)\n",
      "(6) Avg2D               (32, 8, 6, 384)    (float32) | (32, 384)          (float32)\n"
     ]
    },
    {
     "data": {
      "text/plain": [
       "ShapeDtype{shape:(32, 384), dtype:float32}"
      ]
     },
     "execution_count": 138,
     "metadata": {},
     "output_type": "execute_result"
    }
   ],
   "source": [
    "@assert_shape('bwhc->bd')\n",
    "def Encoder(config) -> cb.Serial:\n",
    "    model = cb.Serial(\n",
    "        tl.Conv(config[\"filters1\"], kernel_size=(3, 3), strides=(3, 3)),\n",
    "        tl.Relu(),\n",
    "        tl.Conv(config[\"filters2\"], kernel_size=(3, 3), strides=(2, 2)),\n",
    "        tl.Relu(),\n",
    "        tl.Conv(config[\"filters3\"], kernel_size=(3, 3), strides=(2, 2)),\n",
    "        tl.Relu(),\n",
    "        Avg2D(),\n",
    "    )\n",
    "    return model\n",
    "\n",
    "\n",
    "config = {\n",
    "    \"filters1\": 96,\n",
    "    \"filters2\": 256,\n",
    "    \"filters3\": 384,\n",
    "}\n",
    "encoder = Encoder(config)\n",
    "encoder.init_weights_and_state(signature(X))\n",
    "summary(encoder, X)\n"
   ]
  },
  {
   "cell_type": "code",
   "execution_count": 139,
   "metadata": {},
   "outputs": [
    {
     "data": {
      "text/plain": [
       "array([1.06323986, 0.80185963, 0.97461545, 0.90348607, 1.00795089,\n",
       "       1.09119619, 1.09871483, 1.35661994, 0.89394497, 0.99746945,\n",
       "       1.18472159, 0.59169836, 0.90698596, 1.10514335, 1.40214996,\n",
       "       0.81984001, 0.88808493, 0.79970648, 0.94182016, 1.02701846,\n",
       "       0.69856776, 1.4105474 , 0.98327833, 1.09168267, 1.2169808 ,\n",
       "       0.9075846 , 1.26023062, 0.99176536, 1.34564714, 1.22965689,\n",
       "       0.87278832, 1.10909032])"
      ]
     },
     "execution_count": 139,
     "metadata": {},
     "output_type": "execute_result"
    }
   ],
   "source": [
    "x1 = rng.random((32, 8))\n",
    "x2 = rng.random((32, 8))\n",
    "yhat = rng.integers(0, 2, 32)\n",
    "np.linalg.norm(x1 - x2, axis=-1)\n"
   ]
  },
  {
   "cell_type": "code",
   "execution_count": 140,
   "metadata": {},
   "outputs": [
    {
     "data": {
      "text/plain": [
       "DeviceArray(0.59690595, dtype=float32)"
      ]
     },
     "execution_count": 140,
     "metadata": {},
     "output_type": "execute_result"
    }
   ],
   "source": [
    "class ContrastiveLoss:\n",
    "    def __init__(self, margin: float = 1.0):\n",
    "        self.margin = margin\n",
    "\n",
    "    def __repr__(self) -> str:\n",
    "        return \"ContrastiveLoss\"\n",
    "\n",
    "    def __call__(self, y1, y2, yhat):\n",
    "        distance = jnp.linalg.norm(y1 - y2, axis=-1)\n",
    "        distance_ = jnp.clip(distance, 1e-14, 10)\n",
    "        return jnp.mean(\n",
    "            yhat * distance + (1 - yhat) * jnp.maximum(0, self.margin - distance)\n",
    "        )\n",
    "\n",
    "\n",
    "loss = ContrastiveLoss()\n",
    "loss(x1, x2, yhat)\n"
   ]
  },
  {
   "cell_type": "code",
   "execution_count": 141,
   "metadata": {},
   "outputs": [],
   "source": [
    "def Siamese(config):\n",
    "    encoder = Encoder(config)\n",
    "    model = cb.Parallel(encoder, encoder)\n",
    "    return model\n"
   ]
  },
  {
   "cell_type": "code",
   "execution_count": 144,
   "metadata": {},
   "outputs": [
    {
     "data": {
      "text/plain": [
       "(ShapeDtype{shape:(32, 384), dtype:float32},\n",
       " ShapeDtype{shape:(32, 384), dtype:float32})"
      ]
     },
     "execution_count": 144,
     "metadata": {},
     "output_type": "execute_result"
    }
   ],
   "source": [
    "X1 = rng.random((32,) + np.array(img).shape + (1,))\n",
    "X2 = rng.random((32,) + np.array(img).shape + (1,))\n",
    "siamese = Siamese(config)\n",
    "siamese.init_weights_and_state(signature((X1, X2)))\n",
    "yhat = siamese((X1, X2))\n",
    "signature(yhat)\n"
   ]
  },
  {
   "cell_type": "code",
   "execution_count": 145,
   "metadata": {},
   "outputs": [
    {
     "data": {
      "text/plain": [
       "Parallel_in2_out2[\n",
       "  Serial[\n",
       "    Conv\n",
       "    Serial[\n",
       "      Relu\n",
       "    ]\n",
       "    Conv\n",
       "    Serial[\n",
       "      Relu\n",
       "    ]\n",
       "    Conv\n",
       "    Serial[\n",
       "      Relu\n",
       "    ]\n",
       "    Avg2D\n",
       "  ]\n",
       "  Serial[\n",
       "    Conv\n",
       "    Serial[\n",
       "      Relu\n",
       "    ]\n",
       "    Conv\n",
       "    Serial[\n",
       "      Relu\n",
       "    ]\n",
       "    Conv\n",
       "    Serial[\n",
       "      Relu\n",
       "    ]\n",
       "    Avg2D\n",
       "  ]\n",
       "]"
      ]
     },
     "execution_count": 145,
     "metadata": {},
     "output_type": "execute_result"
    }
   ],
   "source": [
    "siamese\n"
   ]
  },
  {
   "cell_type": "code",
   "execution_count": null,
   "metadata": {},
   "outputs": [],
   "source": []
  }
 ],
 "metadata": {
  "interpreter": {
   "hash": "a15911aab0965639e9482f052beb89e7ca291bb3f153727c5758e3fe9ad1321e"
  },
  "kernelspec": {
   "display_name": "Python 3.8.13 ('deep-learning-xB8KIJr7-py3.9')",
   "language": "python",
   "name": "python3"
  },
  "language_info": {
   "codemirror_mode": {
    "name": "ipython",
    "version": 3
   },
   "file_extension": ".py",
   "mimetype": "text/x-python",
   "name": "python",
   "nbconvert_exporter": "python",
   "pygments_lexer": "ipython3",
   "version": "3.8.13"
  },
  "orig_nbformat": 4
 },
 "nbformat": 4,
 "nbformat_minor": 2
}
