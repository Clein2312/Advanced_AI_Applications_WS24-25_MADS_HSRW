{
 "cells": [
  {
   "cell_type": "code",
   "execution_count": 20,
   "metadata": {},
   "outputs": [],
   "source": [
    "import sys\n",
    "import jax.numpy as jnp\n",
    "import numpy as np\n",
    "from trax import layers as tl\n",
    "from trax.shapes import signature\n",
    "from trax.layers import combinators as cb\n",
    "from trax.layers.assert_shape import assert_shape\n",
    "\n",
    "sys.path.insert(0, \"../..\")\n",
    "from src.models.build import summary\n",
    "from pathlib import Path\n",
    "from src.data import data_tools\n",
    "\n",
    "from src.settings import SiameseSettings\n",
    "\n",
    "settings = SiameseSettings()\n"
   ]
  },
  {
   "cell_type": "markdown",
   "metadata": {},
   "source": [
    "# load some data"
   ]
  },
  {
   "cell_type": "code",
   "execution_count": 21,
   "metadata": {},
   "outputs": [
    {
     "name": "stderr",
     "output_type": "stream",
     "text": [
      "100%|██████████| 3.80M/3.80M [00:01<00:00, 3.68MiB/s]\n"
     ]
    }
   ],
   "source": [
    "url = settings.url\n",
    "data_dir = settings.data_dir\n",
    "\n",
    "data_tools.get_file(data_dir, settings.file, url)\n"
   ]
  },
  {
   "cell_type": "markdown",
   "metadata": {},
   "source": [
    "# get the paths"
   ]
  },
  {
   "cell_type": "code",
   "execution_count": 22,
   "metadata": {},
   "outputs": [],
   "source": [
    "from src.data import data_tools\n",
    "\n",
    "paths, _ = data_tools.iter_valid_paths(data_dir / settings.training, formats=[\".pgm\"])\n"
   ]
  },
  {
   "cell_type": "markdown",
   "metadata": {},
   "source": [
    "Lets have a look at a file.\n",
    "This are faces of 40 subjects, and every subject has 10 photos."
   ]
  },
  {
   "cell_type": "code",
   "execution_count": 23,
   "metadata": {},
   "outputs": [
    {
     "name": "stdout",
     "output_type": "stream",
     "text": [
      "Shape: (112, 92)\n"
     ]
    },
    {
     "data": {
      "image/png": "[encoded data removed]",
      "text/plain": [
       "<PIL.PpmImagePlugin.PpmImageFile image mode=L size=92x112>"
      ]
     },
     "execution_count": 23,
     "metadata": {},
     "output_type": "execute_result"
    }
   ],
   "source": [
    "file = next(paths)\n",
    "from PIL import Image\n",
    "\n",
    "img = Image.open(file)\n",
    "print(f\"Shape: {np.array(img).shape}\")\n",
    "img\n"
   ]
  },
  {
   "cell_type": "markdown",
   "metadata": {},
   "source": [
    "Images are shaped (112, 92, 1)"
   ]
  },
  {
   "cell_type": "code",
   "execution_count": 24,
   "metadata": {},
   "outputs": [
    {
     "data": {
      "text/plain": [
       "(32, 112, 92, 1)"
      ]
     },
     "execution_count": 24,
     "metadata": {},
     "output_type": "execute_result"
    }
   ],
   "source": [
    "import numpy as np\n",
    "\n",
    "rng = np.random.default_rng()\n",
    "X = rng.random((32,) + np.array(img).shape + (1,))\n",
    "X.shape\n"
   ]
  },
  {
   "cell_type": "markdown",
   "metadata": {},
   "source": [
    "The idea of the siamese model is to have an encoder that transforms images into vectors.\n",
    "Our basemodel is a basic CNN"
   ]
  },
  {
   "cell_type": "code",
   "execution_count": 25,
   "metadata": {},
   "outputs": [
    {
     "name": "stdout",
     "output_type": "stream",
     "text": [
      "layer                   input                dtype     output               dtype \n",
      "(0) Conv                (32, 112, 92, 1)   (float64) | (32, 37, 30, 96)   (float32)\n",
      "(1) Relu                (32, 37, 30, 96)   (float32) | (32, 37, 30, 96)   (float32)\n",
      "(2) Conv                (32, 37, 30, 96)   (float32) | (32, 18, 14, 256)  (float32)\n",
      "(3) Relu                (32, 18, 14, 256)  (float32) | (32, 18, 14, 256)  (float32)\n",
      "(4) Conv                (32, 18, 14, 256)  (float32) | (32, 8, 6, 384)    (float32)\n",
      "(5) Relu                (32, 8, 6, 384)    (float32) | (32, 8, 6, 384)    (float32)\n",
      "(6) Avg2D               (32, 8, 6, 384)    (float32) | (32, 384)          (float32)\n"
     ]
    },
    {
     "data": {
      "text/plain": [
       "ShapeDtype{shape:(32, 384), dtype:float32}"
      ]
     },
     "execution_count": 25,
     "metadata": {},
     "output_type": "execute_result"
    }
   ],
   "source": [
    "def Avg2D():\n",
    "    return tl.Fn(\"Avg2D\", lambda x: x.mean(axis=(1, 2)), n_out=1)\n",
    "\n",
    "\n",
    "@assert_shape(\"bwhc->bd\")\n",
    "def Encoder(config) -> cb.Serial:\n",
    "    model = cb.Serial(\n",
    "        tl.Conv(config[\"filters1\"], kernel_size=(3, 3), strides=(3, 3)),\n",
    "        tl.Relu(),\n",
    "        tl.Conv(config[\"filters2\"], kernel_size=(3, 3), strides=(2, 2)),\n",
    "        tl.Relu(),\n",
    "        tl.Conv(config[\"filters3\"], kernel_size=(3, 3), strides=(2, 2)),\n",
    "        tl.Relu(),\n",
    "        Avg2D(),\n",
    "    )\n",
    "    return model\n",
    "\n",
    "\n",
    "config = {\n",
    "    \"filters1\": 96,\n",
    "    \"filters2\": 256,\n",
    "    \"filters3\": 384,\n",
    "}\n",
    "encoder = Encoder(config)\n",
    "encoder.init_weights_and_state(signature(X))\n",
    "summary(encoder, X)\n"
   ]
  },
  {
   "cell_type": "markdown",
   "metadata": {},
   "source": [
    "As you can check, we start out with a batch of 32 images, each (112,92) big, with 1 channel.\n",
    "Our model has three layers, and transforms the images into vectors of lenght 384.\n",
    "\n",
    "The idea of the siamese model is to calculate the distance between the two.\n",
    "We will subtract and calculate the L2 norm, $$\\sqrt{||x_1 - x_2||^2}$$\n",
    "\n",
    "This is a generalized form of the Pythagoras formula"
   ]
  },
  {
   "cell_type": "code",
   "execution_count": 26,
   "metadata": {},
   "outputs": [
    {
     "data": {
      "text/plain": [
       "array([1.07719866, 1.14299861, 1.02750944, 0.65954882, 0.98387584,\n",
       "       1.02697084, 1.07833309, 0.99599219, 0.82441366, 1.1453552 ,\n",
       "       1.46424912, 1.21094332, 1.54924209, 1.24016068, 0.72707926,\n",
       "       1.16887726, 1.01208151, 1.17729566, 0.96513907, 0.92295388,\n",
       "       1.12956337, 1.36923379, 1.07489065, 0.9027057 , 1.11131096,\n",
       "       1.30398411, 0.7336572 , 1.26711052, 1.27269505, 0.96871354,\n",
       "       1.04435153, 0.88830364])"
      ]
     },
     "execution_count": 26,
     "metadata": {},
     "output_type": "execute_result"
    }
   ],
   "source": [
    "x1 = rng.random((32, 8))\n",
    "x2 = rng.random((32, 8))\n",
    "yhat = rng.integers(0, 2, 32)\n",
    "distance = np.linalg.norm(x1 - x2, axis=-1)\n",
    "distance\n"
   ]
  },
  {
   "cell_type": "markdown",
   "metadata": {},
   "source": [
    "Our aim is:\n",
    "we want the images from the same class (the same person) to be close to each other, and images from different persons to be far away.\n",
    "\n",
    "We do this with contrastive loss:\n",
    "$$\\hat{y} * d + (1-\\hat{y}) * max(0, m - d)$$\n",
    "\n",
    "where $m$ is the margin we choose as \"close\".\n",
    "Let's implement this as a proper loss class."
   ]
  },
  {
   "cell_type": "code",
   "execution_count": 27,
   "metadata": {},
   "outputs": [
    {
     "data": {
      "text/plain": [
       "DeviceArray(0.6684706, dtype=float32)"
      ]
     },
     "execution_count": 27,
     "metadata": {},
     "output_type": "execute_result"
    }
   ],
   "source": [
    "class ContrastiveLoss:\n",
    "    def __init__(self, margin: float = 1.0):\n",
    "        self.margin = margin\n",
    "\n",
    "    def __repr__(self) -> str:\n",
    "        return \"ContrastiveLoss\"\n",
    "\n",
    "    def __call__(self, y1, y2, yhat):\n",
    "        distance = jnp.linalg.norm(y1 - y2, axis=-1)\n",
    "        distance_ = jnp.clip(distance, 1e-14, 10)\n",
    "        return jnp.mean(\n",
    "            yhat * distance + (1 - yhat) * jnp.maximum(0, self.margin - distance)\n",
    "        )\n",
    "\n",
    "\n",
    "loss = ContrastiveLoss()\n",
    "loss(x1, x2, yhat)\n"
   ]
  },
  {
   "cell_type": "markdown",
   "metadata": {},
   "source": [
    "With trax, creating a Siamese network is a piece of cake."
   ]
  },
  {
   "cell_type": "code",
   "execution_count": 28,
   "metadata": {},
   "outputs": [],
   "source": [
    "def Siamese(config):\n",
    "    encoder = Encoder(config)\n",
    "    model = cb.Parallel(encoder, encoder)\n",
    "    return model\n"
   ]
  },
  {
   "cell_type": "code",
   "execution_count": 32,
   "metadata": {},
   "outputs": [
    {
     "data": {
      "text/plain": [
       "(ShapeDtype{shape:(32, 384), dtype:float32},\n",
       " ShapeDtype{shape:(32, 384), dtype:float32})"
      ]
     },
     "execution_count": 32,
     "metadata": {},
     "output_type": "execute_result"
    }
   ],
   "source": [
    "img1 = rng.random((32,) + np.array(img).shape + (1,))\n",
    "img2 = rng.random((32,) + np.array(img).shape + (1,))\n",
    "y = rng.random(32)\n",
    "siamese = Siamese(config)\n",
    "siamese.init_weights_and_state(signature((img1, img2)))\n",
    "x1, x2 = siamese((img1, img2))\n",
    "signature((x1, x2))\n"
   ]
  },
  {
   "cell_type": "code",
   "execution_count": 33,
   "metadata": {},
   "outputs": [
    {
     "data": {
      "text/plain": [
       "DeviceArray(0.4690957, dtype=float32)"
      ]
     },
     "execution_count": 33,
     "metadata": {},
     "output_type": "execute_result"
    }
   ],
   "source": [
    "loss(x1, x2, y)"
   ]
  },
  {
   "cell_type": "markdown",
   "metadata": {},
   "source": [
    "All that is left to do is to create a proper dataloader, and to wrap everything in a trainloop.\n",
    "\n",
    "Another strategy would be to use transfer learing;\n",
    "e.g. if we load a pretrained resnet from torchvision, and slap on a final Dense layer, \n",
    "our training is probably faster and more accurate."
   ]
  }
 ],
 "metadata": {
  "interpreter": {
   "hash": "a15911aab0965639e9482f052beb89e7ca291bb3f153727c5758e3fe9ad1321e"
  },
  "kernelspec": {
   "display_name": "Python 3.8.13 ('deep-learning-xB8KIJr7-py3.9')",
   "language": "python",
   "name": "python3"
  },
  "language_info": {
   "codemirror_mode": {
    "name": "ipython",
    "version": 3
   },
   "file_extension": ".py",
   "mimetype": "text/x-python",
   "name": "python",
   "nbconvert_exporter": "python",
   "pygments_lexer": "ipython3",
   "version": "3.8.13"
  },
  "orig_nbformat": 4
 },
 "nbformat": 4,
 "nbformat_minor": 2
}
