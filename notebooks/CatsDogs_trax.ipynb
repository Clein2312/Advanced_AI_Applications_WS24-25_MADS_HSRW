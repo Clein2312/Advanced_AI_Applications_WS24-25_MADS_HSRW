{
 "cells": [
  {
   "cell_type": "code",
   "execution_count": null,
   "metadata": {},
   "outputs": [],
   "source": [
    "import trax\n",
    "trax.fastmath.backend_name()"
   ]
  },
  {
   "cell_type": "code",
   "execution_count": null,
   "metadata": {},
   "outputs": [],
   "source": [
    "from pathlib import Path\n",
    "datadir = Path(\"../data\")"
   ]
  },
  {
   "cell_type": "code",
   "execution_count": null,
   "metadata": {},
   "outputs": [],
   "source": [
    "train_stream = trax.data.TFDS(\n",
    "    'cats_vs_dogs', \n",
    "    keys=('image', 'label'), \n",
    "    train=True)()"
   ]
  },
  {
   "cell_type": "code",
   "execution_count": null,
   "metadata": {},
   "outputs": [],
   "source": [
    "eval_stream = trax.data.TFDS(\n",
    "    'cats_vs_dogs', \n",
    "    keys=('image', 'label'), \n",
    "    train=False)()"
   ]
  },
  {
   "cell_type": "code",
   "execution_count": null,
   "metadata": {},
   "outputs": [],
   "source": [
    "from trax import layers as tl\n",
    "train_data_pipeline = trax.data.Serial(\n",
    "    trax.data.Shuffle(),\n",
    "    trax.data.Batch(8),\n",
    ")\n",
    "\n",
    "train_batches_stream = train_data_pipeline(train_stream)\n",
    "\n",
    "eval_data_pipeline = trax.data.Batch(8)\n",
    "\n",
    "eval_batches_stream = eval_data_pipeline(eval_stream)"
   ]
  },
  {
   "cell_type": "code",
   "execution_count": null,
   "metadata": {},
   "outputs": [],
   "source": [
    "example_batch = next(train_batches_stream)"
   ]
  },
  {
   "cell_type": "code",
   "execution_count": null,
   "metadata": {},
   "outputs": [],
   "source": [
    "print(f'batch shape (image, label) = {[x.shape for x in example_batch]}')"
   ]
  },
  {
   "cell_type": "code",
   "execution_count": null,
   "metadata": {},
   "outputs": [],
   "source": [
    "X = example_batch[0]\n",
    "X.shape"
   ]
  },
  {
   "cell_type": "code",
   "execution_count": null,
   "metadata": {},
   "outputs": [],
   "source": [
    "i = 2 # check the i-th image"
   ]
  },
  {
   "cell_type": "code",
   "execution_count": null,
   "metadata": {},
   "outputs": [],
   "source": [
    "%matplotlib inline\n",
    "import seaborn as sns\n",
    "img = X[i, :, :, 0]\n",
    "sns.heatmap(img)"
   ]
  },
  {
   "cell_type": "code",
   "execution_count": null,
   "metadata": {},
   "outputs": [],
   "source": [
    "model = tl.Serial(\n",
    "      tl.ToFloat(),\n",
    "\n",
    "      tl.Conv(32, (3, 3), (1, 1), 'SAME'),\n",
    "      tl.LayerNorm(),\n",
    "      tl.Relu(),\n",
    "      tl.MaxPool(),\n",
    "\n",
    "      tl.Conv(64, (3, 3), (1, 1), 'SAME'),\n",
    "      tl.LayerNorm(),\n",
    "      tl.Relu(),\n",
    "      tl.MaxPool(),\n",
    "\n",
    "      tl.Flatten(),\n",
    "      tl.Dense(10),\n",
    ")"
   ]
  },
  {
   "cell_type": "code",
   "execution_count": null,
   "metadata": {},
   "outputs": [],
   "source": [
    "from trax.supervised import training\n",
    "\n",
    "train_task = training.TrainTask(\n",
    "    labeled_data=train_batches_stream,\n",
    "    loss_layer=tl.CategoryCrossEntropy(),\n",
    "    optimizer=trax.optimizers.Adam(0.01),\n",
    "    n_steps_per_checkpoint=100,\n",
    ")\n",
    "\n",
    "eval_task = training.EvalTask(\n",
    "    labeled_data=eval_batches_stream,\n",
    "    metrics=[tl.CategoryCrossEntropy(), tl.CategoryAccuracy()],\n",
    "    n_eval_batches=20,\n",
    ")"
   ]
  },
  {
   "cell_type": "code",
   "execution_count": null,
   "metadata": {},
   "outputs": [],
   "source": [
    "training_loop = training.Loop(model, \n",
    "                              train_task, \n",
    "                              eval_tasks=[eval_task], \n",
    "                              output_dir='./cnn_model2')\n",
    "\n",
    "training_loop.run(1000)"
   ]
  },
  {
   "cell_type": "code",
   "execution_count": null,
   "metadata": {},
   "outputs": [],
   "source": [
    "X, y = next(eval_batches_stream)\n",
    "y"
   ]
  },
  {
   "cell_type": "code",
   "execution_count": null,
   "metadata": {},
   "outputs": [],
   "source": [
    "X.shape, y.shape"
   ]
  },
  {
   "cell_type": "code",
   "execution_count": null,
   "metadata": {},
   "outputs": [],
   "source": [
    "yhat = model.forward(X)\n",
    "yhat.shape"
   ]
  },
  {
   "cell_type": "code",
   "execution_count": null,
   "metadata": {},
   "outputs": [],
   "source": [
    "import trax.fastmath.numpy as np\n",
    "np.argmax(yhat, axis=0)"
   ]
  },
  {
   "cell_type": "code",
   "execution_count": null,
   "metadata": {},
   "outputs": [],
   "source": [
    "y"
   ]
  },
  {
   "cell_type": "code",
   "execution_count": null,
   "metadata": {},
   "outputs": [],
   "source": [
    "from trax.models.resnet import Resnet50\n",
    "\n",
    "resn = Resnet50(n_output_classes=10)"
   ]
  },
  {
   "cell_type": "code",
   "execution_count": null,
   "metadata": {},
   "outputs": [],
   "source": [
    "training_loop = training.Loop(resn, \n",
    "                              train_task, \n",
    "                              eval_tasks=[eval_task], \n",
    "                              output_dir='./resnet50')\n",
    "\n",
    "training_loop.run(1000)"
   ]
  },
  {
   "cell_type": "code",
   "execution_count": null,
   "metadata": {},
   "outputs": [],
   "source": []
  }
 ],
 "metadata": {
  "interpreter": {
   "hash": "26ecd70c250b5fc210d88fc9e1a14b5d0dd9aee31ae2ed2f5669e6e14392ba9e"
  },
  "kernelspec": {
   "display_name": "Python 3.8.12 ('deep-learning-xB8KIJr7-py3.8')",
   "language": "python",
   "name": "python3"
  },
  "language_info": {
   "codemirror_mode": {
    "name": "ipython",
    "version": 3
   },
   "file_extension": ".py",
   "mimetype": "text/x-python",
   "name": "python",
   "nbconvert_exporter": "python",
   "pygments_lexer": "ipython3",
   "version": "3.8.12"
  },
  "orig_nbformat": 4
 },
 "nbformat": 4,
 "nbformat_minor": 2
}
